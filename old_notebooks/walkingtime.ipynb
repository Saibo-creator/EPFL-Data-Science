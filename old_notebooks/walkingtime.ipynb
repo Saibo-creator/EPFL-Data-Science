{
 "cells": [
  {
   "cell_type": "code",
   "execution_count": 29,
   "metadata": {},
   "outputs": [],
   "source": [
    "from geopy.distance import distance as geo_dist"
   ]
  },
  {
   "cell_type": "code",
   "execution_count": 30,
   "metadata": {},
   "outputs": [
    {
     "data": {
      "text/html": [
       "\n",
       "        <div>\n",
       "            <p><b>SparkContext</b></p>\n",
       "\n",
       "            <p><a href=\"http://10.90.38.21:4048\">Spark UI</a></p>\n",
       "\n",
       "            <dl>\n",
       "              <dt>Version</dt>\n",
       "                <dd><code>v2.2.0.2.6.4.0-91</code></dd>\n",
       "              <dt>Master</dt>\n",
       "                <dd><code>yarn</code></dd>\n",
       "              <dt>AppName</dt>\n",
       "                <dd><code>final_project-sciuto</code></dd>\n",
       "            </dl>\n",
       "        </div>\n",
       "        "
      ],
      "text/plain": [
       "<SparkContext master=yarn appName=final_project-sciuto>"
      ]
     },
     "execution_count": 30,
     "metadata": {},
     "output_type": "execute_result"
    }
   ],
   "source": [
    "import getpass\n",
    "import pyspark\n",
    "from pyspark.sql import SparkSession\n",
    "\n",
    "conf = pyspark.conf.SparkConf()\n",
    "conf.setMaster('yarn')\n",
    "conf.setAppName('final_project-{0}'.format(getpass.getuser()))\n",
    "conf.set('spark.executor.memory', '4g')\n",
    "conf.set('spark.executor.instances', '6')\n",
    "conf.set('spark.port.maxRetries', '100')\n",
    "sc = pyspark.SparkContext.getOrCreate(conf)\n",
    "conf = sc.getConf()\n",
    "sc\n"
   ]
  },
  {
   "cell_type": "code",
   "execution_count": 31,
   "metadata": {},
   "outputs": [],
   "source": [
    "spark = SparkSession(sc)"
   ]
  },
  {
   "cell_type": "code",
   "execution_count": 32,
   "metadata": {},
   "outputs": [],
   "source": [
    "zurich_geo = (47.378177, 8.540192)"
   ]
  },
  {
   "cell_type": "code",
   "execution_count": 33,
   "metadata": {},
   "outputs": [],
   "source": [
    "stops = sc.textFile(\"/datasets/project/metadata/BFKOORD_GEO\")\n",
    "stops = stops.map(lambda x: x.split()).map(lambda x: (int(x[0]), float(x[2]), float(x[1]), int(x[3]), \" \".join(x[5:])))\n",
    "stops = stops.map(lambda x: (*x, geo_dist(zurich_geo, (x[1], x[2])).km ))\n",
    "stops = stops.filter(lambda x: x[5] <= 10)"
   ]
  },
  {
   "cell_type": "code",
   "execution_count": 64,
   "metadata": {},
   "outputs": [],
   "source": [
    "stops_df = stops.toDF().toPandas()"
   ]
  },
  {
   "cell_type": "code",
   "execution_count": 65,
   "metadata": {},
   "outputs": [],
   "source": [
    "stops_df.columns = ['id', 'latitude', 'longitude', 'elevation', 'station_name', 'dist_to_zurich_HB']"
   ]
  },
  {
   "cell_type": "code",
   "execution_count": 66,
   "metadata": {},
   "outputs": [],
   "source": [
    "stops_df.to_csv(\"zurich_hb_stops.csv\", index=False, encoding='utf-8')"
   ]
  },
  {
   "cell_type": "code",
   "execution_count": 70,
   "metadata": {},
   "outputs": [
    {
     "data": {
      "text/html": [
       "<div>\n",
       "<style>\n",
       "    .dataframe thead tr:only-child th {\n",
       "        text-align: right;\n",
       "    }\n",
       "\n",
       "    .dataframe thead th {\n",
       "        text-align: left;\n",
       "    }\n",
       "\n",
       "    .dataframe tbody tr th {\n",
       "        vertical-align: top;\n",
       "    }\n",
       "</style>\n",
       "<table border=\"1\" class=\"dataframe\">\n",
       "  <thead>\n",
       "    <tr style=\"text-align: right;\">\n",
       "      <th></th>\n",
       "      <th>id</th>\n",
       "      <th>latitude</th>\n",
       "      <th>longitude</th>\n",
       "      <th>elevation</th>\n",
       "      <th>station_name</th>\n",
       "      <th>dist_to_zurich_HB</th>\n",
       "    </tr>\n",
       "  </thead>\n",
       "  <tbody>\n",
       "    <tr>\n",
       "      <th>106</th>\n",
       "      <td>8530471</td>\n",
       "      <td>47.376858</td>\n",
       "      <td>8.546402</td>\n",
       "      <td>446</td>\n",
       "      <td>Hochschulen</td>\n",
       "      <td>0.491363</td>\n",
       "    </tr>\n",
       "  </tbody>\n",
       "</table>\n",
       "</div>"
      ],
      "text/plain": [
       "          id   latitude  longitude  elevation station_name  dist_to_zurich_HB\n",
       "106  8530471  47.376858   8.546402        446  Hochschulen           0.491363"
      ]
     },
     "execution_count": 70,
     "metadata": {},
     "output_type": "execute_result"
    }
   ],
   "source": [
    "stops_df.loc[stops_df.station_name == 'Hochschulen'].head()"
   ]
  },
  {
   "cell_type": "code",
   "execution_count": 71,
   "metadata": {},
   "outputs": [
    {
     "data": {
      "text/html": [
       "<div>\n",
       "<style>\n",
       "    .dataframe thead tr:only-child th {\n",
       "        text-align: right;\n",
       "    }\n",
       "\n",
       "    .dataframe thead th {\n",
       "        text-align: left;\n",
       "    }\n",
       "\n",
       "    .dataframe tbody tr th {\n",
       "        vertical-align: top;\n",
       "    }\n",
       "</style>\n",
       "<table border=\"1\" class=\"dataframe\">\n",
       "  <thead>\n",
       "    <tr style=\"text-align: right;\">\n",
       "      <th></th>\n",
       "      <th>id</th>\n",
       "      <th>latitude</th>\n",
       "      <th>longitude</th>\n",
       "      <th>elevation</th>\n",
       "      <th>station_name</th>\n",
       "      <th>dist_to_zurich_HB</th>\n",
       "    </tr>\n",
       "  </thead>\n",
       "  <tbody>\n",
       "    <tr>\n",
       "      <th>77</th>\n",
       "      <td>8503500</td>\n",
       "      <td>47.376858</td>\n",
       "      <td>8.546402</td>\n",
       "      <td>446</td>\n",
       "      <td>Zürich Polyterrasse</td>\n",
       "      <td>0.491363</td>\n",
       "    </tr>\n",
       "  </tbody>\n",
       "</table>\n",
       "</div>"
      ],
      "text/plain": [
       "         id   latitude  longitude  elevation         station_name  \\\n",
       "77  8503500  47.376858   8.546402        446  Zürich Polyterrasse   \n",
       "\n",
       "    dist_to_zurich_HB  \n",
       "77           0.491363  "
      ]
     },
     "execution_count": 71,
     "metadata": {},
     "output_type": "execute_result"
    }
   ],
   "source": [
    "stops_df.loc[stops_df.station_name == 'Zürich Polyterrasse'].head()"
   ]
  },
  {
   "cell_type": "code",
   "execution_count": 72,
   "metadata": {},
   "outputs": [],
   "source": [
    "x = stops.map(lambda x : (x[0], x[1], x[2],x[3],x[4]))\\\n",
    "    .toDF((\"id\", \"latitude\", \"longitude\",'elevation','station_name'))"
   ]
  },
  {
   "cell_type": "code",
   "execution_count": 73,
   "metadata": {},
   "outputs": [],
   "source": [
    "x = x.filter(x.station_name != 'Hochschulen')"
   ]
  },
  {
   "cell_type": "code",
   "execution_count": 74,
   "metadata": {},
   "outputs": [],
   "source": [
    "x2 = stops.map(lambda x : (x[0], x[1], x[2],x[3],x[4]))\\\n",
    "    .toDF((\"id2\", \"latitude2\", \"longitude2\",'elevation2','station_name2'))"
   ]
  },
  {
   "cell_type": "code",
   "execution_count": 76,
   "metadata": {},
   "outputs": [],
   "source": [
    "x2 = x2.filter(x2.station_name2 != 'Hochschulen')"
   ]
  },
  {
   "cell_type": "code",
   "execution_count": 55,
   "metadata": {},
   "outputs": [
    {
     "name": "stdout",
     "output_type": "stream",
     "text": [
      "+-------+---------+---------+---------+--------------------+\n",
      "|     id| latitude|longitude|elevation|        station_name|\n",
      "+-------+---------+---------+---------+--------------------+\n",
      "|    176|47.351679| 8.521961|        0|Zimmerberg-Basist...|\n",
      "|8502220|47.390882| 8.434713|      442|              Urdorf|\n",
      "|8502221|47.357432| 8.437543|      488|      Birmensdorf ZH|\n",
      "|8502222|47.325896| 8.468175|      528| Bonstetten-Wettswil|\n",
      "|8502229|47.380971|  8.43033|      456|   Urdorf Weihermatt|\n",
      "|8502559|47.368305| 8.463472|      588|Waldegg, Birmensd...|\n",
      "|8502572|47.370293| 8.513918|      421|Zürich, Goldbrunn...|\n",
      "|8502876|47.338209| 8.438705|      537|Aesch ZH, Gemeind...|\n",
      "|8502885|47.315088| 8.467781|      528|Bonstetten, Dorfp...|\n",
      "|8502950|47.353936| 8.437173|      468|Birmensdorf ZH, Z...|\n",
      "|8503000|47.378177| 8.540192|      408|           Zürich HB|\n",
      "|8503001|47.391481|  8.48894|      399|   Zürich Altstetten|\n",
      "|8503003|47.366611| 8.548466|      411|  Zürich Stadelhofen|\n",
      "|8503004|47.350124| 8.561372|      408|Zürich Tiefenbrunnen|\n",
      "|8503006|47.411529| 8.544115|      442|     Zürich Oerlikon|\n",
      "|8503007|47.418747| 8.544636|      442|      Zürich Seebach|\n",
      "|8503008|47.420913| 8.508565|      456|    Zürich Affoltern|\n",
      "|8503009| 47.34744| 8.533588|      409|  Zürich Wollishofen|\n",
      "|8503010|47.364099| 8.530805|      409|         Zürich Enge|\n",
      "|8503011|47.371472| 8.523462|      405|     Zürich Wiedikon|\n",
      "+-------+---------+---------+---------+--------------------+\n",
      "only showing top 20 rows\n",
      "\n"
     ]
    }
   ],
   "source": [
    "x.select('id','latitude','longitude','elevation','station_name').show()"
   ]
  },
  {
   "cell_type": "code",
   "execution_count": 77,
   "metadata": {
    "scrolled": true
   },
   "outputs": [
    {
     "name": "stdout",
     "output_type": "stream",
     "text": [
      "+---+---------+---------+---------+--------------------+-------+---------+----------+----------+--------------------+\n",
      "| id| latitude|longitude|elevation|        station_name|    id2|latitude2|longitude2|elevation2|       station_name2|\n",
      "+---+---------+---------+---------+--------------------+-------+---------+----------+----------+--------------------+\n",
      "|176|47.351679| 8.521961|        0|Zimmerberg-Basist...|    176|47.351679|  8.521961|         0|Zimmerberg-Basist...|\n",
      "|176|47.351679| 8.521961|        0|Zimmerberg-Basist...|8502220|47.390882|  8.434713|       442|              Urdorf|\n",
      "|176|47.351679| 8.521961|        0|Zimmerberg-Basist...|8502221|47.357432|  8.437543|       488|      Birmensdorf ZH|\n",
      "|176|47.351679| 8.521961|        0|Zimmerberg-Basist...|8502222|47.325896|  8.468175|       528| Bonstetten-Wettswil|\n",
      "|176|47.351679| 8.521961|        0|Zimmerberg-Basist...|8502229|47.380971|   8.43033|       456|   Urdorf Weihermatt|\n",
      "|176|47.351679| 8.521961|        0|Zimmerberg-Basist...|8502559|47.368305|  8.463472|       588|Waldegg, Birmensd...|\n",
      "|176|47.351679| 8.521961|        0|Zimmerberg-Basist...|8502572|47.370293|  8.513918|       421|Zürich, Goldbrunn...|\n",
      "|176|47.351679| 8.521961|        0|Zimmerberg-Basist...|8502876|47.338209|  8.438705|       537|Aesch ZH, Gemeind...|\n",
      "|176|47.351679| 8.521961|        0|Zimmerberg-Basist...|8502885|47.315088|  8.467781|       528|Bonstetten, Dorfp...|\n",
      "|176|47.351679| 8.521961|        0|Zimmerberg-Basist...|8502950|47.353936|  8.437173|       468|Birmensdorf ZH, Z...|\n",
      "|176|47.351679| 8.521961|        0|Zimmerberg-Basist...|8503000|47.378177|  8.540192|       408|           Zürich HB|\n",
      "|176|47.351679| 8.521961|        0|Zimmerberg-Basist...|8503001|47.391481|   8.48894|       399|   Zürich Altstetten|\n",
      "|176|47.351679| 8.521961|        0|Zimmerberg-Basist...|8503003|47.366611|  8.548466|       411|  Zürich Stadelhofen|\n",
      "|176|47.351679| 8.521961|        0|Zimmerberg-Basist...|8503004|47.350124|  8.561372|       408|Zürich Tiefenbrunnen|\n",
      "|176|47.351679| 8.521961|        0|Zimmerberg-Basist...|8503006|47.411529|  8.544115|       442|     Zürich Oerlikon|\n",
      "|176|47.351679| 8.521961|        0|Zimmerberg-Basist...|8503007|47.418747|  8.544636|       442|      Zürich Seebach|\n",
      "|176|47.351679| 8.521961|        0|Zimmerberg-Basist...|8503008|47.420913|  8.508565|       456|    Zürich Affoltern|\n",
      "|176|47.351679| 8.521961|        0|Zimmerberg-Basist...|8503009| 47.34744|  8.533588|       409|  Zürich Wollishofen|\n",
      "|176|47.351679| 8.521961|        0|Zimmerberg-Basist...|8503010|47.364099|  8.530805|       409|         Zürich Enge|\n",
      "|176|47.351679| 8.521961|        0|Zimmerberg-Basist...|8503011|47.371472|  8.523462|       405|     Zürich Wiedikon|\n",
      "+---+---------+---------+---------+--------------------+-------+---------+----------+----------+--------------------+\n",
      "only showing top 20 rows\n",
      "\n"
     ]
    }
   ],
   "source": [
    "y = x.crossJoin(x2)\n",
    "y.select('id',\n",
    "         'latitude',\n",
    "         'longitude',\n",
    "         'elevation',\n",
    "         'station_name',\n",
    "         'id2',\n",
    "         'latitude2',\n",
    "         'longitude2',\n",
    "         'elevation2',\n",
    "         'station_name2').show()"
   ]
  },
  {
   "cell_type": "code",
   "execution_count": 78,
   "metadata": {},
   "outputs": [],
   "source": [
    "z = y.filter(y.id!=y.id2)"
   ]
  },
  {
   "cell_type": "code",
   "execution_count": 79,
   "metadata": {},
   "outputs": [],
   "source": [
    "w = z.withColumn('elevation_diff', ((z['elevation2'])-(z['elevation']))/1000)\n"
   ]
  },
  {
   "cell_type": "code",
   "execution_count": 18,
   "metadata": {},
   "outputs": [
    {
     "data": {
      "text/plain": [
       "1078482"
      ]
     },
     "execution_count": 18,
     "metadata": {},
     "output_type": "execute_result"
    }
   ],
   "source": [
    "w.count()"
   ]
  },
  {
   "cell_type": "code",
   "execution_count": 80,
   "metadata": {},
   "outputs": [],
   "source": [
    "slope = w.rdd.map(lambda x:(x['id'],x['station_name'],x['id2'],x['station_name2'],x['elevation_diff'],( geo_dist((x['latitude'],x['longitude']),(x['latitude2'],x['longitude2'])).km)))\n"
   ]
  },
  {
   "cell_type": "code",
   "execution_count": 96,
   "metadata": {},
   "outputs": [
    {
     "data": {
      "text/plain": [
       "[(176, 'Zimmerberg-Basistunnel', 8502220, 'Urdorf', 0.442, 7.900620499193736),\n",
       " (176,\n",
       "  'Zimmerberg-Basistunnel',\n",
       "  8502221,\n",
       "  'Birmensdorf ZH',\n",
       "  0.488,\n",
       "  6.409889233734277)]"
      ]
     },
     "execution_count": 96,
     "metadata": {},
     "output_type": "execute_result"
    }
   ],
   "source": [
    "slope.take(2)"
   ]
  },
  {
   "cell_type": "code",
   "execution_count": 81,
   "metadata": {},
   "outputs": [],
   "source": [
    "slope_df = slope.map(lambda x:(x[0],x[1],x[2],x[3],x[4],x[5])).toDF(('id','station_name','id2','station_name2','elevation_diff','horizontal_distance'))"
   ]
  },
  {
   "cell_type": "code",
   "execution_count": 98,
   "metadata": {},
   "outputs": [
    {
     "name": "stdout",
     "output_type": "stream",
     "text": [
      "+---+--------------------+-------+--------------------+--------------+-------------------+\n",
      "| id|        station_name|    id2|       station_name2|elevation_diff|horizontal_distance|\n",
      "+---+--------------------+-------+--------------------+--------------+-------------------+\n",
      "|176|Zimmerberg-Basist...|8502220|              Urdorf|         0.442|  7.900620499193736|\n",
      "|176|Zimmerberg-Basist...|8502221|      Birmensdorf ZH|         0.488|  6.409889233734277|\n",
      "|176|Zimmerberg-Basist...|8502222| Bonstetten-Wettswil|         0.528|  4.973881682664052|\n",
      "|176|Zimmerberg-Basist...|8502229|   Urdorf Weihermatt|         0.456|   7.64919276254611|\n",
      "|176|Zimmerberg-Basist...|8502559|Waldegg, Birmensd...|         0.588|  4.789534136228712|\n",
      "|176|Zimmerberg-Basist...|8502572|Zürich, Goldbrunn...|         0.421| 2.1568139712470535|\n",
      "|176|Zimmerberg-Basist...|8502876|Aesch ZH, Gemeind...|         0.537|  6.467032600536777|\n",
      "|176|Zimmerberg-Basist...|8502885|Bonstetten, Dorfp...|         0.528|   5.77221601567293|\n",
      "|176|Zimmerberg-Basist...|8502950|Birmensdorf ZH, Z...|         0.468|  6.410976291867674|\n",
      "|176|Zimmerberg-Basist...|8503000|           Zürich HB|         0.408|  3.251969131789274|\n",
      "|176|Zimmerberg-Basist...|8503001|   Zürich Altstetten|         0.399|   5.07952138040677|\n",
      "|176|Zimmerberg-Basist...|8503003|  Zürich Stadelhofen|         0.411| 2.6010051411153077|\n",
      "|176|Zimmerberg-Basist...|8503004|Zürich Tiefenbrunnen|         0.408|  2.982776206610737|\n",
      "|176|Zimmerberg-Basist...|8503006|     Zürich Oerlikon|         0.442|  6.861094097166227|\n",
      "|176|Zimmerberg-Basist...|8503007|      Zürich Seebach|         0.442|  7.650551886074556|\n",
      "|176|Zimmerberg-Basist...|8503008|    Zürich Affoltern|         0.456|  7.763496590747959|\n",
      "|176|Zimmerberg-Basist...|8503009|  Zürich Wollishofen|         0.409| 0.9969466325441478|\n",
      "|176|Zimmerberg-Basist...|8503010|         Zürich Enge|         0.409| 1.5339788647412218|\n",
      "|176|Zimmerberg-Basist...|8503011|     Zürich Wiedikon|         0.405| 2.2034633360304414|\n",
      "|176|Zimmerberg-Basist...|8503015|    Zürich Wipkingen|         0.425| 4.6313755747002645|\n",
      "+---+--------------------+-------+--------------------+--------------+-------------------+\n",
      "only showing top 20 rows\n",
      "\n"
     ]
    }
   ],
   "source": [
    "slope_df.show()"
   ]
  },
  {
   "cell_type": "code",
   "execution_count": 82,
   "metadata": {},
   "outputs": [],
   "source": [
    "import pyspark.sql.functions as functions\n",
    "w = slope_df.withColumn('slope_angle', functions.toDegrees(functions.tanh(slope_df['elevation_diff']/slope_df['horizontal_distance'])))"
   ]
  },
  {
   "cell_type": "code",
   "execution_count": 100,
   "metadata": {},
   "outputs": [
    {
     "name": "stdout",
     "output_type": "stream",
     "text": [
      "+---+--------------------+-------+--------------------+--------------+-------------------+------------------+\n",
      "| id|        station_name|    id2|       station_name2|elevation_diff|horizontal_distance|       slope_angle|\n",
      "+---+--------------------+-------+--------------------+--------------+-------------------+------------------+\n",
      "|176|Zimmerberg-Basist...|8502220|              Urdorf|         0.442|  7.900620499193736|3.2020708745119815|\n",
      "|176|Zimmerberg-Basist...|8502221|      Birmensdorf ZH|         0.488|  6.409889233734277| 4.353654749320563|\n",
      "|176|Zimmerberg-Basist...|8502222| Bonstetten-Wettswil|         0.528|  4.973881682664052| 6.059461876618016|\n",
      "|176|Zimmerberg-Basist...|8502229|   Urdorf Weihermatt|         0.456|   7.64919276254611| 3.411597787356277|\n",
      "|176|Zimmerberg-Basist...|8502559|Waldegg, Birmensd...|         0.588|  4.789534136228712| 6.998942810880068|\n",
      "|176|Zimmerberg-Basist...|8502572|Zürich, Goldbrunn...|         0.421| 2.1568139712470535|11.043960418569181|\n",
      "|176|Zimmerberg-Basist...|8502876|Aesch ZH, Gemeind...|         0.537|  6.467032600536777|4.7467385067308205|\n",
      "|176|Zimmerberg-Basist...|8502885|Bonstetten, Dorfp...|         0.528|   5.77221601567293| 5.226429005355506|\n",
      "|176|Zimmerberg-Basist...|8502950|Birmensdorf ZH, Z...|         0.468|  6.410976291867674| 4.175166746320993|\n",
      "|176|Zimmerberg-Basist...|8503000|           Zürich HB|         0.408|  3.251969131789274| 7.150987117310189|\n",
      "|176|Zimmerberg-Basist...|8503001|   Zürich Altstetten|         0.399|   5.07952138040677| 4.491390223042301|\n",
      "|176|Zimmerberg-Basist...|8503003|  Zürich Stadelhofen|         0.411| 2.6010051411153077| 8.979032067243331|\n",
      "|176|Zimmerberg-Basist...|8503004|Zürich Tiefenbrunnen|         0.408|  2.982776206610737| 7.788705915093172|\n",
      "|176|Zimmerberg-Basist...|8503006|     Zürich Oerlikon|         0.442|  6.861094097166227|3.6859659574038806|\n",
      "|176|Zimmerberg-Basist...|8503007|      Zürich Seebach|         0.442|  7.650551886074556| 3.306506023881216|\n",
      "|176|Zimmerberg-Basist...|8503008|    Zürich Affoltern|         0.456|  7.763496590747959| 3.361484214942029|\n",
      "|176|Zimmerberg-Basist...|8503009|  Zürich Wollishofen|         0.409| 0.9969466325441478| 22.27013515211401|\n",
      "|176|Zimmerberg-Basist...|8503010|         Zürich Enge|         0.409| 1.5339788647412218|14.924597157738134|\n",
      "|176|Zimmerberg-Basist...|8503011|     Zürich Wiedikon|         0.405| 2.2034633360304414|10.414044366595302|\n",
      "|176|Zimmerberg-Basist...|8503015|    Zürich Wipkingen|         0.425| 4.6313755747002645| 5.243060907760845|\n",
      "+---+--------------------+-------+--------------------+--------------+-------------------+------------------+\n",
      "only showing top 20 rows\n",
      "\n"
     ]
    }
   ],
   "source": [
    "w.show()"
   ]
  },
  {
   "cell_type": "code",
   "execution_count": 83,
   "metadata": {},
   "outputs": [],
   "source": [
    "def return_speed(theta):\n",
    "    if (theta >=0 and theta <0.1):\n",
    "        return 4.5\n",
    "    elif (theta>=0.1 and theta<2.5):\n",
    "        return 4\n",
    "    elif (theta>=2.5 and theta<5):\n",
    "        return 3\n",
    "    elif (theta>=5 and theta<7.5):\n",
    "        return 2.5\n",
    "    elif (theta>=7.5 and theta<10):\n",
    "        return 2\n",
    "    elif (theta>=10):\n",
    "        return 0.4\n",
    "    else:\n",
    "        return 6\n",
    "\n"
   ]
  },
  {
   "cell_type": "code",
   "execution_count": 84,
   "metadata": {
    "scrolled": true
   },
   "outputs": [
    {
     "name": "stdout",
     "output_type": "stream",
     "text": [
      "+---+------------+---+-------------+--------------+-------------------+-----------+\n",
      "| id|station_name|id2|station_name2|elevation_diff|horizontal_distance|slope_angle|\n",
      "+---+------------+---+-------------+--------------+-------------------+-----------+\n",
      "+---+------------+---+-------------+--------------+-------------------+-----------+\n",
      "\n"
     ]
    }
   ],
   "source": [
    "w.filter(w.slope_angle.isNull()).show()"
   ]
  },
  {
   "cell_type": "code",
   "execution_count": 85,
   "metadata": {},
   "outputs": [],
   "source": [
    "from pyspark.sql.functions import udf\n",
    "speed_udf = udf(return_speed)\n",
    "w = w.withColumn('speed',speed_udf(w.slope_angle))"
   ]
  },
  {
   "cell_type": "code",
   "execution_count": 86,
   "metadata": {},
   "outputs": [],
   "source": [
    "w = w.withColumn('walking_time',w['horizontal_distance']/w['speed'])"
   ]
  },
  {
   "cell_type": "code",
   "execution_count": 87,
   "metadata": {},
   "outputs": [],
   "source": [
    "w = w.withColumn('walk_minutes', functions.round(w.walking_time * 60))"
   ]
  },
  {
   "cell_type": "code",
   "execution_count": 48,
   "metadata": {},
   "outputs": [
    {
     "name": "stdout",
     "output_type": "stream",
     "text": [
      "+---+--------------------+-------+--------------------+--------------+-------------------+------------------+-----+------------------+------------+\n",
      "| id|        station_name|    id2|       station_name2|elevation_diff|horizontal_distance|       slope_angle|speed|      walking_time|walk_minutes|\n",
      "+---+--------------------+-------+--------------------+--------------+-------------------+------------------+-----+------------------+------------+\n",
      "|176|Zimmerberg-Basist...|8502220|              Urdorf|         0.442|  7.900620499193736|3.2020708745119815|    3| 2.633540166397912|       158.0|\n",
      "|176|Zimmerberg-Basist...|8502221|      Birmensdorf ZH|         0.488|  6.409889233734277| 4.353654749320563|    3| 2.136629744578092|       128.0|\n",
      "|176|Zimmerberg-Basist...|8502222| Bonstetten-Wettswil|         0.528|  4.973881682664052| 6.059461876618016|  2.5|1.9895526730656208|       119.0|\n",
      "|176|Zimmerberg-Basist...|8502229|   Urdorf Weihermatt|         0.456|   7.64919276254611| 3.411597787356277|    3|2.5497309208487033|       153.0|\n",
      "|176|Zimmerberg-Basist...|8502559|Waldegg, Birmensd...|         0.588|  4.789534136228712| 6.998942810880068|  2.5|1.9158136544914846|       115.0|\n",
      "+---+--------------------+-------+--------------------+--------------+-------------------+------------------+-----+------------------+------------+\n",
      "only showing top 5 rows\n",
      "\n"
     ]
    }
   ],
   "source": [
    "w.show(5)"
   ]
  },
  {
   "cell_type": "code",
   "execution_count": 46,
   "metadata": {},
   "outputs": [
    {
     "data": {
      "text/plain": [
       "1078482"
      ]
     },
     "execution_count": 46,
     "metadata": {},
     "output_type": "execute_result"
    }
   ],
   "source": [
    "w.count()"
   ]
  },
  {
   "cell_type": "code",
   "execution_count": 88,
   "metadata": {},
   "outputs": [],
   "source": [
    "w_pandas = w.toPandas()"
   ]
  },
  {
   "cell_type": "code",
   "execution_count": 89,
   "metadata": {},
   "outputs": [
    {
     "data": {
      "text/html": [
       "<div>\n",
       "<style>\n",
       "    .dataframe thead tr:only-child th {\n",
       "        text-align: right;\n",
       "    }\n",
       "\n",
       "    .dataframe thead th {\n",
       "        text-align: left;\n",
       "    }\n",
       "\n",
       "    .dataframe tbody tr th {\n",
       "        vertical-align: top;\n",
       "    }\n",
       "</style>\n",
       "<table border=\"1\" class=\"dataframe\">\n",
       "  <thead>\n",
       "    <tr style=\"text-align: right;\">\n",
       "      <th></th>\n",
       "      <th>id</th>\n",
       "      <th>station_name</th>\n",
       "      <th>id2</th>\n",
       "      <th>station_name2</th>\n",
       "      <th>elevation_diff</th>\n",
       "      <th>horizontal_distance</th>\n",
       "      <th>slope_angle</th>\n",
       "      <th>speed</th>\n",
       "      <th>walking_time</th>\n",
       "      <th>walk_minutes</th>\n",
       "    </tr>\n",
       "  </thead>\n",
       "  <tbody>\n",
       "    <tr>\n",
       "      <th>0</th>\n",
       "      <td>176</td>\n",
       "      <td>Zimmerberg-Basistunnel</td>\n",
       "      <td>8502220</td>\n",
       "      <td>Urdorf</td>\n",
       "      <td>0.442</td>\n",
       "      <td>7.900620</td>\n",
       "      <td>3.202071</td>\n",
       "      <td>3</td>\n",
       "      <td>2.633540</td>\n",
       "      <td>158.0</td>\n",
       "    </tr>\n",
       "    <tr>\n",
       "      <th>1</th>\n",
       "      <td>176</td>\n",
       "      <td>Zimmerberg-Basistunnel</td>\n",
       "      <td>8502221</td>\n",
       "      <td>Birmensdorf ZH</td>\n",
       "      <td>0.488</td>\n",
       "      <td>6.409889</td>\n",
       "      <td>4.353655</td>\n",
       "      <td>3</td>\n",
       "      <td>2.136630</td>\n",
       "      <td>128.0</td>\n",
       "    </tr>\n",
       "    <tr>\n",
       "      <th>2</th>\n",
       "      <td>176</td>\n",
       "      <td>Zimmerberg-Basistunnel</td>\n",
       "      <td>8502222</td>\n",
       "      <td>Bonstetten-Wettswil</td>\n",
       "      <td>0.528</td>\n",
       "      <td>4.973882</td>\n",
       "      <td>6.059462</td>\n",
       "      <td>2.5</td>\n",
       "      <td>1.989553</td>\n",
       "      <td>119.0</td>\n",
       "    </tr>\n",
       "    <tr>\n",
       "      <th>3</th>\n",
       "      <td>176</td>\n",
       "      <td>Zimmerberg-Basistunnel</td>\n",
       "      <td>8502229</td>\n",
       "      <td>Urdorf Weihermatt</td>\n",
       "      <td>0.456</td>\n",
       "      <td>7.649193</td>\n",
       "      <td>3.411598</td>\n",
       "      <td>3</td>\n",
       "      <td>2.549731</td>\n",
       "      <td>153.0</td>\n",
       "    </tr>\n",
       "    <tr>\n",
       "      <th>4</th>\n",
       "      <td>176</td>\n",
       "      <td>Zimmerberg-Basistunnel</td>\n",
       "      <td>8502559</td>\n",
       "      <td>Waldegg, Birmensdorferstrasse</td>\n",
       "      <td>0.588</td>\n",
       "      <td>4.789534</td>\n",
       "      <td>6.998943</td>\n",
       "      <td>2.5</td>\n",
       "      <td>1.915814</td>\n",
       "      <td>115.0</td>\n",
       "    </tr>\n",
       "  </tbody>\n",
       "</table>\n",
       "</div>"
      ],
      "text/plain": [
       "    id            station_name      id2                  station_name2  \\\n",
       "0  176  Zimmerberg-Basistunnel  8502220                         Urdorf   \n",
       "1  176  Zimmerberg-Basistunnel  8502221                 Birmensdorf ZH   \n",
       "2  176  Zimmerberg-Basistunnel  8502222            Bonstetten-Wettswil   \n",
       "3  176  Zimmerberg-Basistunnel  8502229              Urdorf Weihermatt   \n",
       "4  176  Zimmerberg-Basistunnel  8502559  Waldegg, Birmensdorferstrasse   \n",
       "\n",
       "   elevation_diff  horizontal_distance  slope_angle speed  walking_time  \\\n",
       "0           0.442             7.900620     3.202071     3      2.633540   \n",
       "1           0.488             6.409889     4.353655     3      2.136630   \n",
       "2           0.528             4.973882     6.059462   2.5      1.989553   \n",
       "3           0.456             7.649193     3.411598     3      2.549731   \n",
       "4           0.588             4.789534     6.998943   2.5      1.915814   \n",
       "\n",
       "   walk_minutes  \n",
       "0         158.0  \n",
       "1         128.0  \n",
       "2         119.0  \n",
       "3         153.0  \n",
       "4         115.0  "
      ]
     },
     "execution_count": 89,
     "metadata": {},
     "output_type": "execute_result"
    }
   ],
   "source": [
    "w_pandas.head()"
   ]
  },
  {
   "cell_type": "code",
   "execution_count": 90,
   "metadata": {},
   "outputs": [],
   "source": [
    "w_pandas.to_csv('walking_time_table.csv')"
   ]
  },
  {
   "cell_type": "code",
   "execution_count": 91,
   "metadata": {},
   "outputs": [],
   "source": [
    "import pandas as pd"
   ]
  },
  {
   "cell_type": "code",
   "execution_count": 93,
   "metadata": {},
   "outputs": [],
   "source": [
    "walking_pandas = pd.DataFrame.from_csv('walking_time_table.csv')"
   ]
  },
  {
   "cell_type": "code",
   "execution_count": 94,
   "metadata": {},
   "outputs": [
    {
     "data": {
      "text/html": [
       "<div>\n",
       "<style>\n",
       "    .dataframe thead tr:only-child th {\n",
       "        text-align: right;\n",
       "    }\n",
       "\n",
       "    .dataframe thead th {\n",
       "        text-align: left;\n",
       "    }\n",
       "\n",
       "    .dataframe tbody tr th {\n",
       "        vertical-align: top;\n",
       "    }\n",
       "</style>\n",
       "<table border=\"1\" class=\"dataframe\">\n",
       "  <thead>\n",
       "    <tr style=\"text-align: right;\">\n",
       "      <th></th>\n",
       "      <th>id</th>\n",
       "      <th>station_name</th>\n",
       "      <th>id2</th>\n",
       "      <th>station_name2</th>\n",
       "      <th>elevation_diff</th>\n",
       "      <th>horizontal_distance</th>\n",
       "      <th>slope_angle</th>\n",
       "      <th>speed</th>\n",
       "      <th>walking_time</th>\n",
       "      <th>walk_minutes</th>\n",
       "    </tr>\n",
       "  </thead>\n",
       "  <tbody>\n",
       "    <tr>\n",
       "      <th>0</th>\n",
       "      <td>176</td>\n",
       "      <td>Zimmerberg-Basistunnel</td>\n",
       "      <td>8502220</td>\n",
       "      <td>Urdorf</td>\n",
       "      <td>0.442</td>\n",
       "      <td>7.900620</td>\n",
       "      <td>3.202071</td>\n",
       "      <td>3.0</td>\n",
       "      <td>2.633540</td>\n",
       "      <td>158.0</td>\n",
       "    </tr>\n",
       "    <tr>\n",
       "      <th>1</th>\n",
       "      <td>176</td>\n",
       "      <td>Zimmerberg-Basistunnel</td>\n",
       "      <td>8502221</td>\n",
       "      <td>Birmensdorf ZH</td>\n",
       "      <td>0.488</td>\n",
       "      <td>6.409889</td>\n",
       "      <td>4.353655</td>\n",
       "      <td>3.0</td>\n",
       "      <td>2.136630</td>\n",
       "      <td>128.0</td>\n",
       "    </tr>\n",
       "    <tr>\n",
       "      <th>2</th>\n",
       "      <td>176</td>\n",
       "      <td>Zimmerberg-Basistunnel</td>\n",
       "      <td>8502222</td>\n",
       "      <td>Bonstetten-Wettswil</td>\n",
       "      <td>0.528</td>\n",
       "      <td>4.973882</td>\n",
       "      <td>6.059462</td>\n",
       "      <td>2.5</td>\n",
       "      <td>1.989553</td>\n",
       "      <td>119.0</td>\n",
       "    </tr>\n",
       "    <tr>\n",
       "      <th>3</th>\n",
       "      <td>176</td>\n",
       "      <td>Zimmerberg-Basistunnel</td>\n",
       "      <td>8502229</td>\n",
       "      <td>Urdorf Weihermatt</td>\n",
       "      <td>0.456</td>\n",
       "      <td>7.649193</td>\n",
       "      <td>3.411598</td>\n",
       "      <td>3.0</td>\n",
       "      <td>2.549731</td>\n",
       "      <td>153.0</td>\n",
       "    </tr>\n",
       "    <tr>\n",
       "      <th>4</th>\n",
       "      <td>176</td>\n",
       "      <td>Zimmerberg-Basistunnel</td>\n",
       "      <td>8502559</td>\n",
       "      <td>Waldegg, Birmensdorferstrasse</td>\n",
       "      <td>0.588</td>\n",
       "      <td>4.789534</td>\n",
       "      <td>6.998943</td>\n",
       "      <td>2.5</td>\n",
       "      <td>1.915814</td>\n",
       "      <td>115.0</td>\n",
       "    </tr>\n",
       "  </tbody>\n",
       "</table>\n",
       "</div>"
      ],
      "text/plain": [
       "    id            station_name      id2                  station_name2  \\\n",
       "0  176  Zimmerberg-Basistunnel  8502220                         Urdorf   \n",
       "1  176  Zimmerberg-Basistunnel  8502221                 Birmensdorf ZH   \n",
       "2  176  Zimmerberg-Basistunnel  8502222            Bonstetten-Wettswil   \n",
       "3  176  Zimmerberg-Basistunnel  8502229              Urdorf Weihermatt   \n",
       "4  176  Zimmerberg-Basistunnel  8502559  Waldegg, Birmensdorferstrasse   \n",
       "\n",
       "   elevation_diff  horizontal_distance  slope_angle  speed  walking_time  \\\n",
       "0           0.442             7.900620     3.202071    3.0      2.633540   \n",
       "1           0.488             6.409889     4.353655    3.0      2.136630   \n",
       "2           0.528             4.973882     6.059462    2.5      1.989553   \n",
       "3           0.456             7.649193     3.411598    3.0      2.549731   \n",
       "4           0.588             4.789534     6.998943    2.5      1.915814   \n",
       "\n",
       "   walk_minutes  \n",
       "0         158.0  \n",
       "1         128.0  \n",
       "2         119.0  \n",
       "3         153.0  \n",
       "4         115.0  "
      ]
     },
     "execution_count": 94,
     "metadata": {},
     "output_type": "execute_result"
    }
   ],
   "source": [
    "walking_pandas.head()"
   ]
  },
  {
   "cell_type": "code",
   "execution_count": null,
   "metadata": {},
   "outputs": [],
   "source": []
  },
  {
   "cell_type": "code",
   "execution_count": null,
   "metadata": {},
   "outputs": [],
   "source": []
  },
  {
   "cell_type": "code",
   "execution_count": 28,
   "metadata": {},
   "outputs": [],
   "source": [
    "sc.stop()"
   ]
  },
  {
   "cell_type": "code",
   "execution_count": null,
   "metadata": {},
   "outputs": [],
   "source": []
  }
 ],
 "metadata": {
  "kernelspec": {
   "display_name": "Python 3",
   "language": "python",
   "name": "python3"
  },
  "language_info": {
   "codemirror_mode": {
    "name": "ipython",
    "version": 3
   },
   "file_extension": ".py",
   "mimetype": "text/x-python",
   "name": "python",
   "nbconvert_exporter": "python",
   "pygments_lexer": "ipython3",
   "version": "3.6.3"
  }
 },
 "nbformat": 4,
 "nbformat_minor": 2
}
