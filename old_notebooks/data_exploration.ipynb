{
 "cells": [
  {
   "cell_type": "markdown",
   "metadata": {},
   "source": [
    "## Initialize the `SparkSession`"
   ]
  },
  {
   "cell_type": "code",
   "execution_count": 1,
   "metadata": {},
   "outputs": [
    {
     "data": {
      "text/html": [
       "\n",
       "        <div>\n",
       "            <p><b>SparkContext</b></p>\n",
       "\n",
       "            <p><a href=\"http://10.90.38.21:4042\">Spark UI</a></p>\n",
       "\n",
       "            <dl>\n",
       "              <dt>Version</dt>\n",
       "                <dd><code>v2.2.0.2.6.4.0-91</code></dd>\n",
       "              <dt>Master</dt>\n",
       "                <dd><code>yarn</code></dd>\n",
       "              <dt>AppName</dt>\n",
       "                <dd><code>final_project-sciuto</code></dd>\n",
       "            </dl>\n",
       "        </div>\n",
       "        "
      ],
      "text/plain": [
       "<SparkContext master=yarn appName=final_project-sciuto>"
      ]
     },
     "execution_count": 1,
     "metadata": {},
     "output_type": "execute_result"
    }
   ],
   "source": [
    "import getpass\n",
    "import pyspark\n",
    "from pyspark.sql import SparkSession\n",
    "\n",
    "conf = pyspark.conf.SparkConf()\n",
    "conf.setMaster('yarn')\n",
    "conf.setAppName('final_project-{0}'.format(getpass.getuser()))\n",
    "conf.set('spark.executor.memory', '4g')\n",
    "conf.set('spark.executor.instances', '6')\n",
    "conf.set('spark.port.maxRetries', '100')\n",
    "sc = pyspark.SparkContext.getOrCreate(conf)\n",
    "conf = sc.getConf()\n",
    "sc"
   ]
  },
  {
   "cell_type": "code",
   "execution_count": 2,
   "metadata": {},
   "outputs": [],
   "source": [
    "spark = SparkSession(sc)"
   ]
  },
  {
   "cell_type": "code",
   "execution_count": 3,
   "metadata": {},
   "outputs": [],
   "source": [
    "from datetime import datetime\n",
    "\n",
    "import pyspark.sql.functions as functions"
   ]
  },
  {
   "cell_type": "markdown",
   "metadata": {},
   "source": [
    "### load whole dataset"
   ]
  },
  {
   "cell_type": "code",
   "execution_count": 4,
   "metadata": {},
   "outputs": [],
   "source": [
    "whole_df = spark.read.csv(\"/datasets/project/istdaten/*/*/*.csv\", header=True, sep=\";\")"
   ]
  },
  {
   "cell_type": "code",
   "execution_count": 5,
   "metadata": {
    "scrolled": false
   },
   "outputs": [
    {
     "data": {
      "text/plain": [
       "196232995"
      ]
     },
     "execution_count": 5,
     "metadata": {},
     "output_type": "execute_result"
    }
   ],
   "source": [
    "whole_df.count()"
   ]
  },
  {
   "cell_type": "markdown",
   "metadata": {},
   "source": [
    "- rename some useful columns"
   ]
  },
  {
   "cell_type": "code",
   "execution_count": 5,
   "metadata": {
    "scrolled": false
   },
   "outputs": [
    {
     "name": "stdout",
     "output_type": "stream",
     "text": [
      "['BETRIEBSTAG', 'FAHRT_BEZEICHNER', 'BETREIBER_ID', 'BETREIBER_ABK', 'BETREIBER_NAME', 'PRODUKT_ID', 'LINIEN_ID', 'LINIEN_TEXT', 'UMLAUF_ID', 'VERKEHRSMITTEL_TEXT', 'ZUSATZFAHRT_TF', 'FAELLT_AUS_TF', 'BPUIC', 'HALTESTELLEN_NAME', 'ANKUNFTSZEIT', 'AN_PROGNOSE', 'AN_PROGNOSE_STATUS', 'ABFAHRTSZEIT', 'AB_PROGNOSE', 'AB_PROGNOSE_STATUS', 'DURCHFAHRT_TF']\n"
     ]
    }
   ],
   "source": [
    "oldColumns = whole_df.schema.names\n",
    "print(oldColumns)\n",
    "newColumns = [\"date\", 'trip_id', \n",
    "              'BETREIBER_ID', 'BETREIBER_ABK',\n",
    "              'BETREIBER_NAME', \"transport_type\", \n",
    "             \"train_line\", \"train_service\", \n",
    "              'UMLAUF_ID', 'VERKEHRSMITTEL_TEXT',\n",
    "             \"additional_trip\", \"failed_trip\",\n",
    "             'BPUIC', \"station_name\", \"arrival_time\",\n",
    "             \"actual_arrival\", 'AN_PROGNOSE_STATUS',\n",
    "             \"departure_time\", \"actual_departure\",\n",
    "             'AB_PROGNOSE_STATUS', \"DURCHFAHRT_TF\"]"
   ]
  },
  {
   "cell_type": "code",
   "execution_count": 6,
   "metadata": {
    "scrolled": true
   },
   "outputs": [
    {
     "name": "stdout",
     "output_type": "stream",
     "text": [
      "root\n",
      " |-- date: string (nullable = true)\n",
      " |-- trip_id: string (nullable = true)\n",
      " |-- BETREIBER_ID: string (nullable = true)\n",
      " |-- BETREIBER_ABK: string (nullable = true)\n",
      " |-- BETREIBER_NAME: string (nullable = true)\n",
      " |-- transport_type: string (nullable = true)\n",
      " |-- train_line: string (nullable = true)\n",
      " |-- train_service: string (nullable = true)\n",
      " |-- UMLAUF_ID: string (nullable = true)\n",
      " |-- VERKEHRSMITTEL_TEXT: string (nullable = true)\n",
      " |-- additional_trip: string (nullable = true)\n",
      " |-- failed_trip: string (nullable = true)\n",
      " |-- BPUIC: string (nullable = true)\n",
      " |-- station_name: string (nullable = true)\n",
      " |-- arrival_time: string (nullable = true)\n",
      " |-- actual_arrival: string (nullable = true)\n",
      " |-- AN_PROGNOSE_STATUS: string (nullable = true)\n",
      " |-- departure_time: string (nullable = true)\n",
      " |-- actual_departure: string (nullable = true)\n",
      " |-- AB_PROGNOSE_STATUS: string (nullable = true)\n",
      " |-- DURCHFAHRT_TF: string (nullable = true)\n",
      "\n"
     ]
    }
   ],
   "source": [
    "whole_df = whole_df.toDF(*newColumns)\n",
    "whole_df.printSchema()\n",
    "# whole_df.show()"
   ]
  },
  {
   "cell_type": "markdown",
   "metadata": {},
   "source": [
    "- dropping useless columns:"
   ]
  },
  {
   "cell_type": "code",
   "execution_count": 8,
   "metadata": {},
   "outputs": [],
   "source": [
    "whole_df = whole_df.drop('BETREIBER_ID','BETREIBER_ABK', 'BETREIBER_NAME', 'UMLAUF_ID', 'BPUIC')"
   ]
  },
  {
   "cell_type": "code",
   "execution_count": 9,
   "metadata": {},
   "outputs": [
    {
     "name": "stdout",
     "output_type": "stream",
     "text": [
      "+--------------+\n",
      "|transport_type|\n",
      "+--------------+\n",
      "|           BUS|\n",
      "|          null|\n",
      "|          Tram|\n",
      "|           Zug|\n",
      "|           Bus|\n",
      "|        Schiff|\n",
      "+--------------+\n",
      "\n"
     ]
    }
   ],
   "source": [
    "whole_df.select('transport_type').distinct().show()"
   ]
  },
  {
   "cell_type": "markdown",
   "metadata": {},
   "source": [
    "- loading stations csv in the 10 Km radius:"
   ]
  },
  {
   "cell_type": "code",
   "execution_count": 9,
   "metadata": {},
   "outputs": [],
   "source": [
    "radius_stations_df = spark.read.csv('final_project/zurich_hb_stops.csv', header=True, sep=\",\")"
   ]
  },
  {
   "cell_type": "code",
   "execution_count": 10,
   "metadata": {
    "scrolled": false
   },
   "outputs": [
    {
     "data": {
      "text/plain": [
       "1039"
      ]
     },
     "execution_count": 10,
     "metadata": {},
     "output_type": "execute_result"
    }
   ],
   "source": [
    "radius_stations_df.count()"
   ]
  },
  {
   "cell_type": "markdown",
   "metadata": {},
   "source": [
    "- Inner join on station name in order to work on the stations in the 10 Km radius:"
   ]
  },
  {
   "cell_type": "code",
   "execution_count": 11,
   "metadata": {},
   "outputs": [],
   "source": [
    "filtered_df = whole_df.join(radius_stations_df, on=\"station_name\", how='inner')"
   ]
  },
  {
   "cell_type": "code",
   "execution_count": 12,
   "metadata": {},
   "outputs": [
    {
     "data": {
      "text/plain": [
       "971"
      ]
     },
     "execution_count": 12,
     "metadata": {},
     "output_type": "execute_result"
    }
   ],
   "source": [
    "filtered_df.select('station_name').distinct().count()"
   ]
  },
  {
   "cell_type": "code",
   "execution_count": 14,
   "metadata": {
    "scrolled": true
   },
   "outputs": [
    {
     "name": "stdout",
     "output_type": "stream",
     "text": [
      "+--------------+\n",
      "|transport_type|\n",
      "+--------------+\n",
      "|           BUS|\n",
      "|          null|\n",
      "|          Tram|\n",
      "|           Zug|\n",
      "|           Bus|\n",
      "+--------------+\n",
      "\n"
     ]
    }
   ],
   "source": [
    "filtered_df.select('transport_type').distinct().show()"
   ]
  },
  {
   "cell_type": "markdown",
   "metadata": {},
   "source": [
    "- First assumption for the stop time-table: we assume that the time table is the same for each regular day, we choose this day because in homework 2 we verified it was a regular day, also we make sure that the public transport stops at the specific station using the flag DURCHFAHRT_TF:"
   ]
  },
  {
   "cell_type": "code",
   "execution_count": 13,
   "metadata": {},
   "outputs": [],
   "source": [
    "first_table = filtered_df.filter((filtered_df.date == \"17.10.2017\")\\\n",
    "                                 & (filtered_df.DURCHFAHRT_TF == False) \\\n",
    "                                 & (filtered_df.additional_trip == False)).cache()"
   ]
  },
  {
   "cell_type": "code",
   "execution_count": 16,
   "metadata": {
    "scrolled": true
   },
   "outputs": [
    {
     "data": {
      "text/plain": [
       "233516"
      ]
     },
     "execution_count": 16,
     "metadata": {},
     "output_type": "execute_result"
    }
   ],
   "source": [
    "first_table.count()"
   ]
  },
  {
   "cell_type": "markdown",
   "metadata": {},
   "source": [
    "- removing rows that do not have a next stop in the radius:"
   ]
  },
  {
   "cell_type": "code",
   "execution_count": 14,
   "metadata": {},
   "outputs": [],
   "source": [
    "useful_trips = first_table.groupBy('trip_id').count().filter(\"count > 1\")"
   ]
  },
  {
   "cell_type": "code",
   "execution_count": 15,
   "metadata": {},
   "outputs": [
    {
     "data": {
      "text/plain": [
       "16282"
      ]
     },
     "execution_count": 15,
     "metadata": {},
     "output_type": "execute_result"
    }
   ],
   "source": [
    "useful_trips.count()"
   ]
  },
  {
   "cell_type": "code",
   "execution_count": 16,
   "metadata": {},
   "outputs": [],
   "source": [
    "useful_trips = useful_trips.drop('count')"
   ]
  },
  {
   "cell_type": "markdown",
   "metadata": {},
   "source": [
    "- merging with our first table:"
   ]
  },
  {
   "cell_type": "code",
   "execution_count": 17,
   "metadata": {},
   "outputs": [],
   "source": [
    "first_table = first_table.join(useful_trips, on=\"trip_id\", how='inner').cache()"
   ]
  },
  {
   "cell_type": "code",
   "execution_count": 21,
   "metadata": {
    "scrolled": true
   },
   "outputs": [
    {
     "data": {
      "text/plain": [
       "233087"
      ]
     },
     "execution_count": 21,
     "metadata": {},
     "output_type": "execute_result"
    }
   ],
   "source": [
    "first_table.count()"
   ]
  },
  {
   "cell_type": "markdown",
   "metadata": {},
   "source": [
    "- We successfully removed nearly 500 trips that have no next stop in our radius"
   ]
  },
  {
   "cell_type": "code",
   "execution_count": 19,
   "metadata": {},
   "outputs": [],
   "source": [
    "from pyspark.sql.functions import *"
   ]
  },
  {
   "cell_type": "markdown",
   "metadata": {},
   "source": [
    "- insert some valid values for arrival and departure time when they are null, in order to not have any problem during the orderBy dates."
   ]
  },
  {
   "cell_type": "code",
   "execution_count": 23,
   "metadata": {
    "collapsed": true
   },
   "outputs": [],
   "source": [
    "first_table_final = first_table\\\n",
    ".withColumn('departure_New', when(first_table.departure_time.isNull(), \n",
    "                                 first_table.arrival_time).otherwise(first_table.departure_time))\\\n",
    ".withColumn('arrival_New', when(first_table.arrival_time.isNull(), \n",
    "                                 first_table.departure_time).otherwise(first_table.arrival_time))\\\n",
    ".drop('arrival_time', 'departure_time')\\\n",
    ".select(col('station_name'), \n",
    "        col('trip_id'),\n",
    "        col('departure_New').substr(12, 5).alias('departure_time'), \n",
    "        col('arrival_New').substr(12, 5).alias('arrival_time'), \n",
    "        col('train_line'),\n",
    "        col('transport_type')\n",
    "        )\\\n"
   ]
  },
  {
   "cell_type": "code",
   "execution_count": 24,
   "metadata": {},
   "outputs": [
    {
     "name": "stdout",
     "output_type": "stream",
     "text": [
      "+----------------+--------------+--------------+------------+----------+--------------+\n",
      "|    station_name|       trip_id|departure_time|arrival_time|train_line|transport_type|\n",
      "+----------------+--------------+--------------+------------+----------+--------------+\n",
      "|       Zürich HB|85:11:1507:002|         06:39|       06:30|      1507|           Zug|\n",
      "|Zürich Flughafen|85:11:1507:002|         06:51|       06:49|      1507|           Zug|\n",
      "|       Zürich HB|85:11:1509:002|         07:39|       07:30|      1509|           Zug|\n",
      "|Zürich Flughafen|85:11:1509:002|         07:51|       07:49|      1509|           Zug|\n",
      "|Zürich Flughafen|85:11:1510:002|         07:13|       07:11|      1510|           Zug|\n",
      "+----------------+--------------+--------------+------------+----------+--------------+\n",
      "only showing top 5 rows\n",
      "\n"
     ]
    }
   ],
   "source": [
    "first_table_final.show(5)"
   ]
  },
  {
   "cell_type": "markdown",
   "metadata": {},
   "source": [
    "- Ordering our time-tables:"
   ]
  },
  {
   "cell_type": "code",
   "execution_count": 25,
   "metadata": {
    "collapsed": true,
    "scrolled": true
   },
   "outputs": [],
   "source": [
    "first_table_final = first_table_final.orderBy(desc('station_name'), 'arrival_time', 'departure_time').dropDuplicates()"
   ]
  },
  {
   "cell_type": "code",
   "execution_count": 25,
   "metadata": {},
   "outputs": [],
   "source": [
    "first_table = first_table.orderBy('trip_id', 'train_line', 'departure_time', 'arrival_time').dropDuplicates()"
   ]
  },
  {
   "cell_type": "code",
   "execution_count": 26,
   "metadata": {},
   "outputs": [
    {
     "name": "stdout",
     "output_type": "stream",
     "text": [
      "+--------------------+--------------------+--------------+------------+-----------+--------------+\n",
      "|        station_name|             trip_id|departure_time|arrival_time| train_line|transport_type|\n",
      "+--------------------+--------------------+--------------+------------+-----------+--------------+\n",
      "|Zürich,Kalkbreite...|85:3849:80541-020...|         00:03|       00:02|85:3849:002|          Tram|\n",
      "|Zürich,Kalkbreite...|85:3849:80396-020...|         00:07|       00:06|85:3849:002|          Tram|\n",
      "|Zürich,Kalkbreite...|85:849:85422-02032-1|         00:07|       00:07| 85:849:032|           Bus|\n",
      "|Zürich,Kalkbreite...|85:3849:80729-020...|         00:13|       00:12|85:3849:003|          Tram|\n",
      "|Zürich,Kalkbreite...|85:3849:80886-020...|         00:13|       00:12|85:3849:003|          Tram|\n",
      "+--------------------+--------------------+--------------+------------+-----------+--------------+\n",
      "only showing top 5 rows\n",
      "\n"
     ]
    }
   ],
   "source": [
    "first_table_final.show(5)"
   ]
  },
  {
   "cell_type": "code",
   "execution_count": 27,
   "metadata": {},
   "outputs": [
    {
     "data": {
      "text/plain": [
       "233067"
      ]
     },
     "execution_count": 27,
     "metadata": {},
     "output_type": "execute_result"
    }
   ],
   "source": [
    "first_table_final.count()"
   ]
  },
  {
   "cell_type": "markdown",
   "metadata": {},
   "source": [
    "There were 6 thousands duplicates"
   ]
  },
  {
   "cell_type": "code",
   "execution_count": 28,
   "metadata": {
    "collapsed": true
   },
   "outputs": [],
   "source": [
    "first_table_final = first_table_final.dropna()"
   ]
  },
  {
   "cell_type": "code",
   "execution_count": 29,
   "metadata": {},
   "outputs": [
    {
     "data": {
      "text/plain": [
       "233067"
      ]
     },
     "execution_count": 29,
     "metadata": {},
     "output_type": "execute_result"
    }
   ],
   "source": [
    "first_table_final.count()"
   ]
  },
  {
   "cell_type": "markdown",
   "metadata": {},
   "source": [
    "no presence of null values"
   ]
  },
  {
   "cell_type": "code",
   "execution_count": 30,
   "metadata": {},
   "outputs": [
    {
     "name": "stdout",
     "output_type": "stream",
     "text": [
      "+--------------+\n",
      "|transport_type|\n",
      "+--------------+\n",
      "|          Tram|\n",
      "|           Zug|\n",
      "|           Bus|\n",
      "+--------------+\n",
      "\n"
     ]
    }
   ],
   "source": [
    "first_table_final.select('transport_type').distinct().show()"
   ]
  },
  {
   "cell_type": "markdown",
   "metadata": {},
   "source": [
    "- showing the number of distinct stops:"
   ]
  },
  {
   "cell_type": "code",
   "execution_count": null,
   "metadata": {
    "collapsed": true
   },
   "outputs": [],
   "source": [
    "first_table_final.select('station_name').distinct().count()"
   ]
  },
  {
   "cell_type": "markdown",
   "metadata": {},
   "source": [
    "- showing the number of distinct lines:\n"
   ]
  },
  {
   "cell_type": "code",
   "execution_count": 31,
   "metadata": {},
   "outputs": [
    {
     "data": {
      "text/plain": [
       "1866"
      ]
     },
     "execution_count": 31,
     "metadata": {},
     "output_type": "execute_result"
    }
   ],
   "source": [
    "first_table_final.filter((first_table_final.transport_type == 'Zug')).select('train_line').distinct().count()"
   ]
  },
  {
   "cell_type": "code",
   "execution_count": 32,
   "metadata": {},
   "outputs": [
    {
     "data": {
      "text/plain": [
       "90"
      ]
     },
     "execution_count": 32,
     "metadata": {},
     "output_type": "execute_result"
    }
   ],
   "source": [
    "first_table_final.filter(first_table_final.transport_type == 'Bus').select('train_line').distinct().count()"
   ]
  },
  {
   "cell_type": "code",
   "execution_count": 33,
   "metadata": {},
   "outputs": [
    {
     "data": {
      "text/plain": [
       "15"
      ]
     },
     "execution_count": 33,
     "metadata": {},
     "output_type": "execute_result"
    }
   ],
   "source": [
    "first_table_final.filter(first_table_final.transport_type == 'Tram').select('train_line').distinct().count()"
   ]
  },
  {
   "cell_type": "markdown",
   "metadata": {},
   "source": [
    "- saving locally our first table:"
   ]
  },
  {
   "cell_type": "code",
   "execution_count": 26,
   "metadata": {},
   "outputs": [],
   "source": [
    "pd = first_table.toPandas()"
   ]
  },
  {
   "cell_type": "code",
   "execution_count": 27,
   "metadata": {},
   "outputs": [
    {
     "data": {
      "text/html": [
       "<div>\n",
       "<style>\n",
       "    .dataframe thead tr:only-child th {\n",
       "        text-align: right;\n",
       "    }\n",
       "\n",
       "    .dataframe thead th {\n",
       "        text-align: left;\n",
       "    }\n",
       "\n",
       "    .dataframe tbody tr th {\n",
       "        vertical-align: top;\n",
       "    }\n",
       "</style>\n",
       "<table border=\"1\" class=\"dataframe\">\n",
       "  <thead>\n",
       "    <tr style=\"text-align: right;\">\n",
       "      <th></th>\n",
       "      <th>trip_id</th>\n",
       "      <th>station_name</th>\n",
       "      <th>departure_time</th>\n",
       "      <th>arrival_time</th>\n",
       "      <th>train_line</th>\n",
       "    </tr>\n",
       "  </thead>\n",
       "  <tbody>\n",
       "    <tr>\n",
       "      <th>232924</th>\n",
       "      <td>85:882:6610-36101-1</td>\n",
       "      <td>Bassersdorf, Bahnhof</td>\n",
       "      <td>17.10.2017 12:16</td>\n",
       "      <td>None</td>\n",
       "      <td>85:882:660</td>\n",
       "    </tr>\n",
       "    <tr>\n",
       "      <th>232925</th>\n",
       "      <td>85:882:6610-36101-1</td>\n",
       "      <td>Bassersdorf, Dietlikonerstr.</td>\n",
       "      <td>17.10.2017 12:17</td>\n",
       "      <td>17.10.2017 12:16</td>\n",
       "      <td>85:882:660</td>\n",
       "    </tr>\n",
       "    <tr>\n",
       "      <th>232926</th>\n",
       "      <td>85:882:6610-36101-1</td>\n",
       "      <td>Bassersdorf, Gemeindehaus</td>\n",
       "      <td>17.10.2017 12:18</td>\n",
       "      <td>17.10.2017 12:17</td>\n",
       "      <td>85:882:660</td>\n",
       "    </tr>\n",
       "  </tbody>\n",
       "</table>\n",
       "</div>"
      ],
      "text/plain": [
       "                    trip_id                  station_name    departure_time  \\\n",
       "232924  85:882:6610-36101-1          Bassersdorf, Bahnhof  17.10.2017 12:16   \n",
       "232925  85:882:6610-36101-1  Bassersdorf, Dietlikonerstr.  17.10.2017 12:17   \n",
       "232926  85:882:6610-36101-1     Bassersdorf, Gemeindehaus  17.10.2017 12:18   \n",
       "\n",
       "            arrival_time  train_line  \n",
       "232924              None  85:882:660  \n",
       "232925  17.10.2017 12:16  85:882:660  \n",
       "232926  17.10.2017 12:17  85:882:660  "
      ]
     },
     "execution_count": 27,
     "metadata": {},
     "output_type": "execute_result"
    }
   ],
   "source": [
    "pd.loc[pd.trip_id == '85:882:6610-36101-1', ['trip_id', 'station_name', 'departure_time', 'arrival_time', 'train_line']].head()"
   ]
  },
  {
   "cell_type": "code",
   "execution_count": 34,
   "metadata": {
    "collapsed": true
   },
   "outputs": [],
   "source": [
    "pd = first_table_final.toPandas()"
   ]
  },
  {
   "cell_type": "code",
   "execution_count": 35,
   "metadata": {},
   "outputs": [
    {
     "data": {
      "text/html": [
       "<div>\n",
       "<style>\n",
       "    .dataframe thead tr:only-child th {\n",
       "        text-align: right;\n",
       "    }\n",
       "\n",
       "    .dataframe thead th {\n",
       "        text-align: left;\n",
       "    }\n",
       "\n",
       "    .dataframe tbody tr th {\n",
       "        vertical-align: top;\n",
       "    }\n",
       "</style>\n",
       "<table border=\"1\" class=\"dataframe\">\n",
       "  <thead>\n",
       "    <tr style=\"text-align: right;\">\n",
       "      <th></th>\n",
       "      <th>station_name</th>\n",
       "      <th>trip_id</th>\n",
       "      <th>departure_time</th>\n",
       "      <th>arrival_time</th>\n",
       "      <th>train_line</th>\n",
       "      <th>transport_type</th>\n",
       "    </tr>\n",
       "  </thead>\n",
       "  <tbody>\n",
       "    <tr>\n",
       "      <th>0</th>\n",
       "      <td>Zürich,Kalkbreite/Bhf.Wiedikon</td>\n",
       "      <td>85:3849:80541-02002-1</td>\n",
       "      <td>00:03</td>\n",
       "      <td>00:02</td>\n",
       "      <td>85:3849:002</td>\n",
       "      <td>Tram</td>\n",
       "    </tr>\n",
       "    <tr>\n",
       "      <th>1</th>\n",
       "      <td>Zürich,Kalkbreite/Bhf.Wiedikon</td>\n",
       "      <td>85:3849:80396-02002-1</td>\n",
       "      <td>00:07</td>\n",
       "      <td>00:06</td>\n",
       "      <td>85:3849:002</td>\n",
       "      <td>Tram</td>\n",
       "    </tr>\n",
       "    <tr>\n",
       "      <th>2</th>\n",
       "      <td>Zürich,Kalkbreite/Bhf.Wiedikon</td>\n",
       "      <td>85:849:85422-02032-1</td>\n",
       "      <td>00:07</td>\n",
       "      <td>00:07</td>\n",
       "      <td>85:849:032</td>\n",
       "      <td>Bus</td>\n",
       "    </tr>\n",
       "    <tr>\n",
       "      <th>3</th>\n",
       "      <td>Zürich,Kalkbreite/Bhf.Wiedikon</td>\n",
       "      <td>85:3849:80729-02003-1</td>\n",
       "      <td>00:13</td>\n",
       "      <td>00:12</td>\n",
       "      <td>85:3849:003</td>\n",
       "      <td>Tram</td>\n",
       "    </tr>\n",
       "    <tr>\n",
       "      <th>4</th>\n",
       "      <td>Zürich,Kalkbreite/Bhf.Wiedikon</td>\n",
       "      <td>85:3849:80886-02003-1</td>\n",
       "      <td>00:13</td>\n",
       "      <td>00:12</td>\n",
       "      <td>85:3849:003</td>\n",
       "      <td>Tram</td>\n",
       "    </tr>\n",
       "    <tr>\n",
       "      <th>5</th>\n",
       "      <td>Zürich,Kalkbreite/Bhf.Wiedikon</td>\n",
       "      <td>85:849:85529-02032-1</td>\n",
       "      <td>00:14</td>\n",
       "      <td>00:14</td>\n",
       "      <td>85:849:032</td>\n",
       "      <td>Bus</td>\n",
       "    </tr>\n",
       "    <tr>\n",
       "      <th>6</th>\n",
       "      <td>Zürich,Kalkbreite/Bhf.Wiedikon</td>\n",
       "      <td>85:3849:80335-02002-1</td>\n",
       "      <td>00:18</td>\n",
       "      <td>00:17</td>\n",
       "      <td>85:3849:002</td>\n",
       "      <td>Tram</td>\n",
       "    </tr>\n",
       "    <tr>\n",
       "      <th>7</th>\n",
       "      <td>Zürich,Kalkbreite/Bhf.Wiedikon</td>\n",
       "      <td>85:3849:80462-02002-1</td>\n",
       "      <td>00:22</td>\n",
       "      <td>00:21</td>\n",
       "      <td>85:3849:002</td>\n",
       "      <td>Tram</td>\n",
       "    </tr>\n",
       "    <tr>\n",
       "      <th>8</th>\n",
       "      <td>Zürich,Kalkbreite/Bhf.Wiedikon</td>\n",
       "      <td>85:3849:80824-02003-1</td>\n",
       "      <td>00:27</td>\n",
       "      <td>00:27</td>\n",
       "      <td>85:3849:003</td>\n",
       "      <td>Tram</td>\n",
       "    </tr>\n",
       "    <tr>\n",
       "      <th>9</th>\n",
       "      <td>Zürich,Kalkbreite/Bhf.Wiedikon</td>\n",
       "      <td>85:3849:80602-02003-1</td>\n",
       "      <td>00:28</td>\n",
       "      <td>00:27</td>\n",
       "      <td>85:3849:003</td>\n",
       "      <td>Tram</td>\n",
       "    </tr>\n",
       "    <tr>\n",
       "      <th>10</th>\n",
       "      <td>Zürich,Kalkbreite/Bhf.Wiedikon</td>\n",
       "      <td>85:849:85498-02032-1</td>\n",
       "      <td>00:28</td>\n",
       "      <td>00:27</td>\n",
       "      <td>85:849:032</td>\n",
       "      <td>Bus</td>\n",
       "    </tr>\n",
       "    <tr>\n",
       "      <th>11</th>\n",
       "      <td>Zürich,Kalkbreite/Bhf.Wiedikon</td>\n",
       "      <td>85:849:85274-02032-1</td>\n",
       "      <td>00:29</td>\n",
       "      <td>00:29</td>\n",
       "      <td>85:849:032</td>\n",
       "      <td>Bus</td>\n",
       "    </tr>\n",
       "    <tr>\n",
       "      <th>12</th>\n",
       "      <td>Zürich,Kalkbreite/Bhf.Wiedikon</td>\n",
       "      <td>85:3849:80397-02002-1</td>\n",
       "      <td>00:31</td>\n",
       "      <td>00:31</td>\n",
       "      <td>85:3849:002</td>\n",
       "      <td>Tram</td>\n",
       "    </tr>\n",
       "    <tr>\n",
       "      <th>13</th>\n",
       "      <td>Zürich,Kalkbreite/Bhf.Wiedikon</td>\n",
       "      <td>85:3849:80887-02003-1</td>\n",
       "      <td>00:33</td>\n",
       "      <td>00:33</td>\n",
       "      <td>85:3849:003</td>\n",
       "      <td>Tram</td>\n",
       "    </tr>\n",
       "    <tr>\n",
       "      <th>14</th>\n",
       "      <td>Zürich,Kalkbreite/Bhf.Wiedikon</td>\n",
       "      <td>85:849:85530-02032-1</td>\n",
       "      <td>00:34</td>\n",
       "      <td>00:33</td>\n",
       "      <td>85:849:032</td>\n",
       "      <td>Bus</td>\n",
       "    </tr>\n",
       "    <tr>\n",
       "      <th>15</th>\n",
       "      <td>Zürich,Kalkbreite/Bhf.Wiedikon</td>\n",
       "      <td>85:3849:80524-02002-1</td>\n",
       "      <td>00:37</td>\n",
       "      <td>00:36</td>\n",
       "      <td>85:3849:002</td>\n",
       "      <td>Tram</td>\n",
       "    </tr>\n",
       "    <tr>\n",
       "      <th>16</th>\n",
       "      <td>Zürich,Kalkbreite/Bhf.Wiedikon</td>\n",
       "      <td>85:3849:80694-02003-1</td>\n",
       "      <td>00:43</td>\n",
       "      <td>00:42</td>\n",
       "      <td>85:3849:003</td>\n",
       "      <td>Tram</td>\n",
       "    </tr>\n",
       "    <tr>\n",
       "      <th>17</th>\n",
       "      <td>Zürich,Kalkbreite/Bhf.Wiedikon</td>\n",
       "      <td>85:3849:80542-02002-1</td>\n",
       "      <td>00:44</td>\n",
       "      <td>00:44</td>\n",
       "      <td>85:3849:002</td>\n",
       "      <td>Tram</td>\n",
       "    </tr>\n",
       "    <tr>\n",
       "      <th>18</th>\n",
       "      <td>Zürich,Kalkbreite/Bhf.Wiedikon</td>\n",
       "      <td>85:3849:80603-02003-1</td>\n",
       "      <td>00:48</td>\n",
       "      <td>00:48</td>\n",
       "      <td>85:3849:003</td>\n",
       "      <td>Tram</td>\n",
       "    </tr>\n",
       "    <tr>\n",
       "      <th>19</th>\n",
       "      <td>Zürich,Kalkbreite/Bhf.Wiedikon</td>\n",
       "      <td>85:849:85275-02032-1</td>\n",
       "      <td>00:49</td>\n",
       "      <td>00:48</td>\n",
       "      <td>85:849:032</td>\n",
       "      <td>Bus</td>\n",
       "    </tr>\n",
       "  </tbody>\n",
       "</table>\n",
       "</div>"
      ],
      "text/plain": [
       "                      station_name                trip_id departure_time  \\\n",
       "0   Zürich,Kalkbreite/Bhf.Wiedikon  85:3849:80541-02002-1          00:03   \n",
       "1   Zürich,Kalkbreite/Bhf.Wiedikon  85:3849:80396-02002-1          00:07   \n",
       "2   Zürich,Kalkbreite/Bhf.Wiedikon   85:849:85422-02032-1          00:07   \n",
       "3   Zürich,Kalkbreite/Bhf.Wiedikon  85:3849:80729-02003-1          00:13   \n",
       "4   Zürich,Kalkbreite/Bhf.Wiedikon  85:3849:80886-02003-1          00:13   \n",
       "5   Zürich,Kalkbreite/Bhf.Wiedikon   85:849:85529-02032-1          00:14   \n",
       "6   Zürich,Kalkbreite/Bhf.Wiedikon  85:3849:80335-02002-1          00:18   \n",
       "7   Zürich,Kalkbreite/Bhf.Wiedikon  85:3849:80462-02002-1          00:22   \n",
       "8   Zürich,Kalkbreite/Bhf.Wiedikon  85:3849:80824-02003-1          00:27   \n",
       "9   Zürich,Kalkbreite/Bhf.Wiedikon  85:3849:80602-02003-1          00:28   \n",
       "10  Zürich,Kalkbreite/Bhf.Wiedikon   85:849:85498-02032-1          00:28   \n",
       "11  Zürich,Kalkbreite/Bhf.Wiedikon   85:849:85274-02032-1          00:29   \n",
       "12  Zürich,Kalkbreite/Bhf.Wiedikon  85:3849:80397-02002-1          00:31   \n",
       "13  Zürich,Kalkbreite/Bhf.Wiedikon  85:3849:80887-02003-1          00:33   \n",
       "14  Zürich,Kalkbreite/Bhf.Wiedikon   85:849:85530-02032-1          00:34   \n",
       "15  Zürich,Kalkbreite/Bhf.Wiedikon  85:3849:80524-02002-1          00:37   \n",
       "16  Zürich,Kalkbreite/Bhf.Wiedikon  85:3849:80694-02003-1          00:43   \n",
       "17  Zürich,Kalkbreite/Bhf.Wiedikon  85:3849:80542-02002-1          00:44   \n",
       "18  Zürich,Kalkbreite/Bhf.Wiedikon  85:3849:80603-02003-1          00:48   \n",
       "19  Zürich,Kalkbreite/Bhf.Wiedikon   85:849:85275-02032-1          00:49   \n",
       "\n",
       "   arrival_time   train_line transport_type  \n",
       "0         00:02  85:3849:002           Tram  \n",
       "1         00:06  85:3849:002           Tram  \n",
       "2         00:07   85:849:032            Bus  \n",
       "3         00:12  85:3849:003           Tram  \n",
       "4         00:12  85:3849:003           Tram  \n",
       "5         00:14   85:849:032            Bus  \n",
       "6         00:17  85:3849:002           Tram  \n",
       "7         00:21  85:3849:002           Tram  \n",
       "8         00:27  85:3849:003           Tram  \n",
       "9         00:27  85:3849:003           Tram  \n",
       "10        00:27   85:849:032            Bus  \n",
       "11        00:29   85:849:032            Bus  \n",
       "12        00:31  85:3849:002           Tram  \n",
       "13        00:33  85:3849:003           Tram  \n",
       "14        00:33   85:849:032            Bus  \n",
       "15        00:36  85:3849:002           Tram  \n",
       "16        00:42  85:3849:003           Tram  \n",
       "17        00:44  85:3849:002           Tram  \n",
       "18        00:48  85:3849:003           Tram  \n",
       "19        00:48   85:849:032            Bus  "
      ]
     },
     "execution_count": 35,
     "metadata": {},
     "output_type": "execute_result"
    }
   ],
   "source": [
    "pd.head(20)"
   ]
  },
  {
   "cell_type": "code",
   "execution_count": 36,
   "metadata": {},
   "outputs": [
    {
     "data": {
      "text/plain": [
       "(233067, 6)"
      ]
     },
     "execution_count": 36,
     "metadata": {},
     "output_type": "execute_result"
    }
   ],
   "source": [
    "pd.shape"
   ]
  },
  {
   "cell_type": "code",
   "execution_count": null,
   "metadata": {
    "collapsed": true
   },
   "outputs": [],
   "source": [
    "pd.to_csv('pandas_station_time_tables.csv')"
   ]
  },
  {
   "cell_type": "markdown",
   "metadata": {},
   "source": [
    "### Second table\n",
    "- now we have to create a table where we have the time-table of a regular day for all the lines that we have found before (2297 train_lines, 90 bus lines, 15 tram lines)."
   ]
  },
  {
   "cell_type": "markdown",
   "metadata": {},
   "source": [
    "## using trip id"
   ]
  },
  {
   "cell_type": "code",
   "execution_count": 37,
   "metadata": {
    "collapsed": true
   },
   "outputs": [],
   "source": [
    "second_table = first_table_final"
   ]
  },
  {
   "cell_type": "markdown",
   "metadata": {},
   "source": [
    "- taking only the trips that have a next stop in our radius:"
   ]
  },
  {
   "cell_type": "code",
   "execution_count": 38,
   "metadata": {
    "collapsed": true
   },
   "outputs": [],
   "source": [
    "useful_transport_df = second_table.groupBy('trip_id').count().filter(\"count > 1\")"
   ]
  },
  {
   "cell_type": "code",
   "execution_count": 39,
   "metadata": {},
   "outputs": [
    {
     "name": "stdout",
     "output_type": "stream",
     "text": [
      "+--------------+-----+\n",
      "|       trip_id|count|\n",
      "+--------------+-----+\n",
      "|85:11:1507:002|    2|\n",
      "|85:11:1509:002|    2|\n",
      "|85:11:1510:002|    2|\n",
      "|85:11:1511:002|    2|\n",
      "|85:11:1512:002|    2|\n",
      "|85:11:1513:003|    2|\n",
      "|85:11:1514:002|    2|\n",
      "|85:11:1515:003|    2|\n",
      "|85:11:1516:002|    2|\n",
      "|85:11:1517:003|    2|\n",
      "|85:11:1518:002|    2|\n",
      "|85:11:1519:003|    2|\n",
      "|85:11:1520:002|    2|\n",
      "|85:11:1521:003|    2|\n",
      "|85:11:1522:002|    2|\n",
      "|85:11:1523:003|    2|\n",
      "|85:11:1524:002|    2|\n",
      "|85:11:1525:003|    2|\n",
      "|85:11:1526:002|    2|\n",
      "|85:11:1527:003|    2|\n",
      "+--------------+-----+\n",
      "only showing top 20 rows\n",
      "\n"
     ]
    }
   ],
   "source": [
    "useful_transport_df.orderBy('trip_id').show(20)"
   ]
  },
  {
   "cell_type": "code",
   "execution_count": 40,
   "metadata": {
    "collapsed": true
   },
   "outputs": [],
   "source": [
    "useful_transport_df = useful_transport_df.drop('count')"
   ]
  },
  {
   "cell_type": "markdown",
   "metadata": {},
   "source": [
    "- merging with our main second table:"
   ]
  },
  {
   "cell_type": "code",
   "execution_count": 41,
   "metadata": {
    "collapsed": true
   },
   "outputs": [],
   "source": [
    "second_table_useful = second_table.join(useful_transport_df, on=\"trip_id\", how='inner')"
   ]
  },
  {
   "cell_type": "code",
   "execution_count": 42,
   "metadata": {},
   "outputs": [
    {
     "data": {
      "text/plain": [
       "1971"
      ]
     },
     "execution_count": 42,
     "metadata": {},
     "output_type": "execute_result"
    }
   ],
   "source": [
    "second_table_useful.select('train_line').distinct().count()"
   ]
  },
  {
   "cell_type": "code",
   "execution_count": 43,
   "metadata": {
    "scrolled": true
   },
   "outputs": [
    {
     "data": {
      "text/plain": [
       "16282"
      ]
     },
     "execution_count": 43,
     "metadata": {},
     "output_type": "execute_result"
    }
   ],
   "source": [
    "second_table_useful.select('trip_id').distinct().count()"
   ]
  },
  {
   "cell_type": "markdown",
   "metadata": {},
   "source": [
    "- this result means that there are public transports that do more trips in the same day."
   ]
  },
  {
   "cell_type": "code",
   "execution_count": 44,
   "metadata": {
    "collapsed": true
   },
   "outputs": [],
   "source": [
    "second_table_useful = second_table_useful.orderBy('trip_id',\n",
    "                                                  'arrival_time', \n",
    "                                                  'departure_time', \n",
    "                                                  'train_line', \n",
    "                                                  'station_name'\n",
    "                                                 )"
   ]
  },
  {
   "cell_type": "code",
   "execution_count": 45,
   "metadata": {
    "scrolled": false
   },
   "outputs": [
    {
     "name": "stdout",
     "output_type": "stream",
     "text": [
      "+--------------+----------------+--------------+------------+----------+--------------+\n",
      "|       trip_id|    station_name|departure_time|arrival_time|train_line|transport_type|\n",
      "+--------------+----------------+--------------+------------+----------+--------------+\n",
      "|85:11:1507:002|       Zürich HB|         06:39|       06:30|      1507|           Zug|\n",
      "|85:11:1507:002|Zürich Flughafen|         06:51|       06:49|      1507|           Zug|\n",
      "|85:11:1509:002|       Zürich HB|         07:39|       07:30|      1509|           Zug|\n",
      "|85:11:1509:002|Zürich Flughafen|         07:51|       07:49|      1509|           Zug|\n",
      "|85:11:1510:002|Zürich Flughafen|         07:13|       07:11|      1510|           Zug|\n",
      "|85:11:1510:002|       Zürich HB|         07:30|       07:23|      1510|           Zug|\n",
      "|85:11:1511:002|       Zürich HB|         08:39|       08:30|      1511|           Zug|\n",
      "|85:11:1511:002|Zürich Flughafen|         08:51|       08:49|      1511|           Zug|\n",
      "|85:11:1512:002|Zürich Flughafen|         08:13|       08:11|      1512|           Zug|\n",
      "|85:11:1512:002|       Zürich HB|         08:30|       08:23|      1512|           Zug|\n",
      "|85:11:1513:003|       Zürich HB|         09:39|       09:30|      1513|           Zug|\n",
      "|85:11:1513:003|Zürich Flughafen|         09:51|       09:49|      1513|           Zug|\n",
      "|85:11:1514:002|Zürich Flughafen|         09:13|       09:11|      1514|           Zug|\n",
      "|85:11:1514:002|       Zürich HB|         09:30|       09:23|      1514|           Zug|\n",
      "|85:11:1515:003|       Zürich HB|         10:39|       10:30|      1515|           Zug|\n",
      "|85:11:1515:003|Zürich Flughafen|         10:51|       10:49|      1515|           Zug|\n",
      "|85:11:1516:002|Zürich Flughafen|         10:13|       10:11|      1516|           Zug|\n",
      "|85:11:1516:002|       Zürich HB|         10:30|       10:23|      1516|           Zug|\n",
      "|85:11:1517:003|       Zürich HB|         11:39|       11:30|      1517|           Zug|\n",
      "|85:11:1517:003|Zürich Flughafen|         11:51|       11:49|      1517|           Zug|\n",
      "|85:11:1518:002|Zürich Flughafen|         11:13|       11:11|      1518|           Zug|\n",
      "|85:11:1518:002|       Zürich HB|         11:30|       11:23|      1518|           Zug|\n",
      "|85:11:1519:003|       Zürich HB|         12:39|       12:30|      1519|           Zug|\n",
      "|85:11:1519:003|Zürich Flughafen|         12:51|       12:49|      1519|           Zug|\n",
      "|85:11:1520:002|Zürich Flughafen|         12:13|       12:11|      1520|           Zug|\n",
      "|85:11:1520:002|       Zürich HB|         12:30|       12:23|      1520|           Zug|\n",
      "|85:11:1521:003|       Zürich HB|         13:39|       13:30|      1521|           Zug|\n",
      "|85:11:1521:003|Zürich Flughafen|         13:51|       13:49|      1521|           Zug|\n",
      "|85:11:1522:002|Zürich Flughafen|         13:13|       13:11|      1522|           Zug|\n",
      "|85:11:1522:002|       Zürich HB|         13:30|       13:23|      1522|           Zug|\n",
      "|85:11:1523:003|       Zürich HB|         14:39|       14:30|      1523|           Zug|\n",
      "|85:11:1523:003|Zürich Flughafen|         14:51|       14:49|      1523|           Zug|\n",
      "|85:11:1524:002|Zürich Flughafen|         14:13|       14:11|      1524|           Zug|\n",
      "|85:11:1524:002|       Zürich HB|         14:30|       14:23|      1524|           Zug|\n",
      "|85:11:1525:003|       Zürich HB|         15:39|       15:30|      1525|           Zug|\n",
      "|85:11:1525:003|Zürich Flughafen|         15:51|       15:49|      1525|           Zug|\n",
      "|85:11:1526:002|Zürich Flughafen|         15:13|       15:11|      1526|           Zug|\n",
      "|85:11:1526:002|       Zürich HB|         15:30|       15:23|      1526|           Zug|\n",
      "|85:11:1527:003|       Zürich HB|         16:39|       16:30|      1527|           Zug|\n",
      "|85:11:1527:003|Zürich Flughafen|         16:51|       16:49|      1527|           Zug|\n",
      "|85:11:1528:002|Zürich Flughafen|         16:13|       16:11|      1528|           Zug|\n",
      "|85:11:1528:002|       Zürich HB|         16:30|       16:23|      1528|           Zug|\n",
      "|85:11:1529:003|       Zürich HB|         17:39|       17:30|      1529|           Zug|\n",
      "|85:11:1529:003|Zürich Flughafen|         17:51|       17:49|      1529|           Zug|\n",
      "|85:11:1530:002|Zürich Flughafen|         17:13|       17:11|      1530|           Zug|\n",
      "|85:11:1530:002|       Zürich HB|         17:30|       17:23|      1530|           Zug|\n",
      "|85:11:1531:003|       Zürich HB|         18:39|       18:30|      1531|           Zug|\n",
      "|85:11:1531:003|Zürich Flughafen|         18:51|       18:49|      1531|           Zug|\n",
      "|85:11:1532:002|Zürich Flughafen|         18:13|       18:11|      1532|           Zug|\n",
      "|85:11:1532:002|       Zürich HB|         18:30|       18:23|      1532|           Zug|\n",
      "+--------------+----------------+--------------+------------+----------+--------------+\n",
      "only showing top 50 rows\n",
      "\n"
     ]
    }
   ],
   "source": [
    "second_table_useful.show(50)"
   ]
  },
  {
   "cell_type": "markdown",
   "metadata": {},
   "source": [
    "- now we will use a window on each trip item to obtain our desired table:"
   ]
  },
  {
   "cell_type": "code",
   "execution_count": 46,
   "metadata": {
    "collapsed": true
   },
   "outputs": [],
   "source": [
    "from pyspark.sql.window import Window"
   ]
  },
  {
   "cell_type": "code",
   "execution_count": 47,
   "metadata": {
    "collapsed": true
   },
   "outputs": [],
   "source": [
    "trip_window = Window.partitionBy(\"trip_id\").orderBy(unix_timestamp('arrival_time','HH:mm'),\n",
    "                                                    unix_timestamp('departure_time','HH:mm'))"
   ]
  },
  {
   "cell_type": "markdown",
   "metadata": {},
   "source": [
    "- defining the windows function in order to use the next row in the partition. We create two new columns modeling the next stop and the arrival time in the next stop:"
   ]
  },
  {
   "cell_type": "code",
   "execution_count": 48,
   "metadata": {
    "collapsed": true
   },
   "outputs": [],
   "source": [
    "next_station = lag(\"station_name\", -1).over(trip_window)\n",
    "next_station_arrival = lag(\"arrival_time\", -1).over(trip_window)"
   ]
  },
  {
   "cell_type": "code",
   "execution_count": 49,
   "metadata": {
    "collapsed": true
   },
   "outputs": [],
   "source": [
    "second_table_useful_final = second_table_useful\\\n",
    "                                               .withColumn('nx_station', next_station)\\\n",
    "                                               .withColumn('arr_nx', next_station_arrival)"
   ]
  },
  {
   "cell_type": "code",
   "execution_count": 50,
   "metadata": {
    "collapsed": true
   },
   "outputs": [],
   "source": [
    "second_table_useful_final = second_table_useful_final.drop('arrival_time')"
   ]
  },
  {
   "cell_type": "markdown",
   "metadata": {},
   "source": [
    "- reordering the columns:"
   ]
  },
  {
   "cell_type": "code",
   "execution_count": 51,
   "metadata": {
    "collapsed": true
   },
   "outputs": [],
   "source": [
    "second_table_useful_final = second_table_useful_final.select('trip_id',\n",
    "                                                             'transport_type',\n",
    "                                                             'train_line',\n",
    "                                                             'station_name',\n",
    "                                                             'departure_time',\n",
    "                                                             'nx_station',\n",
    "                                                             'arr_nx')"
   ]
  },
  {
   "cell_type": "code",
   "execution_count": 52,
   "metadata": {},
   "outputs": [
    {
     "name": "stdout",
     "output_type": "stream",
     "text": [
      "+--------------------+--------------+-----------+--------------------+--------------+--------------------+------+\n",
      "|             trip_id|transport_type| train_line|        station_name|departure_time|          nx_station|arr_nx|\n",
      "+--------------------+--------------+-----------+--------------------+--------------+--------------------+------+\n",
      "|     85:11:18388:001|           Zug|      18388|           Dietlikon|         23:13|           Stettbach| 23:17|\n",
      "|     85:11:18388:001|           Zug|      18388|           Stettbach|         23:18|  Zürich Stadelhofen| 23:22|\n",
      "|     85:11:18388:001|           Zug|      18388|  Zürich Stadelhofen|         23:23|           Zürich HB| 23:26|\n",
      "|     85:11:18388:001|           Zug|      18388|           Zürich HB|         23:29|   Zürich Hardbrücke| 23:31|\n",
      "|     85:11:18388:001|           Zug|      18388|   Zürich Hardbrücke|         23:31|   Zürich Altstetten| 23:35|\n",
      "|     85:11:18388:001|           Zug|      18388|   Zürich Altstetten|         23:36|           Schlieren| 23:38|\n",
      "|     85:11:18388:001|           Zug|      18388|           Schlieren|         23:38|         Glanzenberg| 23:40|\n",
      "|     85:11:18388:001|           Zug|      18388|         Glanzenberg|         23:40|                null|  null|\n",
      "|     85:11:18718:001|           Zug|      18718|Zürich Tiefenbrunnen|         05:41|  Zürich Stadelhofen| 05:44|\n",
      "|     85:11:18718:001|           Zug|      18718|  Zürich Stadelhofen|         05:45|           Zürich HB| 05:47|\n",
      "|     85:11:18718:001|           Zug|      18718|           Zürich HB|         05:49|   Zürich Hardbrücke| 05:51|\n",
      "|     85:11:18718:001|           Zug|      18718|   Zürich Hardbrücke|         05:51|     Zürich Oerlikon| 05:56|\n",
      "|     85:11:18718:001|           Zug|      18718|     Zürich Oerlikon|         05:57|             Opfikon| 05:59|\n",
      "|     85:11:18718:001|           Zug|      18718|             Opfikon|         05:59|     Kloten Balsberg| 06:01|\n",
      "|     85:11:18718:001|           Zug|      18718|     Kloten Balsberg|         06:01|              Kloten| 06:05|\n",
      "|     85:11:18718:001|           Zug|      18718|              Kloten|         06:06|         Bassersdorf| 06:09|\n",
      "|     85:11:18718:001|           Zug|      18718|         Bassersdorf|         06:09|                null|  null|\n",
      "|     85:11:19439:001|           Zug|      19439| Bonstetten-Wettswil|         10:18|      Birmensdorf ZH| 10:24|\n",
      "|     85:11:19439:001|           Zug|      19439|      Birmensdorf ZH|         10:25|   Urdorf Weihermatt| 10:27|\n",
      "|     85:11:19439:001|           Zug|      19439|   Urdorf Weihermatt|         10:27|              Urdorf| 10:29|\n",
      "|     85:11:19439:001|           Zug|      19439|              Urdorf|         10:29|   Zürich Altstetten| 10:34|\n",
      "|     85:11:19439:001|           Zug|      19439|   Zürich Altstetten|         10:35|           Zürich HB| 10:40|\n",
      "|     85:11:19439:001|           Zug|      19439|           Zürich HB|         10:42|     Zürich Oerlikon| 10:46|\n",
      "|     85:11:19439:001|           Zug|      19439|     Zürich Oerlikon|         10:48|         Wallisellen| 10:50|\n",
      "|     85:11:19439:001|           Zug|      19439|         Wallisellen|         10:51|           Dübendorf| 10:54|\n",
      "|     85:11:19439:001|           Zug|      19439|           Dübendorf|         10:54|    Schwerzenbach ZH| 10:57|\n",
      "|     85:11:19439:001|           Zug|      19439|    Schwerzenbach ZH|         10:57|                null|  null|\n",
      "|     85:11:19526:001|           Zug|      19526|  Zürich Stadelhofen|         07:48|           Zürich HB| 07:50|\n",
      "|     85:11:19526:001|           Zug|      19526|           Zürich HB|         07:52|   Zürich Hardbrücke| 07:54|\n",
      "|     85:11:19526:001|           Zug|      19526|   Zürich Hardbrücke|         07:54|     Zürich Oerlikon| 07:59|\n",
      "|     85:11:19526:001|           Zug|      19526|     Zürich Oerlikon|         08:00|          Glattbrugg| 08:02|\n",
      "|     85:11:19526:001|           Zug|      19526|          Glattbrugg|         08:03|             Rümlang| 08:05|\n",
      "|     85:11:19526:001|           Zug|      19526|             Rümlang|         08:05|                null|  null|\n",
      "|     85:11:19570:001|           Zug|      19570|  Zürich Stadelhofen|         18:48|           Zürich HB| 18:50|\n",
      "|     85:11:19570:001|           Zug|      19570|           Zürich HB|         18:52|   Zürich Hardbrücke| 18:54|\n",
      "|     85:11:19570:001|           Zug|      19570|   Zürich Hardbrücke|         18:54|     Zürich Oerlikon| 18:59|\n",
      "|     85:11:19570:001|           Zug|      19570|     Zürich Oerlikon|         19:00|          Glattbrugg| 19:02|\n",
      "|     85:11:19570:001|           Zug|      19570|          Glattbrugg|         19:03|             Rümlang| 19:05|\n",
      "|     85:11:19570:001|           Zug|      19570|             Rümlang|         19:05|                null|  null|\n",
      "|     85:11:20439:002|           Zug|      20439|         Bassersdorf|         10:26|    Zürich Flughafen| 10:31|\n",
      "|     85:11:20439:002|           Zug|      20439|    Zürich Flughafen|         10:33|     Zürich Oerlikon| 10:37|\n",
      "|     85:11:20439:002|           Zug|      20439|     Zürich Oerlikon|         10:38|    Zürich Wipkingen| 10:40|\n",
      "|     85:11:20439:002|           Zug|      20439|    Zürich Wipkingen|         10:40|           Zürich HB| 10:46|\n",
      "|     85:11:20439:002|           Zug|      20439|           Zürich HB|         10:51|     Zürich Wiedikon| 10:54|\n",
      "|     85:11:20439:002|           Zug|      20439|     Zürich Wiedikon|         10:54|         Zürich Enge| 10:57|\n",
      "|     85:11:20439:002|           Zug|      20439|         Zürich Enge|         10:58|  Zürich Wollishofen| 11:00|\n",
      "|     85:11:20439:002|           Zug|      20439|  Zürich Wollishofen|         11:00|           Kilchberg| 11:02|\n",
      "|     85:11:20439:002|           Zug|      20439|           Kilchberg|         11:02|          Rüschlikon| 11:05|\n",
      "|     85:11:20439:002|           Zug|      20439|          Rüschlikon|         11:05|             Thalwil| 11:08|\n",
      "|     85:11:20439:002|           Zug|      20439|             Thalwil|         11:09|                null|  null|\n",
      "|     85:11:20453:001|           Zug|      20453|         Bassersdorf|         13:56|    Zürich Flughafen| 14:01|\n",
      "|     85:11:20453:001|           Zug|      20453|    Zürich Flughafen|         14:03|     Zürich Oerlikon| 14:07|\n",
      "|     85:11:20453:001|           Zug|      20453|     Zürich Oerlikon|         14:08|    Zürich Wipkingen| 14:10|\n",
      "|     85:11:20453:001|           Zug|      20453|    Zürich Wipkingen|         14:10|           Zürich HB| 14:16|\n",
      "|     85:11:20453:001|           Zug|      20453|           Zürich HB|         14:21|     Zürich Wiedikon| 14:24|\n",
      "|     85:11:20453:001|           Zug|      20453|     Zürich Wiedikon|         14:24|         Zürich Enge| 14:27|\n",
      "|     85:11:20453:001|           Zug|      20453|         Zürich Enge|         14:28|  Zürich Wollishofen| 14:30|\n",
      "|     85:11:20453:001|           Zug|      20453|  Zürich Wollishofen|         14:30|           Kilchberg| 14:32|\n",
      "|     85:11:20453:001|           Zug|      20453|           Kilchberg|         14:32|          Rüschlikon| 14:35|\n",
      "|     85:11:20453:001|           Zug|      20453|          Rüschlikon|         14:35|             Thalwil| 14:38|\n",
      "|     85:11:20453:001|           Zug|      20453|             Thalwil|         14:39|                null|  null|\n",
      "|      85:11:4937:002|           Zug|       4937|     Zürich Oerlikon|         20:49|           Zürich HB| 20:55|\n",
      "|      85:11:4937:002|           Zug|       4937|           Zürich HB|         20:55|                null|  null|\n",
      "|85:3849:187704-26...|          Tram|85:3849:013|  Zürich, Frankental|         19:39|Zürich, Winzerstr...| 19:40|\n",
      "|85:3849:187704-26...|          Tram|85:3849:013|Zürich, Winzerstr...|         19:40|      Zürich, Wartau| 19:41|\n",
      "|85:3849:187704-26...|          Tram|85:3849:013|      Zürich, Wartau|         19:41|  Zürich, Zwielplatz| 19:42|\n",
      "|85:3849:187704-26...|          Tram|85:3849:013|  Zürich, Zwielplatz|         19:42|Zürich, Meierhofp...| 19:43|\n",
      "|85:3849:187704-26...|          Tram|85:3849:013|Zürich, Meierhofp...|         19:44|     Zürich, Schwert| 19:45|\n",
      "|85:3849:187704-26...|          Tram|85:3849:013|     Zürich, Schwert|         19:45| Zürich, Alte Trotte| 19:46|\n",
      "|85:3849:187704-26...|          Tram|85:3849:013| Zürich, Alte Trotte|         19:46|Zürich, Eschergutweg| 19:47|\n",
      "|85:3849:187704-26...|          Tram|85:3849:013|Zürich, Eschergutweg|         19:47| Zürich, Waidfussweg| 19:49|\n",
      "|85:3849:187704-26...|          Tram|85:3849:013| Zürich, Waidfussweg|         19:49|Zürich, Wipkinger...| 19:50|\n",
      "|85:3849:187704-26...|          Tram|85:3849:013|Zürich, Wipkinger...|         19:50|Zürich, Escher-Wy...| 19:52|\n",
      "|85:3849:187704-26...|          Tram|85:3849:013|Zürich, Escher-Wy...|         19:52|     Zürich, Dammweg| 19:53|\n",
      "|85:3849:187704-26...|          Tram|85:3849:013|     Zürich, Dammweg|         19:53|Zürich, Quellenst...| 19:54|\n",
      "|85:3849:187704-26...|          Tram|85:3849:013|Zürich, Quellenst...|         19:54| Zürich, Limmatplatz| 19:55|\n",
      "|85:3849:187704-26...|          Tram|85:3849:013| Zürich, Limmatplatz|         19:55|Zürich, Museum fü...| 19:56|\n",
      "|85:3849:187704-26...|          Tram|85:3849:013|Zürich, Museum fü...|         19:56| Zürich, Sihlquai/HB| 19:58|\n",
      "|85:3849:187704-26...|          Tram|85:3849:013| Zürich, Sihlquai/HB|         19:58|Zürich, Bahnhofqu...| 20:00|\n",
      "|85:3849:187704-26...|          Tram|85:3849:013|Zürich, Bahnhofqu...|         20:01|Zürich, Bahnhofst...| 20:02|\n",
      "|85:3849:187704-26...|          Tram|85:3849:013|Zürich, Bahnhofst...|         20:03|     Zürich, Rennweg| 20:04|\n",
      "|85:3849:187704-26...|          Tram|85:3849:013|     Zürich, Rennweg|         20:04| Zürich, Paradeplatz| 20:06|\n",
      "|85:3849:187704-26...|          Tram|85:3849:013| Zürich, Paradeplatz|         20:06|Zürich, Stockerst...| 20:08|\n",
      "|85:3849:187704-26...|          Tram|85:3849:013|Zürich, Stockerst...|         20:08|Zürich, Tunnelstr...| 20:09|\n",
      "|85:3849:187704-26...|          Tram|85:3849:013|Zürich, Tunnelstr...|         20:09|Zürich, Waffenpla...| 20:12|\n",
      "|85:3849:187704-26...|          Tram|85:3849:013|Zürich, Waffenpla...|         20:12|Zürich, Sihlcity ...| 20:13|\n",
      "|85:3849:187704-26...|          Tram|85:3849:013|Zürich, Sihlcity ...|         20:13|Zürich, Saalsport...| 20:14|\n",
      "|85:3849:187704-26...|          Tram|85:3849:013|Zürich, Saalsport...|         20:14|     Zürich, Laubegg| 20:15|\n",
      "|85:3849:187704-26...|          Tram|85:3849:013|     Zürich, Laubegg|         20:15|    Zürich, Uetlihof| 20:16|\n",
      "|85:3849:187704-26...|          Tram|85:3849:013|    Zürich, Uetlihof|         20:17|Zürich, Strassenv...| 20:18|\n",
      "|85:3849:187704-26...|          Tram|85:3849:013|Zürich, Strassenv...|         20:18|  Zürich, Albisgütli| 20:19|\n",
      "|85:3849:187704-26...|          Tram|85:3849:013|  Zürich, Albisgütli|         20:19|                null|  null|\n",
      "|85:3849:80375-020...|          Tram|85:3849:002|Zürich, Bachmatts...|         10:28|     Zürich, Farbhof| 10:28|\n",
      "|85:3849:80375-020...|          Tram|85:3849:002|     Zürich, Farbhof|         10:28| Zürich, Lindenplatz| 10:29|\n",
      "|85:3849:80375-020...|          Tram|85:3849:002| Zürich, Lindenplatz|         10:29|Zürich, Grimselst...| 10:30|\n",
      "|85:3849:80375-020...|          Tram|85:3849:002|Zürich, Grimselst...|         10:31|     Zürich, Kappeli| 10:32|\n",
      "|85:3849:80375-020...|          Tram|85:3849:002|     Zürich, Kappeli|         10:32|Zürich, Freihofst...| 10:33|\n",
      "|85:3849:80375-020...|          Tram|85:3849:002|Zürich, Freihofst...|         10:33|  Zürich, Letzigrund| 10:34|\n",
      "|85:3849:80375-020...|          Tram|85:3849:002|  Zürich, Letzigrund|         10:35|Zürich, Albisried...| 10:36|\n",
      "|85:3849:80375-020...|          Tram|85:3849:002|Zürich, Albisried...|         10:36|Zürich, Zypressen...| 10:37|\n",
      "|85:3849:80375-020...|          Tram|85:3849:002|Zürich, Zypressen...|         10:37|   Zürich, Lochergut| 10:38|\n",
      "|85:3849:80375-020...|          Tram|85:3849:002|   Zürich, Lochergut|         10:38|Zürich,Kalkbreite...| 10:40|\n",
      "|85:3849:80375-020...|          Tram|85:3849:002|Zürich,Kalkbreite...|         10:40|Zürich, Bezirksge...| 10:41|\n",
      "|85:3849:80375-020...|          Tram|85:3849:002|Zürich, Bezirksge...|         10:41| Zürich, Stauffacher| 10:43|\n",
      "|85:3849:80375-020...|          Tram|85:3849:002| Zürich, Stauffacher|         10:44| Zürich, Sihlstrasse| 10:46|\n",
      "|85:3849:80375-020...|          Tram|85:3849:002| Zürich, Sihlstrasse|         10:46| Zürich, Paradeplatz| 10:47|\n",
      "|85:3849:80375-020...|          Tram|85:3849:002| Zürich, Paradeplatz|         10:48|Zürich, Börsenstr...| 10:49|\n",
      "|85:3849:80375-020...|          Tram|85:3849:002|Zürich, Börsenstr...|         10:49| Zürich, Bürkliplatz| 10:50|\n",
      "|85:3849:80375-020...|          Tram|85:3849:002| Zürich, Bürkliplatz|         10:51|    Zürich, Bellevue| 10:52|\n",
      "|85:3849:80375-020...|          Tram|85:3849:002|    Zürich, Bellevue|         10:52|   Zürich, Opernhaus| 10:54|\n",
      "|85:3849:80375-020...|          Tram|85:3849:002|   Zürich, Opernhaus|         10:54|Zürich, Kreuzstrasse| 10:55|\n",
      "|85:3849:80375-020...|          Tram|85:3849:002|Zürich, Kreuzstrasse|         10:55|Zürich, Feldeggst...| 10:56|\n",
      "|85:3849:80375-020...|          Tram|85:3849:002|Zürich, Feldeggst...|         10:57|  Zürich, Höschgasse| 10:57|\n",
      "|85:3849:80375-020...|          Tram|85:3849:002|  Zürich, Höschgasse|         10:58|Zürich, Fröhlichs...| 10:59|\n",
      "|85:3849:80375-020...|          Tram|85:3849:002|Zürich, Fröhlichs...|         10:59|Zürich, Wildbachs...| 11:00|\n",
      "|85:3849:80375-020...|          Tram|85:3849:002|Zürich, Wildbachs...|         11:00|                null|  null|\n",
      "|85:3849:80549-020...|          Tram|85:3849:002|Zürich, Bachmatts...|         07:21|     Zürich, Farbhof| 07:21|\n",
      "|85:3849:80549-020...|          Tram|85:3849:002|     Zürich, Farbhof|         07:21| Zürich, Lindenplatz| 07:22|\n",
      "|85:3849:80549-020...|          Tram|85:3849:002| Zürich, Lindenplatz|         07:22|Zürich, Grimselst...| 07:23|\n",
      "|85:3849:80549-020...|          Tram|85:3849:002|Zürich, Grimselst...|         07:24|     Zürich, Kappeli| 07:25|\n",
      "|85:3849:80549-020...|          Tram|85:3849:002|     Zürich, Kappeli|         07:25|Zürich, Freihofst...| 07:26|\n",
      "|85:3849:80549-020...|          Tram|85:3849:002|Zürich, Freihofst...|         07:26|  Zürich, Letzigrund| 07:27|\n",
      "|85:3849:80549-020...|          Tram|85:3849:002|  Zürich, Letzigrund|         07:28|Zürich, Albisried...| 07:29|\n",
      "|85:3849:80549-020...|          Tram|85:3849:002|Zürich, Albisried...|         07:29|Zürich, Zypressen...| 07:30|\n",
      "|85:3849:80549-020...|          Tram|85:3849:002|Zürich, Zypressen...|         07:30|   Zürich, Lochergut| 07:31|\n",
      "|85:3849:80549-020...|          Tram|85:3849:002|   Zürich, Lochergut|         07:31|Zürich,Kalkbreite...| 07:33|\n",
      "|85:3849:80549-020...|          Tram|85:3849:002|Zürich,Kalkbreite...|         07:33|Zürich, Bezirksge...| 07:34|\n",
      "|85:3849:80549-020...|          Tram|85:3849:002|Zürich, Bezirksge...|         07:34| Zürich, Stauffacher| 07:36|\n",
      "|85:3849:80549-020...|          Tram|85:3849:002| Zürich, Stauffacher|         07:37| Zürich, Sihlstrasse| 07:39|\n",
      "|85:3849:80549-020...|          Tram|85:3849:002| Zürich, Sihlstrasse|         07:39| Zürich, Paradeplatz| 07:40|\n",
      "|85:3849:80549-020...|          Tram|85:3849:002| Zürich, Paradeplatz|         07:41|Zürich, Börsenstr...| 07:41|\n",
      "|85:3849:80549-020...|          Tram|85:3849:002|Zürich, Börsenstr...|         07:42| Zürich, Bürkliplatz| 07:43|\n",
      "|85:3849:80549-020...|          Tram|85:3849:002| Zürich, Bürkliplatz|         07:44|    Zürich, Bellevue| 07:45|\n",
      "|85:3849:80549-020...|          Tram|85:3849:002|    Zürich, Bellevue|         07:45|   Zürich, Opernhaus| 07:47|\n",
      "|85:3849:80549-020...|          Tram|85:3849:002|   Zürich, Opernhaus|         07:47|Zürich, Kreuzstrasse| 07:48|\n",
      "|85:3849:80549-020...|          Tram|85:3849:002|Zürich, Kreuzstrasse|         07:48|Zürich, Feldeggst...| 07:49|\n",
      "|85:3849:80549-020...|          Tram|85:3849:002|Zürich, Feldeggst...|         07:49|  Zürich, Höschgasse| 07:50|\n",
      "|85:3849:80549-020...|          Tram|85:3849:002|  Zürich, Höschgasse|         07:51|Zürich, Fröhlichs...| 07:52|\n",
      "|85:3849:80549-020...|          Tram|85:3849:002|Zürich, Fröhlichs...|         07:52|Zürich, Wildbachs...| 07:52|\n",
      "|85:3849:80549-020...|          Tram|85:3849:002|Zürich, Wildbachs...|         07:53|                null|  null|\n",
      "|85:3849:80603-020...|          Tram|85:3849:003| Zürich, Albisrieden|         00:38|Zürich, Fellenber...| 00:39|\n",
      "|85:3849:80603-020...|          Tram|85:3849:003|Zürich, Fellenber...|         00:39|     Zürich, Siemens| 00:41|\n",
      "|85:3849:80603-020...|          Tram|85:3849:003|     Zürich, Siemens|         00:41|    Zürich, Hubertus| 00:42|\n",
      "|85:3849:80603-020...|          Tram|85:3849:003|    Zürich, Hubertus|         00:42|Zürich, Albisried...| 00:44|\n",
      "|85:3849:80603-020...|          Tram|85:3849:003|Zürich, Albisried...|         00:45|Zürich, Zypressen...| 00:46|\n",
      "|85:3849:80603-020...|          Tram|85:3849:003|Zürich, Zypressen...|         00:46|   Zürich, Lochergut| 00:47|\n",
      "|85:3849:80603-020...|          Tram|85:3849:003|   Zürich, Lochergut|         00:47|Zürich,Kalkbreite...| 00:48|\n",
      "|85:3849:80603-020...|          Tram|85:3849:003|Zürich,Kalkbreite...|         00:48|                null|  null|\n",
      "|85:3849:80841-020...|          Tram|85:3849:003| Zürich, Albisrieden|         13:26|Zürich, Fellenber...| 13:27|\n",
      "|85:3849:80841-020...|          Tram|85:3849:003|Zürich, Fellenber...|         13:27|     Zürich, Siemens| 13:29|\n",
      "|85:3849:80841-020...|          Tram|85:3849:003|     Zürich, Siemens|         13:29|    Zürich, Hubertus| 13:30|\n",
      "|85:3849:80841-020...|          Tram|85:3849:003|    Zürich, Hubertus|         13:30|Zürich, Albisried...| 13:33|\n",
      "|85:3849:80841-020...|          Tram|85:3849:003|Zürich, Albisried...|         13:33|Zürich, Zypressen...| 13:34|\n",
      "|85:3849:80841-020...|          Tram|85:3849:003|Zürich, Zypressen...|         13:34|   Zürich, Lochergut| 13:35|\n",
      "|85:3849:80841-020...|          Tram|85:3849:003|   Zürich, Lochergut|         13:35|Zürich,Kalkbreite...| 13:37|\n",
      "|85:3849:80841-020...|          Tram|85:3849:003|Zürich,Kalkbreite...|         13:37|Zürich, Bezirksge...| 13:38|\n",
      "|85:3849:80841-020...|          Tram|85:3849:003|Zürich, Bezirksge...|         13:38| Zürich, Stauffacher| 13:40|\n",
      "|85:3849:80841-020...|          Tram|85:3849:003| Zürich, Stauffacher|         13:41|  Zürich, Löwenplatz| 13:45|\n",
      "|85:3849:80841-020...|          Tram|85:3849:003|  Zürich, Löwenplatz|         13:45|Zürich, Bahnhofpl...| 13:46|\n",
      "|85:3849:80841-020...|          Tram|85:3849:003|Zürich, Bahnhofpl...|         13:47|     Zürich, Central| 13:49|\n",
      "|85:3849:80841-020...|          Tram|85:3849:003|     Zürich, Central|         13:49|    Zürich, Neumarkt| 13:50|\n",
      "|85:3849:80841-020...|          Tram|85:3849:003|    Zürich, Neumarkt|         13:50|   Zürich, Kunsthaus| 13:51|\n",
      "|85:3849:80841-020...|          Tram|85:3849:003|   Zürich, Kunsthaus|         13:52|Zürich, Hottinger...| 13:53|\n",
      "|85:3849:80841-020...|          Tram|85:3849:003|Zürich, Hottinger...|         13:53|    Zürich, Römerhof| 13:54|\n",
      "|85:3849:80841-020...|          Tram|85:3849:003|    Zürich, Römerhof|         13:55|Zürich, Hölderlin...| 13:56|\n",
      "|85:3849:80841-020...|          Tram|85:3849:003|Zürich, Hölderlin...|         13:56|   Zürich, Klusplatz| 13:57|\n",
      "|85:3849:80841-020...|          Tram|85:3849:003|   Zürich, Klusplatz|         13:57|                null|  null|\n",
      "|85:3849:81395-020...|          Tram|85:3849:005|     Zürich, Laubegg|         15:43|Zürich, Saalsport...| 15:44|\n",
      "|85:3849:81395-020...|          Tram|85:3849:005|Zürich, Saalsport...|         15:44|Zürich, Sihlcity ...| 15:45|\n",
      "|85:3849:81395-020...|          Tram|85:3849:005|Zürich, Sihlcity ...|         15:45|Zürich, Waffenpla...| 15:47|\n",
      "|85:3849:81395-020...|          Tram|85:3849:005|Zürich, Waffenpla...|         15:47|Zürich, Rentenans...| 15:51|\n",
      "|85:3849:81395-020...|          Tram|85:3849:005|Zürich, Rentenans...|         15:51| Zürich, Bürkliplatz| 15:53|\n",
      "|85:3849:81395-020...|          Tram|85:3849:005| Zürich, Bürkliplatz|         15:54|    Zürich, Bellevue| 15:55|\n",
      "|85:3849:81395-020...|          Tram|85:3849:005|    Zürich, Bellevue|         15:56|   Zürich, Kunsthaus| 15:57|\n",
      "|85:3849:81395-020...|          Tram|85:3849:005|   Zürich, Kunsthaus|         15:58|Zürich, Kantonssc...| 15:59|\n",
      "|85:3849:81395-020...|          Tram|85:3849:005|Zürich, Kantonssc...|         15:59|      Zürich, Platte| 16:01|\n",
      "|85:3849:81395-020...|          Tram|85:3849:005|      Zürich, Platte|         16:01|Zürich, Voltastrasse| 16:02|\n",
      "|85:3849:81395-020...|          Tram|85:3849:005|Zürich, Voltastrasse|         16:03|Zürich, Kirche Fl...| 16:04|\n",
      "|85:3849:81395-020...|          Tram|85:3849:005|Zürich, Kirche Fl...|         16:04|                null|  null|\n",
      "|85:3849:82479-020...|          Tram|85:3849:009|    Zürich, Bellevue|         00:01| Zürich, Bürkliplatz| 00:02|\n",
      "|85:3849:82479-020...|          Tram|85:3849:009| Zürich, Bürkliplatz|         00:03|Zürich, Börsenstr...| 00:04|\n",
      "|85:3849:82479-020...|          Tram|85:3849:009|Zürich, Börsenstr...|         00:04| Zürich, Paradeplatz| 00:05|\n",
      "|85:3849:82479-020...|          Tram|85:3849:009| Zürich, Paradeplatz|         00:05| Zürich, Sihlstrasse| 00:07|\n",
      "|85:3849:82479-020...|          Tram|85:3849:009| Zürich, Sihlstrasse|         00:07| Zürich, Stauffacher| 00:08|\n",
      "|85:3849:82479-020...|          Tram|85:3849:009| Zürich, Stauffacher|         00:10|        Zürich, Werd| 00:11|\n",
      "|85:3849:82479-020...|          Tram|85:3849:009|        Zürich, Werd|         00:11|Zürich, Schmiede ...| 00:14|\n",
      "|85:3849:82479-020...|          Tram|85:3849:009|Zürich, Schmiede ...|         00:14|Zürich, Goldbrunn...| 00:15|\n",
      "|85:3849:82479-020...|          Tram|85:3849:009|Zürich, Goldbrunn...|         00:15|Zürich, Talwiesen...| 00:16|\n",
      "|85:3849:82479-020...|          Tram|85:3849:009|Zürich, Talwiesen...|         00:16|     Zürich, Heuried| 00:17|\n",
      "|85:3849:82479-020...|          Tram|85:3849:009|     Zürich, Heuried|         00:17|     Zürich, Altried| 23:36|\n",
      "|85:3849:82479-020...|          Tram|85:3849:009|     Zürich, Altried|         23:36|  Zürich, Hirzenbach| 23:36|\n",
      "|85:3849:82479-020...|          Tram|85:3849:009|  Zürich, Hirzenbach|         23:36| Zürich, Luchswiesen| 23:38|\n",
      "|85:3849:82479-020...|          Tram|85:3849:009| Zürich, Luchswiesen|         23:38|  Zürich, Luegisland| 23:39|\n",
      "|85:3849:82479-020...|          Tram|85:3849:009|  Zürich, Luegisland|         23:39|Zürich, Heerenwiesen| 23:40|\n",
      "|85:3849:82479-020...|          Tram|85:3849:009|Zürich, Heerenwiesen|         23:40|Zürich, Schwamend...| 23:41|\n",
      "|85:3849:82479-020...|          Tram|85:3849:009|Zürich, Schwamend...|         23:41|Zürich, Schörlist...| 23:43|\n",
      "|85:3849:82479-020...|          Tram|85:3849:009|Zürich, Schörlist...|         23:43|  Zürich, Waldgarten| 23:44|\n",
      "|85:3849:82479-020...|          Tram|85:3849:009|  Zürich, Waldgarten|         23:44|  Zürich, Tierspital| 23:45|\n",
      "|85:3849:82479-020...|          Tram|85:3849:009|  Zürich, Tierspital|         23:45|   Zürich, Milchbuck| 23:47|\n",
      "|85:3849:82479-020...|          Tram|85:3849:009|   Zürich, Milchbuck|         23:47|Zürich, Universit...| 23:48|\n",
      "+--------------------+--------------+-----------+--------------------+--------------+--------------------+------+\n",
      "only showing top 200 rows\n",
      "\n"
     ]
    }
   ],
   "source": [
    "second_table_useful_final.show(200)"
   ]
  },
  {
   "cell_type": "code",
   "execution_count": 53,
   "metadata": {},
   "outputs": [
    {
     "data": {
      "text/plain": [
       "233067"
      ]
     },
     "execution_count": 53,
     "metadata": {},
     "output_type": "execute_result"
    }
   ],
   "source": [
    "second_table_useful_final.count()"
   ]
  },
  {
   "cell_type": "markdown",
   "metadata": {},
   "source": [
    "- showing trains:"
   ]
  },
  {
   "cell_type": "code",
   "execution_count": 54,
   "metadata": {},
   "outputs": [
    {
     "name": "stdout",
     "output_type": "stream",
     "text": [
      "+-------------+--------------+----------+--------------------+--------------+--------------------+------+\n",
      "|      trip_id|transport_type|train_line|        station_name|departure_time|          nx_station|arr_nx|\n",
      "+-------------+--------------+----------+--------------------+--------------+--------------------+------+\n",
      "|85:46:142:000|           Zug|       142|          Neue Forch|         05:16|            Maiacher| 05:17|\n",
      "|85:46:142:000|           Zug|       142|            Maiacher|         05:17|             Zumikon| 05:18|\n",
      "|85:46:142:000|           Zug|       142|             Zumikon|         05:18|            Waltikon| 05:20|\n",
      "|85:46:142:000|           Zug|       142|            Waltikon|         05:20|        Zollikerberg| 05:22|\n",
      "|85:46:142:000|           Zug|       142|        Zollikerberg|         05:22| Spital Zollikerberg| 05:23|\n",
      "|85:46:142:000|           Zug|       142| Spital Zollikerberg|         05:23|            Waldburg| 05:24|\n",
      "|85:46:142:000|           Zug|       142|            Waldburg|         05:24|      Zürich, Rehalp| 05:27|\n",
      "|85:46:142:000|           Zug|       142|      Zürich, Rehalp|         05:27|     Zürich Balgrist| 05:29|\n",
      "|85:46:142:000|           Zug|       142|     Zürich Balgrist|         05:29|Zürich Hegibachplatz| 05:32|\n",
      "|85:46:142:000|           Zug|       142|Zürich Hegibachplatz|         05:32|   Zürich Kreuzplatz| 05:34|\n",
      "|85:46:142:000|           Zug|       142|   Zürich Kreuzplatz|         05:34|Zürich Stadelhofe...| 05:37|\n",
      "|85:46:142:000|           Zug|       142|Zürich Stadelhofe...|         05:37|                null|  null|\n",
      "|85:46:146:000|           Zug|       146|          Neue Forch|         05:46|            Maiacher| 05:47|\n",
      "|85:46:146:000|           Zug|       146|            Maiacher|         05:47|             Zumikon| 05:48|\n",
      "|85:46:146:000|           Zug|       146|             Zumikon|         05:48|            Waltikon| 05:50|\n",
      "|85:46:146:000|           Zug|       146|            Waltikon|         05:50|        Zollikerberg| 05:52|\n",
      "|85:46:146:000|           Zug|       146|        Zollikerberg|         05:52| Spital Zollikerberg| 05:53|\n",
      "|85:46:146:000|           Zug|       146| Spital Zollikerberg|         05:53|            Waldburg| 05:54|\n",
      "|85:46:146:000|           Zug|       146|            Waldburg|         05:54|      Zürich, Rehalp| 05:57|\n",
      "|85:46:146:000|           Zug|       146|      Zürich, Rehalp|         05:57|     Zürich Balgrist| 05:59|\n",
      "|85:46:146:000|           Zug|       146|     Zürich Balgrist|         05:59|Zürich Hegibachplatz| 06:02|\n",
      "|85:46:146:000|           Zug|       146|Zürich Hegibachplatz|         06:02|   Zürich Kreuzplatz| 06:04|\n",
      "|85:46:146:000|           Zug|       146|   Zürich Kreuzplatz|         06:04|Zürich Stadelhofe...| 06:07|\n",
      "|85:46:146:000|           Zug|       146|Zürich Stadelhofe...|         06:07|                null|  null|\n",
      "|85:46:147:000|           Zug|       147|Zürich Stadelhofe...|         05:48|   Zürich Kreuzplatz| 05:49|\n",
      "|85:46:147:000|           Zug|       147|   Zürich Kreuzplatz|         05:49|Zürich Hegibachplatz| 05:51|\n",
      "|85:46:147:000|           Zug|       147|Zürich Hegibachplatz|         05:51|     Zürich Balgrist| 05:54|\n",
      "|85:46:147:000|           Zug|       147|     Zürich Balgrist|         05:54|      Zürich, Rehalp| 05:57|\n",
      "|85:46:147:000|           Zug|       147|      Zürich, Rehalp|         05:57|            Waldburg| 05:58|\n",
      "|85:46:147:000|           Zug|       147|            Waldburg|         05:59| Spital Zollikerberg| 06:00|\n",
      "|85:46:147:000|           Zug|       147| Spital Zollikerberg|         06:00|        Zollikerberg| 06:01|\n",
      "|85:46:147:000|           Zug|       147|        Zollikerberg|         06:01|            Waltikon| 06:03|\n",
      "|85:46:147:000|           Zug|       147|            Waltikon|         06:03|             Zumikon| 06:05|\n",
      "|85:46:147:000|           Zug|       147|             Zumikon|         06:05|            Maiacher| 06:06|\n",
      "|85:46:147:000|           Zug|       147|            Maiacher|         06:06|          Neue Forch| 06:07|\n",
      "|85:46:147:000|           Zug|       147|          Neue Forch|         06:07|                null|  null|\n",
      "|85:46:148:000|           Zug|       148|          Neue Forch|         06:01|            Maiacher| 06:02|\n",
      "|85:46:148:000|           Zug|       148|            Maiacher|         06:02|             Zumikon| 06:03|\n",
      "|85:46:148:000|           Zug|       148|             Zumikon|         06:03|            Waltikon| 06:05|\n",
      "|85:46:148:000|           Zug|       148|            Waltikon|         06:05|        Zollikerberg| 06:07|\n",
      "|85:46:148:000|           Zug|       148|        Zollikerberg|         06:07| Spital Zollikerberg| 06:08|\n",
      "|85:46:148:000|           Zug|       148| Spital Zollikerberg|         06:08|            Waldburg| 06:09|\n",
      "|85:46:148:000|           Zug|       148|            Waldburg|         06:09|      Zürich, Rehalp| 06:12|\n",
      "|85:46:148:000|           Zug|       148|      Zürich, Rehalp|         06:12|     Zürich Balgrist| 06:14|\n",
      "|85:46:148:000|           Zug|       148|     Zürich Balgrist|         06:14|Zürich Hegibachplatz| 06:17|\n",
      "|85:46:148:000|           Zug|       148|Zürich Hegibachplatz|         06:17|   Zürich Kreuzplatz| 06:19|\n",
      "|85:46:148:000|           Zug|       148|   Zürich Kreuzplatz|         06:19|Zürich Stadelhofe...| 06:22|\n",
      "|85:46:148:000|           Zug|       148|Zürich Stadelhofe...|         06:22|                null|  null|\n",
      "|85:46:150:000|           Zug|       150|          Neue Forch|         06:16|            Maiacher| 06:17|\n",
      "|85:46:150:000|           Zug|       150|            Maiacher|         06:17|             Zumikon| 06:18|\n",
      "+-------------+--------------+----------+--------------------+--------------+--------------------+------+\n",
      "only showing top 50 rows\n",
      "\n"
     ]
    }
   ],
   "source": [
    "second_table_useful_final\\\n",
    ".filter(second_table_useful_final.transport_type == \"Zug\")\\\n",
    ".orderBy('train_line', 'trip_id', 'departure_time', 'arr_nx').show(50)"
   ]
  },
  {
   "cell_type": "markdown",
   "metadata": {},
   "source": [
    "- showing buses:"
   ]
  },
  {
   "cell_type": "code",
   "execution_count": 55,
   "metadata": {},
   "outputs": [
    {
     "name": "stdout",
     "output_type": "stream",
     "text": [
      "+--------------------+--------------+----------+--------------------+--------------+--------------------+------+\n",
      "|             trip_id|transport_type|train_line|        station_name|departure_time|          nx_station|arr_nx|\n",
      "+--------------------+--------------+----------+--------------------+--------------+--------------------+------+\n",
      "|85:773:22519-01485-1|           Bus|85:773:454|Regensdorf-Watt, ...|         06:27| Regensdorf, Althard| 06:27|\n",
      "|85:773:22519-01485-1|           Bus|85:773:454| Regensdorf, Althard|         06:28|Regensdorf, Hardh...| 06:28|\n",
      "|85:773:22519-01485-1|           Bus|85:773:454|Regensdorf, Hardh...|         06:28|Regensdorf, Quers...| 06:29|\n",
      "|85:773:22519-01485-1|           Bus|85:773:454|Regensdorf, Quers...|         06:29|                null|  null|\n",
      "|85:773:98965-01485-1|           Bus|85:773:454| Regensdorf, Althard|         07:02|Regensdorf-Watt, ...| 07:02|\n",
      "|85:773:98965-01485-1|           Bus|85:773:454|Regensdorf-Watt, ...|         07:02|Regensdorf, Hardh...| 07:03|\n",
      "|85:773:98965-01485-1|           Bus|85:773:454|Regensdorf, Hardh...|         07:03|Regensdorf, Quers...| 07:04|\n",
      "|85:773:98965-01485-1|           Bus|85:773:454|Regensdorf, Quers...|         07:04|                null|  null|\n",
      "|85:773:98966-01485-1|           Bus|85:773:454| Regensdorf, Althard|         07:32|Regensdorf-Watt, ...| 07:32|\n",
      "|85:773:98966-01485-1|           Bus|85:773:454|Regensdorf-Watt, ...|         07:32|Regensdorf, Hardh...| 07:33|\n",
      "|85:773:98966-01485-1|           Bus|85:773:454|Regensdorf, Hardh...|         07:33|Regensdorf, Quers...| 07:34|\n",
      "|85:773:98966-01485-1|           Bus|85:773:454|Regensdorf, Quers...|         07:34|                null|  null|\n",
      "|85:773:98967-01485-1|           Bus|85:773:454| Regensdorf, Althard|         08:02|Regensdorf-Watt, ...| 08:02|\n",
      "|85:773:98967-01485-1|           Bus|85:773:454|Regensdorf-Watt, ...|         08:02|Regensdorf, Hardh...| 08:03|\n",
      "|85:773:98967-01485-1|           Bus|85:773:454|Regensdorf, Hardh...|         08:03|Regensdorf, Quers...| 08:04|\n",
      "|85:773:98967-01485-1|           Bus|85:773:454|Regensdorf, Quers...|         08:04|                null|  null|\n",
      "|85:773:98977-01485-1|           Bus|85:773:454|Regensdorf, Quers...|         16:33|Regensdorf, Hardh...| 16:33|\n",
      "|85:773:98977-01485-1|           Bus|85:773:454|Regensdorf, Hardh...|         16:34| Regensdorf, Althard| 16:35|\n",
      "|85:773:98977-01485-1|           Bus|85:773:454| Regensdorf, Althard|         16:35|Regensdorf-Watt, ...| 16:37|\n",
      "|85:773:98977-01485-1|           Bus|85:773:454|Regensdorf-Watt, ...|         16:37|                null|  null|\n",
      "|85:773:98978-01485-1|           Bus|85:773:454|Regensdorf, Quers...|         16:53|Regensdorf, Hardh...| 16:53|\n",
      "|85:773:98978-01485-1|           Bus|85:773:454|Regensdorf, Hardh...|         16:54| Regensdorf, Althard| 16:55|\n",
      "|85:773:98978-01485-1|           Bus|85:773:454| Regensdorf, Althard|         16:55|Regensdorf-Watt, ...| 16:57|\n",
      "|85:773:98978-01485-1|           Bus|85:773:454|Regensdorf-Watt, ...|         16:57|                null|  null|\n",
      "|85:773:98979-01485-1|           Bus|85:773:454|Regensdorf, Quers...|         17:23|Regensdorf, Hardh...| 17:23|\n",
      "|85:773:98979-01485-1|           Bus|85:773:454|Regensdorf, Hardh...|         17:24| Regensdorf, Althard| 17:25|\n",
      "|85:773:98979-01485-1|           Bus|85:773:454| Regensdorf, Althard|         17:25|Regensdorf-Watt, ...| 17:27|\n",
      "|85:773:98979-01485-1|           Bus|85:773:454|Regensdorf-Watt, ...|         17:27|                null|  null|\n",
      "|85:773:98980-01485-1|           Bus|85:773:454|Regensdorf, Quers...|         17:53|Regensdorf, Hardh...| 17:53|\n",
      "|85:773:98980-01485-1|           Bus|85:773:454|Regensdorf, Hardh...|         17:54| Regensdorf, Althard| 17:55|\n",
      "|85:773:98980-01485-1|           Bus|85:773:454| Regensdorf, Althard|         17:55|Regensdorf-Watt, ...| 17:57|\n",
      "|85:773:98980-01485-1|           Bus|85:773:454|Regensdorf-Watt, ...|         17:57|                null|  null|\n",
      "|85:773:98981-01485-1|           Bus|85:773:454|Regensdorf, Quers...|         18:23|Regensdorf, Hardh...| 18:23|\n",
      "|85:773:98981-01485-1|           Bus|85:773:454|Regensdorf, Hardh...|         18:24| Regensdorf, Althard| 18:25|\n",
      "|85:773:98981-01485-1|           Bus|85:773:454| Regensdorf, Althard|         18:25|Regensdorf-Watt, ...| 18:27|\n",
      "|85:773:98981-01485-1|           Bus|85:773:454|Regensdorf-Watt, ...|         18:27|                null|  null|\n",
      "|85:773:98982-01485-1|           Bus|85:773:454|Regensdorf, Quers...|         18:53|Regensdorf, Hardh...| 18:53|\n",
      "|85:773:98982-01485-1|           Bus|85:773:454|Regensdorf, Hardh...|         18:54| Regensdorf, Althard| 18:55|\n",
      "|85:773:98982-01485-1|           Bus|85:773:454| Regensdorf, Althard|         18:55|Regensdorf-Watt, ...| 18:57|\n",
      "|85:773:98982-01485-1|           Bus|85:773:454|Regensdorf-Watt, ...|         18:57|                null|  null|\n",
      "|85:773:13034-11456-1|           Bus|85:773:456| Regensdorf, Althard|         08:36|Regensdorf-Watt, ...| 08:36|\n",
      "|85:773:13034-11456-1|           Bus|85:773:456|Regensdorf-Watt, ...|         08:36|Regensdorf, Hardh...| 08:37|\n",
      "|85:773:13034-11456-1|           Bus|85:773:456|Regensdorf, Hardh...|         08:37|Regensdorf, Quers...| 08:38|\n",
      "|85:773:13034-11456-1|           Bus|85:773:456|Regensdorf, Quers...|         08:38|Regensdorf, Pumpw...| 08:39|\n",
      "|85:773:13034-11456-1|           Bus|85:773:456|Regensdorf, Pumpw...|         08:39|Regensdorf, Furtb...| 08:40|\n",
      "|85:773:13034-11456-1|           Bus|85:773:456|Regensdorf, Furtb...|         08:41|Adlikon b. R., Zi...| 08:43|\n",
      "|85:773:13034-11456-1|           Bus|85:773:456|Adlikon b. R., Zi...|         08:43|                null|  null|\n",
      "|85:773:17994-11456-1|           Bus|85:773:456|Adlikon b. R., Zi...|         08:45|Regensdorf, Furtb...| 08:48|\n",
      "|85:773:17994-11456-1|           Bus|85:773:456|Regensdorf, Furtb...|         08:48|Regensdorf, Pumpw...| 08:49|\n",
      "|85:773:17994-11456-1|           Bus|85:773:456|Regensdorf, Pumpw...|         08:49|Regensdorf, Quers...| 08:50|\n",
      "+--------------------+--------------+----------+--------------------+--------------+--------------------+------+\n",
      "only showing top 50 rows\n",
      "\n"
     ]
    }
   ],
   "source": [
    "second_table_useful_final\\\n",
    ".filter(second_table_useful_final.transport_type == \"Bus\")\\\n",
    ".orderBy('train_line', 'trip_id', 'departure_time', 'arr_nx').show(50)"
   ]
  },
  {
   "cell_type": "markdown",
   "metadata": {},
   "source": [
    "- showing trams:"
   ]
  },
  {
   "cell_type": "code",
   "execution_count": 56,
   "metadata": {},
   "outputs": [
    {
     "name": "stdout",
     "output_type": "stream",
     "text": [
      "+--------------------+--------------+-----------+--------------------+--------------+--------------------+------+\n",
      "|             trip_id|transport_type| train_line|        station_name|departure_time|          nx_station|arr_nx|\n",
      "+--------------------+--------------+-----------+--------------------+--------------+--------------------+------+\n",
      "|85:3849:80250-020...|          Tram|85:3849:002|Zürich,Kalkbreite...|         06:01|   Zürich, Lochergut| 06:02|\n",
      "|85:3849:80250-020...|          Tram|85:3849:002|   Zürich, Lochergut|         06:02|Zürich, Zypressen...| 06:03|\n",
      "|85:3849:80250-020...|          Tram|85:3849:002|Zürich, Zypressen...|         06:03|Zürich, Albisried...| 06:04|\n",
      "|85:3849:80250-020...|          Tram|85:3849:002|Zürich, Albisried...|         06:04|  Zürich, Letzigrund| 06:05|\n",
      "|85:3849:80250-020...|          Tram|85:3849:002|  Zürich, Letzigrund|         06:06|Zürich, Freihofst...| 06:06|\n",
      "|85:3849:80250-020...|          Tram|85:3849:002|Zürich, Freihofst...|         06:07|     Zürich, Kappeli| 06:08|\n",
      "|85:3849:80250-020...|          Tram|85:3849:002|     Zürich, Kappeli|         06:08|Zürich, Grimselst...| 06:09|\n",
      "|85:3849:80250-020...|          Tram|85:3849:002|Zürich, Grimselst...|         06:09| Zürich, Lindenplatz| 06:10|\n",
      "|85:3849:80250-020...|          Tram|85:3849:002| Zürich, Lindenplatz|         06:10|Zürich, Bachmatts...| 06:11|\n",
      "|85:3849:80250-020...|          Tram|85:3849:002|Zürich, Bachmatts...|         06:11|     Zürich, Farbhof| 06:12|\n",
      "|85:3849:80250-020...|          Tram|85:3849:002|     Zürich, Farbhof|         06:12|                null|  null|\n",
      "|85:3849:80251-020...|          Tram|85:3849:002|     Zürich, Farbhof|         06:14|Zürich, Bachmatts...| 06:15|\n",
      "|85:3849:80251-020...|          Tram|85:3849:002|Zürich, Bachmatts...|         06:15| Zürich, Lindenplatz| 06:16|\n",
      "|85:3849:80251-020...|          Tram|85:3849:002| Zürich, Lindenplatz|         06:16|Zürich, Grimselst...| 06:17|\n",
      "|85:3849:80251-020...|          Tram|85:3849:002|Zürich, Grimselst...|         06:17|     Zürich, Kappeli| 06:18|\n",
      "|85:3849:80251-020...|          Tram|85:3849:002|     Zürich, Kappeli|         06:18|Zürich, Freihofst...| 06:19|\n",
      "|85:3849:80251-020...|          Tram|85:3849:002|Zürich, Freihofst...|         06:20|  Zürich, Letzigrund| 06:20|\n",
      "|85:3849:80251-020...|          Tram|85:3849:002|  Zürich, Letzigrund|         06:21|Zürich, Albisried...| 06:22|\n",
      "|85:3849:80251-020...|          Tram|85:3849:002|Zürich, Albisried...|         06:22|Zürich, Zypressen...| 06:23|\n",
      "|85:3849:80251-020...|          Tram|85:3849:002|Zürich, Zypressen...|         06:23|   Zürich, Lochergut| 06:24|\n",
      "|85:3849:80251-020...|          Tram|85:3849:002|   Zürich, Lochergut|         06:24|Zürich,Kalkbreite...| 06:25|\n",
      "|85:3849:80251-020...|          Tram|85:3849:002|Zürich,Kalkbreite...|         06:26|Zürich, Bezirksge...| 06:27|\n",
      "|85:3849:80251-020...|          Tram|85:3849:002|Zürich, Bezirksge...|         06:27| Zürich, Stauffacher| 06:28|\n",
      "|85:3849:80251-020...|          Tram|85:3849:002| Zürich, Stauffacher|         06:30| Zürich, Sihlstrasse| 06:31|\n",
      "|85:3849:80251-020...|          Tram|85:3849:002| Zürich, Sihlstrasse|         06:31| Zürich, Paradeplatz| 06:33|\n",
      "|85:3849:80251-020...|          Tram|85:3849:002| Zürich, Paradeplatz|         06:33|Zürich, Börsenstr...| 06:34|\n",
      "|85:3849:80251-020...|          Tram|85:3849:002|Zürich, Börsenstr...|         06:34| Zürich, Bürkliplatz| 06:35|\n",
      "|85:3849:80251-020...|          Tram|85:3849:002| Zürich, Bürkliplatz|         06:35|    Zürich, Bellevue| 06:37|\n",
      "|85:3849:80251-020...|          Tram|85:3849:002|    Zürich, Bellevue|         06:37|   Zürich, Opernhaus| 06:38|\n",
      "|85:3849:80251-020...|          Tram|85:3849:002|   Zürich, Opernhaus|         06:39|Zürich, Kreuzstrasse| 06:39|\n",
      "|85:3849:80251-020...|          Tram|85:3849:002|Zürich, Kreuzstrasse|         06:40|Zürich, Feldeggst...| 06:41|\n",
      "|85:3849:80251-020...|          Tram|85:3849:002|Zürich, Feldeggst...|         06:41|  Zürich, Höschgasse| 06:42|\n",
      "|85:3849:80251-020...|          Tram|85:3849:002|  Zürich, Höschgasse|         06:42|Zürich, Fröhlichs...| 06:43|\n",
      "|85:3849:80251-020...|          Tram|85:3849:002|Zürich, Fröhlichs...|         06:43|Zürich, Wildbachs...| 06:44|\n",
      "|85:3849:80251-020...|          Tram|85:3849:002|Zürich, Wildbachs...|         06:44|                null|  null|\n",
      "|85:3849:80252-020...|          Tram|85:3849:002|Zürich, Wildbachs...|         06:52|Zürich, Fröhlichs...| 06:53|\n",
      "|85:3849:80252-020...|          Tram|85:3849:002|Zürich, Fröhlichs...|         06:53|  Zürich, Höschgasse| 06:54|\n",
      "|85:3849:80252-020...|          Tram|85:3849:002|  Zürich, Höschgasse|         06:55|Zürich, Feldeggst...| 06:55|\n",
      "|85:3849:80252-020...|          Tram|85:3849:002|Zürich, Feldeggst...|         06:56|Zürich, Kreuzstrasse| 06:56|\n",
      "|85:3849:80252-020...|          Tram|85:3849:002|Zürich, Kreuzstrasse|         06:57|   Zürich, Opernhaus| 06:58|\n",
      "|85:3849:80252-020...|          Tram|85:3849:002|   Zürich, Opernhaus|         06:58|    Zürich, Bellevue| 07:00|\n",
      "|85:3849:80252-020...|          Tram|85:3849:002|    Zürich, Bellevue|         07:01| Zürich, Bürkliplatz| 07:02|\n",
      "|85:3849:80252-020...|          Tram|85:3849:002| Zürich, Bürkliplatz|         07:03|Zürich, Börsenstr...| 07:04|\n",
      "|85:3849:80252-020...|          Tram|85:3849:002|Zürich, Börsenstr...|         07:04| Zürich, Paradeplatz| 07:05|\n",
      "|85:3849:80252-020...|          Tram|85:3849:002| Zürich, Paradeplatz|         07:06| Zürich, Sihlstrasse| 07:07|\n",
      "|85:3849:80252-020...|          Tram|85:3849:002| Zürich, Sihlstrasse|         07:07| Zürich, Stauffacher| 07:09|\n",
      "|85:3849:80252-020...|          Tram|85:3849:002| Zürich, Stauffacher|         07:10|Zürich, Bezirksge...| 07:11|\n",
      "|85:3849:80252-020...|          Tram|85:3849:002|Zürich, Bezirksge...|         07:11|Zürich,Kalkbreite...| 07:13|\n",
      "|85:3849:80252-020...|          Tram|85:3849:002|Zürich,Kalkbreite...|         07:13|   Zürich, Lochergut| 07:14|\n",
      "|85:3849:80252-020...|          Tram|85:3849:002|   Zürich, Lochergut|         07:14|Zürich, Zypressen...| 07:15|\n",
      "+--------------------+--------------+-----------+--------------------+--------------+--------------------+------+\n",
      "only showing top 50 rows\n",
      "\n"
     ]
    }
   ],
   "source": [
    "second_table_useful_final\\\n",
    ".filter(second_table_useful_final.transport_type == \"Tram\")\\\n",
    ".orderBy('train_line', 'trip_id', 'departure_time', 'arr_nx').show(50)"
   ]
  },
  {
   "cell_type": "markdown",
   "metadata": {},
   "source": [
    "- Saving our second table in pandas:"
   ]
  },
  {
   "cell_type": "code",
   "execution_count": 57,
   "metadata": {
    "collapsed": true
   },
   "outputs": [],
   "source": [
    "second_table_useful_final_pandas = second_table_useful_final.toPandas()"
   ]
  },
  {
   "cell_type": "code",
   "execution_count": null,
   "metadata": {
    "collapsed": true
   },
   "outputs": [],
   "source": [
    "second_table_useful_final_pandas.to_csv('trips_time_tables_pandas.csv')"
   ]
  },
  {
   "cell_type": "code",
   "execution_count": 58,
   "metadata": {
    "collapsed": true
   },
   "outputs": [],
   "source": [
    "second_pd = pd.from_csv('trips_time_tables_pandas.csv')"
   ]
  },
  {
   "cell_type": "code",
   "execution_count": 59,
   "metadata": {},
   "outputs": [
    {
     "data": {
      "text/html": [
       "<div>\n",
       "<style>\n",
       "    .dataframe thead tr:only-child th {\n",
       "        text-align: right;\n",
       "    }\n",
       "\n",
       "    .dataframe thead th {\n",
       "        text-align: left;\n",
       "    }\n",
       "\n",
       "    .dataframe tbody tr th {\n",
       "        vertical-align: top;\n",
       "    }\n",
       "</style>\n",
       "<table border=\"1\" class=\"dataframe\">\n",
       "  <thead>\n",
       "    <tr style=\"text-align: right;\">\n",
       "      <th></th>\n",
       "      <th>trip_id</th>\n",
       "      <th>transport_type</th>\n",
       "      <th>train_line</th>\n",
       "      <th>station_name</th>\n",
       "      <th>departure_time</th>\n",
       "      <th>nx_station</th>\n",
       "      <th>arr_nx</th>\n",
       "    </tr>\n",
       "  </thead>\n",
       "  <tbody>\n",
       "    <tr>\n",
       "      <th>0</th>\n",
       "      <td>85:11:18388:001</td>\n",
       "      <td>Zug</td>\n",
       "      <td>18388</td>\n",
       "      <td>Dietlikon</td>\n",
       "      <td>23:13</td>\n",
       "      <td>Stettbach</td>\n",
       "      <td>23:17</td>\n",
       "    </tr>\n",
       "    <tr>\n",
       "      <th>1</th>\n",
       "      <td>85:11:18388:001</td>\n",
       "      <td>Zug</td>\n",
       "      <td>18388</td>\n",
       "      <td>Stettbach</td>\n",
       "      <td>23:18</td>\n",
       "      <td>Zürich Stadelhofen</td>\n",
       "      <td>23:22</td>\n",
       "    </tr>\n",
       "    <tr>\n",
       "      <th>2</th>\n",
       "      <td>85:11:18388:001</td>\n",
       "      <td>Zug</td>\n",
       "      <td>18388</td>\n",
       "      <td>Zürich Stadelhofen</td>\n",
       "      <td>23:23</td>\n",
       "      <td>Zürich HB</td>\n",
       "      <td>23:26</td>\n",
       "    </tr>\n",
       "    <tr>\n",
       "      <th>3</th>\n",
       "      <td>85:11:18388:001</td>\n",
       "      <td>Zug</td>\n",
       "      <td>18388</td>\n",
       "      <td>Zürich HB</td>\n",
       "      <td>23:29</td>\n",
       "      <td>Zürich Hardbrücke</td>\n",
       "      <td>23:31</td>\n",
       "    </tr>\n",
       "    <tr>\n",
       "      <th>4</th>\n",
       "      <td>85:11:18388:001</td>\n",
       "      <td>Zug</td>\n",
       "      <td>18388</td>\n",
       "      <td>Zürich Hardbrücke</td>\n",
       "      <td>23:31</td>\n",
       "      <td>Zürich Altstetten</td>\n",
       "      <td>23:35</td>\n",
       "    </tr>\n",
       "    <tr>\n",
       "      <th>5</th>\n",
       "      <td>85:11:18388:001</td>\n",
       "      <td>Zug</td>\n",
       "      <td>18388</td>\n",
       "      <td>Zürich Altstetten</td>\n",
       "      <td>23:36</td>\n",
       "      <td>Schlieren</td>\n",
       "      <td>23:38</td>\n",
       "    </tr>\n",
       "    <tr>\n",
       "      <th>6</th>\n",
       "      <td>85:11:18388:001</td>\n",
       "      <td>Zug</td>\n",
       "      <td>18388</td>\n",
       "      <td>Schlieren</td>\n",
       "      <td>23:38</td>\n",
       "      <td>Glanzenberg</td>\n",
       "      <td>23:40</td>\n",
       "    </tr>\n",
       "    <tr>\n",
       "      <th>7</th>\n",
       "      <td>85:11:18388:001</td>\n",
       "      <td>Zug</td>\n",
       "      <td>18388</td>\n",
       "      <td>Glanzenberg</td>\n",
       "      <td>23:40</td>\n",
       "      <td>NaN</td>\n",
       "      <td>NaN</td>\n",
       "    </tr>\n",
       "    <tr>\n",
       "      <th>8</th>\n",
       "      <td>85:11:18718:001</td>\n",
       "      <td>Zug</td>\n",
       "      <td>18718</td>\n",
       "      <td>Zürich Tiefenbrunnen</td>\n",
       "      <td>05:41</td>\n",
       "      <td>Zürich Stadelhofen</td>\n",
       "      <td>05:44</td>\n",
       "    </tr>\n",
       "    <tr>\n",
       "      <th>9</th>\n",
       "      <td>85:11:18718:001</td>\n",
       "      <td>Zug</td>\n",
       "      <td>18718</td>\n",
       "      <td>Zürich Stadelhofen</td>\n",
       "      <td>05:45</td>\n",
       "      <td>Zürich HB</td>\n",
       "      <td>05:47</td>\n",
       "    </tr>\n",
       "    <tr>\n",
       "      <th>10</th>\n",
       "      <td>85:11:18718:001</td>\n",
       "      <td>Zug</td>\n",
       "      <td>18718</td>\n",
       "      <td>Zürich HB</td>\n",
       "      <td>05:49</td>\n",
       "      <td>Zürich Hardbrücke</td>\n",
       "      <td>05:51</td>\n",
       "    </tr>\n",
       "    <tr>\n",
       "      <th>11</th>\n",
       "      <td>85:11:18718:001</td>\n",
       "      <td>Zug</td>\n",
       "      <td>18718</td>\n",
       "      <td>Zürich Hardbrücke</td>\n",
       "      <td>05:51</td>\n",
       "      <td>Zürich Oerlikon</td>\n",
       "      <td>05:56</td>\n",
       "    </tr>\n",
       "    <tr>\n",
       "      <th>12</th>\n",
       "      <td>85:11:18718:001</td>\n",
       "      <td>Zug</td>\n",
       "      <td>18718</td>\n",
       "      <td>Zürich Oerlikon</td>\n",
       "      <td>05:57</td>\n",
       "      <td>Opfikon</td>\n",
       "      <td>05:59</td>\n",
       "    </tr>\n",
       "    <tr>\n",
       "      <th>13</th>\n",
       "      <td>85:11:18718:001</td>\n",
       "      <td>Zug</td>\n",
       "      <td>18718</td>\n",
       "      <td>Opfikon</td>\n",
       "      <td>05:59</td>\n",
       "      <td>Kloten Balsberg</td>\n",
       "      <td>06:01</td>\n",
       "    </tr>\n",
       "    <tr>\n",
       "      <th>14</th>\n",
       "      <td>85:11:18718:001</td>\n",
       "      <td>Zug</td>\n",
       "      <td>18718</td>\n",
       "      <td>Kloten Balsberg</td>\n",
       "      <td>06:01</td>\n",
       "      <td>Kloten</td>\n",
       "      <td>06:05</td>\n",
       "    </tr>\n",
       "    <tr>\n",
       "      <th>15</th>\n",
       "      <td>85:11:18718:001</td>\n",
       "      <td>Zug</td>\n",
       "      <td>18718</td>\n",
       "      <td>Kloten</td>\n",
       "      <td>06:06</td>\n",
       "      <td>Bassersdorf</td>\n",
       "      <td>06:09</td>\n",
       "    </tr>\n",
       "    <tr>\n",
       "      <th>16</th>\n",
       "      <td>85:11:18718:001</td>\n",
       "      <td>Zug</td>\n",
       "      <td>18718</td>\n",
       "      <td>Bassersdorf</td>\n",
       "      <td>06:09</td>\n",
       "      <td>NaN</td>\n",
       "      <td>NaN</td>\n",
       "    </tr>\n",
       "    <tr>\n",
       "      <th>17</th>\n",
       "      <td>85:11:19439:001</td>\n",
       "      <td>Zug</td>\n",
       "      <td>19439</td>\n",
       "      <td>Bonstetten-Wettswil</td>\n",
       "      <td>10:18</td>\n",
       "      <td>Birmensdorf ZH</td>\n",
       "      <td>10:24</td>\n",
       "    </tr>\n",
       "    <tr>\n",
       "      <th>18</th>\n",
       "      <td>85:11:19439:001</td>\n",
       "      <td>Zug</td>\n",
       "      <td>19439</td>\n",
       "      <td>Birmensdorf ZH</td>\n",
       "      <td>10:25</td>\n",
       "      <td>Urdorf Weihermatt</td>\n",
       "      <td>10:27</td>\n",
       "    </tr>\n",
       "    <tr>\n",
       "      <th>19</th>\n",
       "      <td>85:11:19439:001</td>\n",
       "      <td>Zug</td>\n",
       "      <td>19439</td>\n",
       "      <td>Urdorf Weihermatt</td>\n",
       "      <td>10:27</td>\n",
       "      <td>Urdorf</td>\n",
       "      <td>10:29</td>\n",
       "    </tr>\n",
       "  </tbody>\n",
       "</table>\n",
       "</div>"
      ],
      "text/plain": [
       "            trip_id transport_type train_line          station_name  \\\n",
       "0   85:11:18388:001            Zug      18388             Dietlikon   \n",
       "1   85:11:18388:001            Zug      18388             Stettbach   \n",
       "2   85:11:18388:001            Zug      18388    Zürich Stadelhofen   \n",
       "3   85:11:18388:001            Zug      18388             Zürich HB   \n",
       "4   85:11:18388:001            Zug      18388     Zürich Hardbrücke   \n",
       "5   85:11:18388:001            Zug      18388     Zürich Altstetten   \n",
       "6   85:11:18388:001            Zug      18388             Schlieren   \n",
       "7   85:11:18388:001            Zug      18388           Glanzenberg   \n",
       "8   85:11:18718:001            Zug      18718  Zürich Tiefenbrunnen   \n",
       "9   85:11:18718:001            Zug      18718    Zürich Stadelhofen   \n",
       "10  85:11:18718:001            Zug      18718             Zürich HB   \n",
       "11  85:11:18718:001            Zug      18718     Zürich Hardbrücke   \n",
       "12  85:11:18718:001            Zug      18718       Zürich Oerlikon   \n",
       "13  85:11:18718:001            Zug      18718               Opfikon   \n",
       "14  85:11:18718:001            Zug      18718       Kloten Balsberg   \n",
       "15  85:11:18718:001            Zug      18718                Kloten   \n",
       "16  85:11:18718:001            Zug      18718           Bassersdorf   \n",
       "17  85:11:19439:001            Zug      19439   Bonstetten-Wettswil   \n",
       "18  85:11:19439:001            Zug      19439        Birmensdorf ZH   \n",
       "19  85:11:19439:001            Zug      19439     Urdorf Weihermatt   \n",
       "\n",
       "   departure_time          nx_station arr_nx  \n",
       "0           23:13           Stettbach  23:17  \n",
       "1           23:18  Zürich Stadelhofen  23:22  \n",
       "2           23:23           Zürich HB  23:26  \n",
       "3           23:29   Zürich Hardbrücke  23:31  \n",
       "4           23:31   Zürich Altstetten  23:35  \n",
       "5           23:36           Schlieren  23:38  \n",
       "6           23:38         Glanzenberg  23:40  \n",
       "7           23:40                 NaN    NaN  \n",
       "8           05:41  Zürich Stadelhofen  05:44  \n",
       "9           05:45           Zürich HB  05:47  \n",
       "10          05:49   Zürich Hardbrücke  05:51  \n",
       "11          05:51     Zürich Oerlikon  05:56  \n",
       "12          05:57             Opfikon  05:59  \n",
       "13          05:59     Kloten Balsberg  06:01  \n",
       "14          06:01              Kloten  06:05  \n",
       "15          06:06         Bassersdorf  06:09  \n",
       "16          06:09                 NaN    NaN  \n",
       "17          10:18      Birmensdorf ZH  10:24  \n",
       "18          10:25   Urdorf Weihermatt  10:27  \n",
       "19          10:27              Urdorf  10:29  "
      ]
     },
     "execution_count": 59,
     "metadata": {},
     "output_type": "execute_result"
    }
   ],
   "source": [
    "second_pd.head(20)"
   ]
  },
  {
   "cell_type": "code",
   "execution_count": 60,
   "metadata": {},
   "outputs": [
    {
     "data": {
      "text/plain": [
       "(233067, 7)"
      ]
     },
     "execution_count": 60,
     "metadata": {},
     "output_type": "execute_result"
    }
   ],
   "source": [
    "second_pd.shape"
   ]
  },
  {
   "cell_type": "markdown",
   "metadata": {},
   "source": [
    "### THIRD TABLE: COMPUTING THE DELTAS DELAYS"
   ]
  },
  {
   "cell_type": "markdown",
   "metadata": {},
   "source": [
    "- First assumptions: we filter entries were transport does not stop, entries that are additional trips and failed trips"
   ]
  },
  {
   "cell_type": "code",
   "execution_count": 61,
   "metadata": {
    "collapsed": true
   },
   "outputs": [],
   "source": [
    "third_table = filtered_df.filter((filtered_df.DURCHFAHRT_TF == False) \\\n",
    "                                 & (filtered_df.additional_trip == False)\\\n",
    "                                 & (filtered_df.failed_trip == False)).cache()"
   ]
  },
  {
   "cell_type": "code",
   "execution_count": 62,
   "metadata": {},
   "outputs": [
    {
     "data": {
      "text/plain": [
       "51046583"
      ]
     },
     "execution_count": 62,
     "metadata": {},
     "output_type": "execute_result"
    }
   ],
   "source": [
    "third_table.count()"
   ]
  },
  {
   "cell_type": "code",
   "execution_count": 63,
   "metadata": {},
   "outputs": [
    {
     "data": {
      "text/plain": [
       "153603"
      ]
     },
     "execution_count": 63,
     "metadata": {},
     "output_type": "execute_result"
    }
   ],
   "source": [
    "third_table.select('trip_id').distinct().count()"
   ]
  },
  {
   "cell_type": "code",
   "execution_count": 64,
   "metadata": {
    "collapsed": true
   },
   "outputs": [],
   "source": [
    "useful_trips = third_table.groupBy('trip_id').count().filter(\"count > 1\")"
   ]
  },
  {
   "cell_type": "code",
   "execution_count": 65,
   "metadata": {},
   "outputs": [
    {
     "data": {
      "text/plain": [
       "153572"
      ]
     },
     "execution_count": 65,
     "metadata": {},
     "output_type": "execute_result"
    }
   ],
   "source": [
    "useful_trips.count()"
   ]
  },
  {
   "cell_type": "code",
   "execution_count": 66,
   "metadata": {
    "collapsed": true
   },
   "outputs": [],
   "source": [
    "useful_trips = useful_trips.drop('count')"
   ]
  },
  {
   "cell_type": "markdown",
   "metadata": {},
   "source": [
    "- merging with our third table:"
   ]
  },
  {
   "cell_type": "code",
   "execution_count": 67,
   "metadata": {
    "collapsed": true
   },
   "outputs": [],
   "source": [
    "third_table = third_table.join(useful_trips, on=\"trip_id\", how='inner').cache()"
   ]
  },
  {
   "cell_type": "code",
   "execution_count": 68,
   "metadata": {
    "scrolled": true
   },
   "outputs": [
    {
     "data": {
      "text/plain": [
       "51046552"
      ]
     },
     "execution_count": 68,
     "metadata": {},
     "output_type": "execute_result"
    }
   ],
   "source": [
    "third_table.count()"
   ]
  },
  {
   "cell_type": "code",
   "execution_count": 69,
   "metadata": {},
   "outputs": [
    {
     "name": "stdout",
     "output_type": "stream",
     "text": [
      "+------------------+\n",
      "|AN_PROGNOSE_STATUS|\n",
      "+------------------+\n",
      "|        GESCHAETZT|\n",
      "|          PROGNOSE|\n",
      "|              REAL|\n",
      "|         UNBEKANNT|\n",
      "+------------------+\n",
      "\n"
     ]
    }
   ],
   "source": [
    "third_table.select(third_table.AN_PROGNOSE_STATUS).distinct().show()"
   ]
  },
  {
   "cell_type": "code",
   "execution_count": 70,
   "metadata": {},
   "outputs": [
    {
     "name": "stdout",
     "output_type": "stream",
     "text": [
      "+------------------+\n",
      "|AB_PROGNOSE_STATUS|\n",
      "+------------------+\n",
      "|        GESCHAETZT|\n",
      "|          PROGNOSE|\n",
      "|              REAL|\n",
      "|         UNBEKANNT|\n",
      "+------------------+\n",
      "\n"
     ]
    }
   ],
   "source": [
    "third_table.select(third_table.AB_PROGNOSE_STATUS).distinct().show()"
   ]
  },
  {
   "cell_type": "code",
   "execution_count": 71,
   "metadata": {},
   "outputs": [
    {
     "data": {
      "text/plain": [
       "10312"
      ]
     },
     "execution_count": 71,
     "metadata": {},
     "output_type": "execute_result"
    }
   ],
   "source": [
    "third_table.filter(third_table.AN_PROGNOSE_STATUS == \"REAL\").count()"
   ]
  },
  {
   "cell_type": "code",
   "execution_count": 72,
   "metadata": {},
   "outputs": [
    {
     "data": {
      "text/plain": [
       "10443"
      ]
     },
     "execution_count": 72,
     "metadata": {},
     "output_type": "execute_result"
    }
   ],
   "source": [
    "third_table.filter(third_table.AB_PROGNOSE_STATUS == \"REAL\").count()"
   ]
  },
  {
   "cell_type": "markdown",
   "metadata": {},
   "source": [
    "- We have 10.312 entries with REAL = effective actual time of arrival, 10.443 for departure"
   ]
  },
  {
   "cell_type": "code",
   "execution_count": 73,
   "metadata": {},
   "outputs": [
    {
     "data": {
      "text/plain": [
       "2479631"
      ]
     },
     "execution_count": 73,
     "metadata": {},
     "output_type": "execute_result"
    }
   ],
   "source": [
    "third_table.filter(third_table.AN_PROGNOSE_STATUS == \"GESCHAETZT\").count()"
   ]
  },
  {
   "cell_type": "code",
   "execution_count": 74,
   "metadata": {},
   "outputs": [
    {
     "data": {
      "text/plain": [
       "2505089"
      ]
     },
     "execution_count": 74,
     "metadata": {},
     "output_type": "execute_result"
    }
   ],
   "source": [
    "third_table.filter(third_table.AB_PROGNOSE_STATUS == \"GESCHAETZT\").count()"
   ]
  },
  {
   "cell_type": "markdown",
   "metadata": {},
   "source": [
    "- we have 2.479.647 entries with GESCHAETZT = calculated actual time of arrival, 2.505.094 for departure"
   ]
  },
  {
   "cell_type": "code",
   "execution_count": 75,
   "metadata": {},
   "outputs": [
    {
     "data": {
      "text/plain": [
       "48484828"
      ]
     },
     "execution_count": 75,
     "metadata": {},
     "output_type": "execute_result"
    }
   ],
   "source": [
    "third_table.filter(third_table.AN_PROGNOSE_STATUS == \"PROGNOSE\").count()"
   ]
  },
  {
   "cell_type": "code",
   "execution_count": 76,
   "metadata": {},
   "outputs": [
    {
     "data": {
      "text/plain": [
       "48459245"
      ]
     },
     "execution_count": 76,
     "metadata": {},
     "output_type": "execute_result"
    }
   ],
   "source": [
    "third_table.filter(third_table.AB_PROGNOSE_STATUS == \"PROGNOSE\").count()"
   ]
  },
  {
   "cell_type": "markdown",
   "metadata": {},
   "source": [
    "- we have 48.484.841 entries with PROGNOSE = arrival forecast, 48.484.841 also for departure\n"
   ]
  },
  {
   "cell_type": "code",
   "execution_count": 77,
   "metadata": {
    "scrolled": true
   },
   "outputs": [
    {
     "data": {
      "text/plain": [
       "71781"
      ]
     },
     "execution_count": 77,
     "metadata": {},
     "output_type": "execute_result"
    }
   ],
   "source": [
    "third_table.filter(third_table.AN_PROGNOSE_STATUS == \"UNBEKANNT\").count()"
   ]
  },
  {
   "cell_type": "code",
   "execution_count": 78,
   "metadata": {
    "scrolled": true
   },
   "outputs": [
    {
     "data": {
      "text/plain": [
       "71775"
      ]
     },
     "execution_count": 78,
     "metadata": {},
     "output_type": "execute_result"
    }
   ],
   "source": [
    "third_table.filter(third_table.AB_PROGNOSE_STATUS == \"UNBEKANNT\").count()"
   ]
  },
  {
   "cell_type": "markdown",
   "metadata": {},
   "source": [
    "- we have 71.783 entries with UNBEKANNT = Unknown, No forecast and actual times available for this and all previous stops, 71.775 for departures"
   ]
  },
  {
   "cell_type": "code",
   "execution_count": 79,
   "metadata": {},
   "outputs": [
    {
     "name": "stdout",
     "output_type": "stream",
     "text": [
      "+--------------+\n",
      "|actual_arrival|\n",
      "+--------------+\n",
      "|          null|\n",
      "|          null|\n",
      "|          null|\n",
      "|          null|\n",
      "|          null|\n",
      "+--------------+\n",
      "only showing top 5 rows\n",
      "\n"
     ]
    }
   ],
   "source": [
    "third_table.filter(third_table.AN_PROGNOSE_STATUS == \"UNBEKANNT\").select('actual_arrival').show(5)"
   ]
  },
  {
   "cell_type": "markdown",
   "metadata": {},
   "source": [
    "- We count the null values of actual arrivals and actual departures:"
   ]
  },
  {
   "cell_type": "code",
   "execution_count": 80,
   "metadata": {},
   "outputs": [
    {
     "data": {
      "text/plain": [
       "2666554"
      ]
     },
     "execution_count": 80,
     "metadata": {},
     "output_type": "execute_result"
    }
   ],
   "source": [
    "third_table.filter(third_table.actual_arrival.isNull()).count()"
   ]
  },
  {
   "cell_type": "code",
   "execution_count": 81,
   "metadata": {},
   "outputs": [
    {
     "data": {
      "text/plain": [
       "2669517"
      ]
     },
     "execution_count": 81,
     "metadata": {},
     "output_type": "execute_result"
    }
   ],
   "source": [
    "third_table.filter(third_table.actual_departure.isNull()).count()"
   ]
  },
  {
   "cell_type": "markdown",
   "metadata": {},
   "source": [
    "- we have more values than in the count() on the UNBEKANNT, this means that we have null values also in the other categories --> let us check:"
   ]
  },
  {
   "cell_type": "code",
   "execution_count": 82,
   "metadata": {},
   "outputs": [
    {
     "name": "stdout",
     "output_type": "stream",
     "text": [
      "+------------------+-------+\n",
      "|AN_PROGNOSE_STATUS|  count|\n",
      "+------------------+-------+\n",
      "|          PROGNOSE|2594773|\n",
      "|         UNBEKANNT|  71781|\n",
      "+------------------+-------+\n",
      "\n"
     ]
    }
   ],
   "source": [
    "third_table.filter(third_table.actual_arrival.isNull()).groupBy('AN_PROGNOSE_STATUS').count().show()"
   ]
  },
  {
   "cell_type": "code",
   "execution_count": 83,
   "metadata": {},
   "outputs": [
    {
     "name": "stdout",
     "output_type": "stream",
     "text": [
      "+------------------+-------+\n",
      "|AB_PROGNOSE_STATUS|  count|\n",
      "+------------------+-------+\n",
      "|          PROGNOSE|2597742|\n",
      "|         UNBEKANNT|  71775|\n",
      "+------------------+-------+\n",
      "\n"
     ]
    }
   ],
   "source": [
    "third_table.filter(third_table.actual_departure.isNull()).groupBy('AB_PROGNOSE_STATUS').count().show()"
   ]
  },
  {
   "cell_type": "markdown",
   "metadata": {},
   "source": [
    "- As you can see, all the UNBEKANNT entries have actual_arrival = null, and some entries with PROGNOSE have also null values. For the null values in PROGNOSE we suspect that maybe this could be related to the entries that represent the first or the last stop, where respectively the arrival and departure times are null. We will verify this hypothesis:"
   ]
  },
  {
   "cell_type": "code",
   "execution_count": 84,
   "metadata": {},
   "outputs": [
    {
     "name": "stdout",
     "output_type": "stream",
     "text": [
      "+------------------+-------+\n",
      "|AB_PROGNOSE_STATUS|  count|\n",
      "+------------------+-------+\n",
      "|          PROGNOSE|2566167|\n",
      "+------------------+-------+\n",
      "\n"
     ]
    }
   ],
   "source": [
    "third_table.filter((third_table.actual_departure.isNull()) \\\n",
    "                   & (third_table.departure_time.isNull()))\\\n",
    "                   .groupBy('AB_PROGNOSE_STATUS').count().show()"
   ]
  },
  {
   "cell_type": "code",
   "execution_count": 85,
   "metadata": {},
   "outputs": [
    {
     "name": "stdout",
     "output_type": "stream",
     "text": [
      "+------------------+-----+\n",
      "|AB_PROGNOSE_STATUS|count|\n",
      "+------------------+-----+\n",
      "|          PROGNOSE|31575|\n",
      "|         UNBEKANNT|71775|\n",
      "+------------------+-----+\n",
      "\n"
     ]
    }
   ],
   "source": [
    "third_table.filter((third_table.actual_departure.isNull()) \\\n",
    "                   & (third_table.departure_time.isNotNull()))\\\n",
    "                   .groupBy('AB_PROGNOSE_STATUS').count().show()"
   ]
  },
  {
   "cell_type": "code",
   "execution_count": 86,
   "metadata": {},
   "outputs": [
    {
     "name": "stdout",
     "output_type": "stream",
     "text": [
      "+------------------+-------+\n",
      "|AN_PROGNOSE_STATUS|  count|\n",
      "+------------------+-------+\n",
      "|          PROGNOSE|2565026|\n",
      "+------------------+-------+\n",
      "\n"
     ]
    }
   ],
   "source": [
    "third_table.filter((third_table.actual_arrival.isNull()) \\\n",
    "                   & (third_table.arrival_time.isNull()))\\\n",
    "                   .groupBy('AN_PROGNOSE_STATUS').count().show()"
   ]
  },
  {
   "cell_type": "code",
   "execution_count": 87,
   "metadata": {},
   "outputs": [
    {
     "name": "stdout",
     "output_type": "stream",
     "text": [
      "+------------------+-----+\n",
      "|AN_PROGNOSE_STATUS|count|\n",
      "+------------------+-----+\n",
      "|          PROGNOSE|29747|\n",
      "|         UNBEKANNT|71781|\n",
      "+------------------+-----+\n",
      "\n"
     ]
    }
   ],
   "source": [
    "third_table.filter((third_table.actual_arrival.isNull()) \\\n",
    "                   & (third_table.arrival_time.isNotNull()))\\\n",
    "                   .groupBy('AN_PROGNOSE_STATUS').count().show()"
   ]
  },
  {
   "cell_type": "markdown",
   "metadata": {},
   "source": [
    "- For departure times, we have that 2.566.183 null values correspond to entries representing a last stop, we will treat these delays also as null. Then we have 31.575 null values for the departure actual time when the departure time is different from null, we will treat these delays as zeros.\n",
    "- Same procedure for arrivals"
   ]
  },
  {
   "cell_type": "markdown",
   "metadata": {},
   "source": [
    "- We will see how many first and last stop are linked to the transport type:"
   ]
  },
  {
   "cell_type": "code",
   "execution_count": 88,
   "metadata": {},
   "outputs": [
    {
     "name": "stdout",
     "output_type": "stream",
     "text": [
      "+--------------+-------+\n",
      "|transport_type|  count|\n",
      "+--------------+-------+\n",
      "|          null|     24|\n",
      "|          Tram| 734985|\n",
      "|           Zug| 149176|\n",
      "|           Bus|1680841|\n",
      "+--------------+-------+\n",
      "\n"
     ]
    }
   ],
   "source": [
    "third_table.filter(third_table.arrival_time.isNull()).groupBy('transport_type').count().show()"
   ]
  },
  {
   "cell_type": "code",
   "execution_count": 89,
   "metadata": {},
   "outputs": [
    {
     "name": "stdout",
     "output_type": "stream",
     "text": [
      "+--------------+-------+\n",
      "|transport_type|  count|\n",
      "+--------------+-------+\n",
      "|          null|      4|\n",
      "|          Tram| 733309|\n",
      "|           Zug| 150648|\n",
      "|           Bus|1682206|\n",
      "+--------------+-------+\n",
      "\n"
     ]
    }
   ],
   "source": [
    "third_table.filter(third_table.departure_time.isNull()).groupBy('transport_type').count().show()"
   ]
  },
  {
   "cell_type": "markdown",
   "metadata": {},
   "source": [
    "- if we just use only the GESCHAETZT entries, we will use only 4.8 % of our available data. Also, if we drop all the other entries there is the risk to lose information about some connection in our network. Right now we will just compute the difference of the columns. A further discussion with the other group members and TAs should be done.\n",
    "- Is critical how to handle the null values, do we put delay = 0 if null? Or do we drop those entries? (by dropping them, we stil have the same problem highlighted in the first point of this cell. Right now I put a zero for all the null values.\n",
    "- We also create a 'hour' column because it could be useful for the statitistics tests"
   ]
  },
  {
   "cell_type": "code",
   "execution_count": 90,
   "metadata": {
    "collapsed": true
   },
   "outputs": [],
   "source": [
    "third_table_final = third_table\\\n",
    ".withColumn('arrival_delay', when((third_table.actual_arrival.isNull()) \\\n",
    "                                  & (third_table.arrival_time.isNull()), None\n",
    "                                 )\n",
    "                                 .when((third_table.actual_arrival.isNull()) \\\n",
    "                                       & (third_table.arrival_time.isNotNull()), 0)\\\n",
    "                                 .otherwise(functions.round(unix_timestamp(\"actual_arrival\",'dd.MM.yyyy HH:mm') - \\\n",
    "                                            unix_timestamp(\"arrival_time\",'dd.MM.yyyy HH:mm')) / 60))\\\n",
    "\n",
    ".withColumn('departure_delay', when((third_table.actual_departure.isNull())\\\n",
    "                                    & (third_table.departure_time.isNull()), None\n",
    "                                 )\n",
    "                                 .when((third_table.actual_departure.isNull()) \\\n",
    "                                       & (third_table.departure_time.isNotNull()), 0)\\\n",
    "                                    .otherwise(functions.round(unix_timestamp(\"actual_departure\",'dd.MM.yyyy HH:mm')\\\n",
    "                                               - unix_timestamp(\"departure_time\",'dd.MM.yyyy HH:mm')) /60))\\\n",
    ".withColumn('hour',  when(third_table.arrival_time.isNull(), hour(to_timestamp(third_table.departure_time,\n",
    "                                                                              'dd.MM.yyyy HH:mm'))) \\\n",
    "                         .otherwise(hour(to_timestamp(third_table.arrival_time, 'dd.MM.yyyy HH:mm'))))"
   ]
  },
  {
   "cell_type": "code",
   "execution_count": 91,
   "metadata": {},
   "outputs": [
    {
     "name": "stdout",
     "output_type": "stream",
     "text": [
      "+----------------+-------------------+-------------+----------------+-------------------+---------------+----+\n",
      "|    arrival_time|     actual_arrival|arrival_delay|  departure_time|   actual_departure|departure_delay|hour|\n",
      "+----------------+-------------------+-------------+----------------+-------------------+---------------+----+\n",
      "|09.12.2017 01:52|09.12.2017 01:52:27|          0.0|09.12.2017 01:52|09.12.2017 01:53:53|            1.0|   1|\n",
      "|09.12.2017 01:55|09.12.2017 01:55:33|          0.0|09.12.2017 01:57|09.12.2017 01:57:49|            0.0|   1|\n",
      "|09.12.2017 01:59|09.12.2017 01:59:39|          0.0|09.12.2017 01:59|09.12.2017 02:02:46|            3.0|   1|\n",
      "|09.12.2017 02:01|09.12.2017 02:05:28|          4.0|09.12.2017 02:01|09.12.2017 02:06:19|            5.0|   2|\n",
      "|09.12.2017 02:06|09.12.2017 02:10:08|          4.0|09.12.2017 02:06|09.12.2017 02:11:02|            5.0|   2|\n",
      "+----------------+-------------------+-------------+----------------+-------------------+---------------+----+\n",
      "only showing top 5 rows\n",
      "\n"
     ]
    }
   ],
   "source": [
    "third_table_final.select('arrival_time', \n",
    "                   'actual_arrival', \n",
    "                   'arrival_delay', \n",
    "                   'departure_time', \n",
    "                   'actual_departure', \n",
    "                   'departure_delay',\n",
    "                   'hour').show(5)"
   ]
  },
  {
   "cell_type": "code",
   "execution_count": 92,
   "metadata": {},
   "outputs": [
    {
     "name": "stdout",
     "output_type": "stream",
     "text": [
      "+----+\n",
      "|hour|\n",
      "+----+\n",
      "|   0|\n",
      "|   1|\n",
      "|   2|\n",
      "|   3|\n",
      "|   4|\n",
      "|   5|\n",
      "|   6|\n",
      "|   7|\n",
      "|   8|\n",
      "|   9|\n",
      "|  10|\n",
      "|  11|\n",
      "|  12|\n",
      "|  13|\n",
      "|  14|\n",
      "|  15|\n",
      "|  16|\n",
      "|  17|\n",
      "|  18|\n",
      "|  19|\n",
      "|  20|\n",
      "|  21|\n",
      "|  22|\n",
      "|  23|\n",
      "+----+\n",
      "\n"
     ]
    }
   ],
   "source": [
    "third_table_final.select('hour').distinct().orderBy('hour').show(25)"
   ]
  },
  {
   "cell_type": "markdown",
   "metadata": {},
   "source": [
    "- Here we just check if our new columns were created properly with the \"when\" case:"
   ]
  },
  {
   "cell_type": "code",
   "execution_count": 93,
   "metadata": {
    "scrolled": true
   },
   "outputs": [
    {
     "name": "stdout",
     "output_type": "stream",
     "text": [
      "+----------------+--------------+-------------+----------------+----------------+---------------+----+\n",
      "|    arrival_time|actual_arrival|arrival_delay|  departure_time|actual_departure|departure_delay|hour|\n",
      "+----------------+--------------+-------------+----------------+----------------+---------------+----+\n",
      "|15.04.2018 23:31|          null|          0.0|15.04.2018 23:31|            null|            0.0|  23|\n",
      "|15.04.2018 23:35|          null|          0.0|15.04.2018 23:36|            null|            0.0|  23|\n",
      "|15.04.2018 23:38|          null|          0.0|15.04.2018 23:38|            null|            0.0|  23|\n",
      "|15.04.2018 23:40|          null|          0.0|15.04.2018 23:40|            null|            0.0|  23|\n",
      "|20.04.2018 23:31|          null|          0.0|20.04.2018 23:31|            null|            0.0|  23|\n",
      "+----------------+--------------+-------------+----------------+----------------+---------------+----+\n",
      "only showing top 5 rows\n",
      "\n"
     ]
    }
   ],
   "source": [
    "third_table_final.filter((third_table_final.actual_arrival.isNull()) \\\n",
    "                   & (third_table_final.arrival_time.isNotNull()))\\\n",
    "                   .select('arrival_time', \n",
    "                           'actual_arrival', \n",
    "                           'arrival_delay', \n",
    "                           'departure_time', \n",
    "                           'actual_departure', \n",
    "                           'departure_delay',\n",
    "                           'hour').show(5)"
   ]
  },
  {
   "cell_type": "code",
   "execution_count": 94,
   "metadata": {
    "scrolled": true
   },
   "outputs": [
    {
     "name": "stdout",
     "output_type": "stream",
     "text": [
      "+------------+--------------+-------------+----------------+-------------------+---------------+----+\n",
      "|arrival_time|actual_arrival|arrival_delay|  departure_time|   actual_departure|departure_delay|hour|\n",
      "+------------+--------------+-------------+----------------+-------------------+---------------+----+\n",
      "|        null|          null|         null|21.09.2017 05:41|21.09.2017 05:41:34|            0.0|   5|\n",
      "|        null|          null|         null|27.09.2017 05:41|27.09.2017 05:41:26|            0.0|   5|\n",
      "|        null|          null|         null|04.10.2017 05:41|04.10.2017 05:41:24|            0.0|   5|\n",
      "|        null|          null|         null|10.10.2017 05:41|10.10.2017 05:41:24|            0.0|   5|\n",
      "|        null|          null|         null|23.10.2017 05:41|23.10.2017 05:41:44|            0.0|   5|\n",
      "+------------+--------------+-------------+----------------+-------------------+---------------+----+\n",
      "only showing top 5 rows\n",
      "\n"
     ]
    }
   ],
   "source": [
    "third_table_final.filter((third_table_final.actual_arrival.isNull()) \\\n",
    "                   & (third_table_final.arrival_time.isNull()))\\\n",
    "                   .select('arrival_time', \n",
    "                           'actual_arrival', \n",
    "                           'arrival_delay', \n",
    "                           'departure_time', \n",
    "                           'actual_departure', \n",
    "                           'departure_delay',\n",
    "                           'hour').show(5)"
   ]
  },
  {
   "cell_type": "code",
   "execution_count": 102,
   "metadata": {},
   "outputs": [
    {
     "name": "stdout",
     "output_type": "stream",
     "text": [
      "+------------------+-------+\n",
      "|AN_PROGNOSE_STATUS|  count|\n",
      "+------------------+-------+\n",
      "|          PROGNOSE|2565026|\n",
      "+------------------+-------+\n",
      "\n"
     ]
    }
   ],
   "source": [
    "third_table_final.filter((third_table_final.arrival_delay.isNull()) \\\n",
    "                   )\\\n",
    "                   .groupBy('AN_PROGNOSE_STATUS').count().show()"
   ]
  },
  {
   "cell_type": "markdown",
   "metadata": {},
   "source": [
    "- we count how many distinct bins of 1 minute delays we have:"
   ]
  },
  {
   "cell_type": "code",
   "execution_count": 97,
   "metadata": {
    "scrolled": true
   },
   "outputs": [
    {
     "data": {
      "text/plain": [
       "536"
      ]
     },
     "execution_count": 97,
     "metadata": {},
     "output_type": "execute_result"
    }
   ],
   "source": [
    "third_table_final.groupBy('arrival_delay').count().orderBy('arrival_delay').count()"
   ]
  },
  {
   "cell_type": "code",
   "execution_count": 98,
   "metadata": {
    "scrolled": true
   },
   "outputs": [
    {
     "name": "stdout",
     "output_type": "stream",
     "text": [
      "+-------------+--------+\n",
      "|arrival_delay|   count|\n",
      "+-------------+--------+\n",
      "|         null| 2565026|\n",
      "|       -130.0|       1|\n",
      "|        -89.0|       1|\n",
      "|        -87.0|       1|\n",
      "|        -86.0|       3|\n",
      "|        -85.0|       1|\n",
      "|        -84.0|       1|\n",
      "|        -77.0|       3|\n",
      "|        -76.0|      21|\n",
      "|        -75.0|       1|\n",
      "|        -74.0|       2|\n",
      "|        -73.0|       2|\n",
      "|        -72.0|       4|\n",
      "|        -71.0|       4|\n",
      "|        -70.0|       7|\n",
      "|        -69.0|       8|\n",
      "|        -68.0|       8|\n",
      "|        -67.0|       8|\n",
      "|        -66.0|       8|\n",
      "|        -65.0|       7|\n",
      "|        -64.0|       3|\n",
      "|        -63.0|       6|\n",
      "|        -62.0|       3|\n",
      "|        -61.0|       6|\n",
      "|        -60.0|       8|\n",
      "|        -59.0|      16|\n",
      "|        -58.0|      30|\n",
      "|        -57.0|      50|\n",
      "|        -56.0|      37|\n",
      "|        -55.0|      31|\n",
      "|        -54.0|      23|\n",
      "|        -53.0|      25|\n",
      "|        -52.0|      41|\n",
      "|        -51.0|      23|\n",
      "|        -50.0|      30|\n",
      "|        -49.0|      34|\n",
      "|        -48.0|      31|\n",
      "|        -47.0|      47|\n",
      "|        -46.0|      48|\n",
      "|        -45.0|      36|\n",
      "|        -44.0|      51|\n",
      "|        -43.0|      38|\n",
      "|        -42.0|      38|\n",
      "|        -41.0|      72|\n",
      "|        -40.0|      42|\n",
      "|        -39.0|      23|\n",
      "|        -38.0|      45|\n",
      "|        -37.0|      55|\n",
      "|        -36.0|      47|\n",
      "|        -35.0|      50|\n",
      "|        -34.0|      50|\n",
      "|        -33.0|      39|\n",
      "|        -32.0|      55|\n",
      "|        -31.0|      49|\n",
      "|        -30.0|      97|\n",
      "|        -29.0|      95|\n",
      "|        -28.0|      88|\n",
      "|        -27.0|      71|\n",
      "|        -26.0|      88|\n",
      "|        -25.0|      84|\n",
      "|        -24.0|     116|\n",
      "|        -23.0|     120|\n",
      "|        -22.0|     136|\n",
      "|        -21.0|     114|\n",
      "|        -20.0|     151|\n",
      "|        -19.0|     142|\n",
      "|        -18.0|     217|\n",
      "|        -17.0|     221|\n",
      "|        -16.0|     336|\n",
      "|        -15.0|     490|\n",
      "|        -14.0|     916|\n",
      "|        -13.0|    1164|\n",
      "|        -12.0|     824|\n",
      "|        -11.0|     597|\n",
      "|        -10.0|     625|\n",
      "|         -9.0|     850|\n",
      "|         -8.0|    1257|\n",
      "|         -7.0|    1804|\n",
      "|         -6.0|    3106|\n",
      "|         -5.0|    4306|\n",
      "|         -4.0|    5759|\n",
      "|         -3.0|   16098|\n",
      "|         -2.0|  213808|\n",
      "|         -1.0| 4312008|\n",
      "|          0.0|21565488|\n",
      "|          1.0|13468726|\n",
      "|          2.0| 5096493|\n",
      "|          3.0| 1936364|\n",
      "|          4.0|  809082|\n",
      "|          5.0|  383133|\n",
      "|          6.0|  204909|\n",
      "|          7.0|  121989|\n",
      "|          8.0|   76484|\n",
      "|          9.0|   51034|\n",
      "|         10.0|   35478|\n",
      "|         11.0|   26138|\n",
      "|         12.0|   19298|\n",
      "|         13.0|   14436|\n",
      "|         14.0|   11476|\n",
      "|         15.0|    9282|\n",
      "|         16.0|    7768|\n",
      "|         17.0|    6420|\n",
      "|         18.0|    5181|\n",
      "|         19.0|    4453|\n",
      "|         20.0|    3937|\n",
      "|         21.0|    3529|\n",
      "|         22.0|    3111|\n",
      "|         23.0|    2559|\n",
      "|         24.0|    2442|\n",
      "|         25.0|    2070|\n",
      "|         26.0|    1883|\n",
      "|         27.0|    1819|\n",
      "|         28.0|    1414|\n",
      "|         29.0|    1348|\n",
      "|         30.0|    1454|\n",
      "|         31.0|    1332|\n",
      "|         32.0|    1309|\n",
      "|         33.0|     998|\n",
      "|         34.0|     965|\n",
      "|         35.0|     746|\n",
      "|         36.0|     734|\n",
      "|         37.0|     678|\n",
      "|         38.0|     646|\n",
      "|         39.0|     592|\n",
      "|         40.0|     657|\n",
      "|         41.0|     704|\n",
      "|         42.0|     620|\n",
      "|         43.0|     548|\n",
      "|         44.0|     686|\n",
      "|         45.0|     670|\n",
      "|         46.0|     602|\n",
      "|         47.0|     592|\n",
      "|         48.0|     615|\n",
      "|         49.0|     394|\n",
      "|         50.0|     419|\n",
      "|         51.0|     359|\n",
      "|         52.0|     469|\n",
      "|         53.0|     392|\n",
      "|         54.0|     492|\n",
      "|         55.0|     424|\n",
      "|         56.0|     363|\n",
      "|         57.0|     405|\n",
      "|         58.0|     339|\n",
      "|         59.0|     370|\n",
      "|         60.0|     442|\n",
      "|         61.0|     340|\n",
      "|         62.0|     338|\n",
      "|         63.0|     336|\n",
      "|         64.0|     273|\n",
      "|         65.0|     247|\n",
      "|         66.0|     192|\n",
      "|         67.0|     253|\n",
      "|         68.0|     238|\n",
      "|         69.0|     186|\n",
      "|         70.0|     202|\n",
      "|         71.0|     262|\n",
      "|         72.0|     235|\n",
      "|         73.0|     189|\n",
      "|         74.0|     215|\n",
      "|         75.0|     222|\n",
      "|         76.0|     154|\n",
      "|         77.0|     174|\n",
      "|         78.0|     183|\n",
      "|         79.0|     206|\n",
      "|         80.0|     154|\n",
      "|         81.0|     165|\n",
      "|         82.0|     147|\n",
      "|         83.0|     181|\n",
      "|         84.0|     172|\n",
      "|         85.0|     249|\n",
      "|         86.0|     228|\n",
      "|         87.0|     222|\n",
      "|         88.0|     177|\n",
      "|         89.0|     185|\n",
      "|         90.0|     228|\n",
      "|         91.0|     207|\n",
      "|         92.0|     207|\n",
      "|         93.0|     238|\n",
      "|         94.0|     161|\n",
      "|         95.0|     104|\n",
      "|         96.0|     164|\n",
      "|         97.0|     169|\n",
      "|         98.0|      90|\n",
      "|         99.0|      60|\n",
      "|        100.0|     136|\n",
      "|        101.0|     100|\n",
      "|        102.0|      56|\n",
      "|        103.0|     126|\n",
      "|        104.0|     116|\n",
      "|        105.0|     153|\n",
      "|        106.0|     139|\n",
      "|        107.0|     121|\n",
      "|        108.0|     161|\n",
      "|        109.0|     158|\n",
      "|        110.0|     118|\n",
      "|        111.0|     148|\n",
      "|        112.0|      88|\n",
      "|        113.0|     141|\n",
      "|        114.0|     156|\n",
      "|        115.0|      82|\n",
      "|        116.0|     117|\n",
      "|        117.0|      69|\n",
      "|        118.0|     128|\n",
      "|        119.0|      57|\n",
      "|        120.0|      75|\n",
      "|        121.0|     121|\n",
      "|        122.0|      90|\n",
      "|        123.0|      63|\n",
      "|        124.0|      79|\n",
      "|        125.0|      48|\n",
      "|        126.0|      56|\n",
      "|        127.0|      33|\n",
      "|        128.0|      33|\n",
      "|        129.0|      57|\n",
      "|        130.0|      44|\n",
      "|        131.0|      80|\n",
      "|        132.0|     118|\n",
      "|        133.0|     115|\n",
      "|        134.0|      46|\n",
      "|        135.0|     117|\n",
      "|        136.0|      95|\n",
      "|        137.0|      78|\n",
      "|        138.0|      52|\n",
      "|        139.0|      63|\n",
      "|        140.0|      98|\n",
      "|        141.0|     118|\n",
      "|        142.0|      76|\n",
      "|        143.0|      88|\n",
      "|        144.0|     121|\n",
      "|        145.0|      53|\n",
      "|        146.0|      81|\n",
      "|        147.0|      16|\n",
      "|        148.0|      18|\n",
      "|        149.0|      67|\n",
      "|        150.0|      49|\n",
      "|        151.0|      32|\n",
      "|        152.0|      15|\n",
      "|        153.0|      65|\n",
      "|        154.0|      51|\n",
      "|        155.0|      78|\n",
      "|        156.0|      23|\n",
      "|        157.0|      16|\n",
      "|        158.0|      37|\n",
      "|        159.0|      17|\n",
      "|        160.0|      34|\n",
      "|        161.0|      48|\n",
      "|        162.0|      57|\n",
      "|        163.0|      38|\n",
      "|        164.0|       6|\n",
      "|        165.0|       9|\n",
      "|        166.0|      40|\n",
      "|        167.0|      21|\n",
      "|        168.0|      46|\n",
      "|        169.0|      56|\n",
      "|        170.0|      48|\n",
      "|        171.0|      44|\n",
      "|        172.0|      85|\n",
      "|        173.0|      47|\n",
      "|        174.0|      39|\n",
      "|        175.0|      47|\n",
      "|        176.0|      62|\n",
      "|        177.0|      65|\n",
      "|        178.0|      57|\n",
      "|        179.0|      78|\n",
      "|        180.0|      50|\n",
      "|        181.0|      93|\n",
      "|        182.0|      34|\n",
      "|        183.0|      22|\n",
      "|        184.0|      36|\n",
      "|        185.0|      41|\n",
      "|        186.0|      24|\n",
      "|        187.0|      26|\n",
      "|        188.0|      15|\n",
      "|        189.0|      26|\n",
      "|        190.0|      15|\n",
      "|        191.0|      16|\n",
      "|        192.0|      30|\n",
      "|        193.0|      40|\n",
      "|        194.0|      21|\n",
      "|        195.0|      15|\n",
      "|        196.0|       1|\n",
      "|        197.0|      19|\n",
      "|        198.0|      20|\n",
      "|        200.0|       7|\n",
      "|        201.0|       3|\n",
      "|        204.0|      18|\n",
      "|        205.0|       8|\n",
      "|        206.0|      10|\n",
      "|        207.0|      28|\n",
      "|        208.0|      18|\n",
      "|        209.0|      61|\n",
      "|        210.0|      15|\n",
      "|        211.0|      45|\n",
      "|        212.0|       8|\n",
      "|        213.0|      29|\n",
      "|        214.0|       4|\n",
      "|        215.0|      40|\n",
      "|        216.0|       5|\n",
      "|        217.0|       2|\n",
      "|        218.0|      21|\n",
      "|        219.0|       8|\n",
      "|        220.0|      16|\n",
      "|        221.0|      33|\n",
      "|        222.0|      26|\n",
      "|        223.0|       3|\n",
      "|        224.0|       2|\n",
      "|        225.0|      27|\n",
      "|        226.0|      20|\n",
      "|        227.0|      19|\n",
      "|        228.0|      15|\n",
      "|        229.0|       2|\n",
      "|        230.0|      32|\n",
      "|        231.0|      23|\n",
      "|        232.0|      35|\n",
      "|        233.0|      40|\n",
      "|        234.0|      47|\n",
      "|        235.0|      26|\n",
      "|        236.0|      13|\n",
      "|        237.0|      18|\n",
      "|        238.0|      29|\n",
      "|        239.0|      26|\n",
      "|        240.0|      12|\n",
      "|        241.0|       2|\n",
      "|        244.0|      13|\n",
      "|        245.0|      43|\n",
      "|        246.0|       1|\n",
      "|        247.0|       5|\n",
      "|        248.0|       8|\n",
      "|        249.0|      14|\n",
      "|        250.0|      17|\n",
      "|        253.0|      20|\n",
      "|        254.0|       3|\n",
      "|        256.0|       3|\n",
      "|        257.0|      26|\n",
      "|        258.0|      31|\n",
      "|        259.0|       4|\n",
      "|        260.0|      13|\n",
      "|        261.0|      21|\n",
      "|        262.0|       8|\n",
      "|        263.0|       9|\n",
      "|        267.0|       3|\n",
      "|        268.0|       1|\n",
      "|        270.0|       2|\n",
      "|        271.0|       8|\n",
      "|        272.0|       3|\n",
      "|        273.0|      32|\n",
      "|        274.0|      12|\n",
      "|        275.0|      13|\n",
      "|        277.0|       4|\n",
      "|        278.0|       7|\n",
      "|        279.0|       4|\n",
      "|        280.0|      21|\n",
      "|        281.0|      12|\n",
      "|        282.0|       3|\n",
      "|        283.0|       6|\n",
      "|        284.0|       2|\n",
      "|        285.0|       8|\n",
      "|        286.0|      25|\n",
      "|        288.0|       5|\n",
      "|        289.0|      15|\n",
      "|        290.0|      34|\n",
      "|        291.0|      15|\n",
      "|        292.0|      48|\n",
      "|        293.0|      40|\n",
      "|        295.0|      25|\n",
      "|        296.0|      32|\n",
      "|        297.0|      22|\n",
      "|        299.0|       1|\n",
      "|        300.0|      27|\n",
      "|        301.0|      26|\n",
      "|        302.0|      37|\n",
      "|        303.0|       3|\n",
      "|        304.0|      18|\n",
      "|        305.0|       2|\n",
      "|        306.0|       4|\n",
      "|        307.0|       6|\n",
      "|        309.0|       5|\n",
      "|        310.0|      14|\n",
      "|        315.0|       2|\n",
      "|        316.0|       5|\n",
      "|        321.0|       2|\n",
      "|        324.0|       4|\n",
      "|        325.0|      16|\n",
      "|        326.0|       1|\n",
      "|        330.0|      12|\n",
      "|        334.0|       6|\n",
      "|        335.0|       2|\n",
      "|        345.0|       3|\n",
      "|        346.0|       3|\n",
      "|        347.0|       1|\n",
      "|        348.0|       1|\n",
      "|        350.0|       1|\n",
      "|        351.0|       1|\n",
      "|        352.0|      16|\n",
      "|        353.0|       3|\n",
      "|        354.0|       1|\n",
      "|        355.0|       1|\n",
      "|        356.0|       1|\n",
      "|        358.0|       1|\n",
      "|        359.0|       1|\n",
      "|        360.0|       4|\n",
      "|        361.0|       4|\n",
      "|        366.0|       1|\n",
      "|        367.0|       2|\n",
      "|        368.0|       8|\n",
      "|        369.0|       3|\n",
      "|        370.0|      12|\n",
      "|        371.0|       7|\n",
      "|        372.0|       3|\n",
      "|        373.0|       7|\n",
      "|        380.0|       5|\n",
      "|        381.0|       3|\n",
      "|        382.0|       4|\n",
      "|        383.0|       4|\n",
      "|        389.0|       2|\n",
      "|        390.0|       8|\n",
      "|        391.0|       2|\n",
      "|        392.0|       7|\n",
      "|        393.0|       7|\n",
      "|        397.0|       4|\n",
      "|        398.0|       6|\n",
      "|        400.0|       8|\n",
      "|        401.0|       2|\n",
      "|        405.0|      12|\n",
      "|        406.0|       1|\n",
      "|        407.0|       1|\n",
      "|        408.0|       3|\n",
      "|        409.0|      10|\n",
      "|        410.0|       1|\n",
      "|        411.0|       1|\n",
      "|        412.0|       1|\n",
      "|        413.0|       1|\n",
      "|        414.0|      18|\n",
      "|        416.0|       1|\n",
      "|        417.0|       1|\n",
      "|        418.0|       7|\n",
      "|        419.0|      13|\n",
      "|        420.0|      10|\n",
      "|        421.0|       1|\n",
      "|        422.0|       1|\n",
      "|        423.0|       7|\n",
      "|        424.0|       1|\n",
      "|        430.0|       6|\n",
      "|        431.0|       3|\n",
      "|        432.0|      10|\n",
      "|        433.0|       7|\n",
      "|        435.0|       6|\n",
      "|        436.0|       4|\n",
      "|        439.0|       2|\n",
      "|        440.0|       8|\n",
      "|        441.0|      10|\n",
      "|        442.0|       6|\n",
      "|        443.0|       4|\n",
      "|        444.0|      10|\n",
      "|        445.0|       7|\n",
      "|        446.0|       1|\n",
      "|        452.0|       6|\n",
      "|        453.0|      17|\n",
      "|        454.0|       9|\n",
      "|        459.0|       2|\n",
      "|        460.0|      15|\n",
      "|        461.0|       1|\n",
      "|        462.0|      17|\n",
      "|        463.0|      11|\n",
      "|        464.0|       1|\n",
      "|        465.0|      10|\n",
      "|        466.0|       5|\n",
      "|        467.0|       6|\n",
      "|        468.0|       1|\n",
      "|        469.0|       1|\n",
      "|        470.0|       4|\n",
      "|        471.0|      16|\n",
      "|        472.0|       7|\n",
      "|        473.0|       7|\n",
      "|        474.0|      20|\n",
      "|        475.0|      17|\n",
      "|        476.0|       3|\n",
      "|        487.0|       7|\n",
      "|        488.0|       1|\n",
      "|        494.0|       8|\n",
      "|        495.0|       3|\n",
      "|        498.0|      10|\n",
      "|        501.0|       8|\n",
      "|        502.0|       3|\n",
      "|        506.0|       7|\n",
      "|        507.0|       3|\n",
      "|        512.0|       3|\n",
      "|        513.0|       7|\n",
      "|        520.0|       6|\n",
      "|        521.0|       2|\n",
      "|        522.0|       4|\n",
      "|        523.0|       5|\n",
      "|        524.0|       1|\n",
      "|        525.0|       1|\n",
      "|        526.0|       2|\n",
      "|        527.0|       3|\n",
      "|        528.0|       2|\n",
      "|        529.0|       4|\n",
      "|        530.0|      12|\n",
      "|        531.0|       7|\n",
      "|        532.0|      14|\n",
      "|        533.0|       1|\n",
      "|        535.0|      17|\n",
      "|        537.0|       1|\n",
      "|        538.0|       1|\n",
      "|        539.0|       1|\n",
      "|        542.0|       1|\n",
      "|        543.0|       1|\n",
      "|        544.0|       1|\n",
      "|        546.0|       1|\n",
      "|        568.0|       2|\n",
      "|        569.0|       8|\n",
      "|        571.0|       4|\n",
      "|        572.0|       6|\n",
      "|        581.0|       6|\n",
      "|        582.0|       2|\n",
      "|        590.0|       2|\n",
      "|        591.0|       8|\n",
      "|        593.0|       4|\n",
      "|        594.0|       6|\n",
      "|        626.0|      22|\n",
      "|        627.0|       6|\n",
      "|        636.0|       1|\n",
      "|        637.0|      12|\n",
      "|        638.0|       5|\n",
      "|        639.0|       6|\n",
      "|        640.0|       5|\n",
      "|        649.0|       8|\n",
      "|        650.0|       4|\n",
      "|        651.0|       6|\n",
      "|        661.0|       2|\n",
      "|        662.0|       7|\n",
      "|        681.0|       8|\n",
      "|        682.0|       2|\n",
      "|        713.0|       6|\n",
      "|        714.0|       5|\n",
      "+-------------+--------+\n",
      "\n"
     ]
    }
   ],
   "source": [
    "third_table_final.groupBy('arrival_delay').count().orderBy('arrival_delay').show(536)"
   ]
  },
  {
   "cell_type": "code",
   "execution_count": 99,
   "metadata": {
    "scrolled": true
   },
   "outputs": [
    {
     "name": "stdout",
     "output_type": "stream",
     "text": [
      "+---------------+--------+\n",
      "|departure_delay|   count|\n",
      "+---------------+--------+\n",
      "|           null| 2566167|\n",
      "|        -1425.0|       1|\n",
      "|         -837.0|       1|\n",
      "|         -130.0|       1|\n",
      "|         -116.0|       1|\n",
      "|         -107.0|       1|\n",
      "|          -88.0|       2|\n",
      "|          -87.0|       2|\n",
      "|          -86.0|       1|\n",
      "|          -85.0|       1|\n",
      "|          -84.0|       2|\n",
      "|          -77.0|       3|\n",
      "|          -76.0|      23|\n",
      "|          -75.0|       2|\n",
      "|          -74.0|       1|\n",
      "|          -73.0|       2|\n",
      "|          -72.0|       3|\n",
      "|          -71.0|       5|\n",
      "|          -70.0|       7|\n",
      "|          -69.0|       9|\n",
      "|          -68.0|      11|\n",
      "|          -67.0|       7|\n",
      "|          -66.0|       8|\n",
      "|          -65.0|       8|\n",
      "|          -64.0|       5|\n",
      "|          -63.0|       6|\n",
      "|          -62.0|       3|\n",
      "|          -61.0|       4|\n",
      "|          -60.0|      14|\n",
      "|          -59.0|      11|\n",
      "|          -58.0|      31|\n",
      "|          -57.0|      46|\n",
      "|          -56.0|      40|\n",
      "|          -55.0|      36|\n",
      "|          -54.0|      20|\n",
      "|          -53.0|      25|\n",
      "|          -52.0|      39|\n",
      "|          -51.0|      28|\n",
      "|          -50.0|      37|\n",
      "|          -49.0|      26|\n",
      "|          -48.0|      34|\n",
      "|          -47.0|      51|\n",
      "|          -46.0|      44|\n",
      "|          -45.0|      39|\n",
      "|          -44.0|      55|\n",
      "|          -43.0|      37|\n",
      "|          -42.0|      35|\n",
      "|          -41.0|      72|\n",
      "|          -40.0|      41|\n",
      "|          -39.0|      28|\n",
      "|          -38.0|      41|\n",
      "|          -37.0|      52|\n",
      "|          -36.0|      51|\n",
      "|          -35.0|      54|\n",
      "|          -34.0|      45|\n",
      "|          -33.0|      48|\n",
      "|          -32.0|      48|\n",
      "|          -31.0|      55|\n",
      "|          -30.0|      92|\n",
      "|          -29.0|     102|\n",
      "|          -28.0|      96|\n",
      "|          -27.0|      73|\n",
      "|          -26.0|      80|\n",
      "|          -25.0|      86|\n",
      "|          -24.0|     106|\n",
      "|          -23.0|     120|\n",
      "|          -22.0|     138|\n",
      "|          -21.0|     137|\n",
      "|          -20.0|     265|\n",
      "|          -19.0|     220|\n",
      "|          -18.0|     251|\n",
      "|          -17.0|     289|\n",
      "|          -16.0|     449|\n",
      "|          -15.0|     773|\n",
      "|          -14.0|    1303|\n",
      "|          -13.0|     982|\n",
      "|          -12.0|     674|\n",
      "|          -11.0|     654|\n",
      "|          -10.0|     708|\n",
      "|           -9.0|    1024|\n",
      "|           -8.0|    1441|\n",
      "|           -7.0|    2308|\n",
      "|           -6.0|    4029|\n",
      "|           -5.0|    5144|\n",
      "|           -4.0|    6285|\n",
      "|           -3.0|   11591|\n",
      "|           -2.0|  137599|\n",
      "|           -1.0| 3379872|\n",
      "|            0.0|22709978|\n",
      "|            1.0|13366277|\n",
      "|            2.0| 5133202|\n",
      "|            3.0| 1921030|\n",
      "|            4.0|  788846|\n",
      "|            5.0|  370020|\n",
      "|            6.0|  197247|\n",
      "|            7.0|  117024|\n",
      "|            8.0|   73518|\n",
      "|            9.0|   49239|\n",
      "|           10.0|   34315|\n",
      "|           11.0|   25524|\n",
      "|           12.0|   18750|\n",
      "|           13.0|   14045|\n",
      "|           14.0|   11264|\n",
      "|           15.0|    9239|\n",
      "|           16.0|    7558|\n",
      "|           17.0|    6160|\n",
      "|           18.0|    5066|\n",
      "|           19.0|    4262|\n",
      "|           20.0|    3916|\n",
      "|           21.0|    3346|\n",
      "|           22.0|    3091|\n",
      "|           23.0|    2517|\n",
      "|           24.0|    2398|\n",
      "|           25.0|    1998|\n",
      "|           26.0|    1821|\n",
      "|           27.0|    1811|\n",
      "|           28.0|    1343|\n",
      "|           29.0|    1331|\n",
      "|           30.0|    1279|\n",
      "|           31.0|    1346|\n",
      "|           32.0|    1207|\n",
      "|           33.0|     997|\n",
      "|           34.0|     925|\n",
      "|           35.0|     742|\n",
      "|           36.0|     689|\n",
      "|           37.0|     631|\n",
      "|           38.0|     645|\n",
      "|           39.0|     582|\n",
      "|           40.0|     658|\n",
      "|           41.0|     704|\n",
      "|           42.0|     606|\n",
      "|           43.0|     546|\n",
      "|           44.0|     687|\n",
      "|           45.0|     639|\n",
      "|           46.0|     569|\n",
      "|           47.0|     625|\n",
      "|           48.0|     572|\n",
      "|           49.0|     373|\n",
      "|           50.0|     409|\n",
      "|           51.0|     377|\n",
      "|           52.0|     475|\n",
      "|           53.0|     393|\n",
      "|           54.0|     496|\n",
      "|           55.0|     424|\n",
      "|           56.0|     366|\n",
      "|           57.0|     383|\n",
      "|           58.0|     322|\n",
      "|           59.0|     365|\n",
      "|           60.0|     408|\n",
      "|           61.0|     341|\n",
      "|           62.0|     316|\n",
      "|           63.0|     307|\n",
      "|           64.0|     294|\n",
      "|           65.0|     241|\n",
      "|           66.0|     195|\n",
      "|           67.0|     240|\n",
      "|           68.0|     238|\n",
      "|           69.0|     185|\n",
      "|           70.0|     201|\n",
      "|           71.0|     251|\n",
      "|           72.0|     215|\n",
      "|           73.0|     204|\n",
      "|           74.0|     224|\n",
      "|           75.0|     213|\n",
      "|           76.0|     142|\n",
      "|           77.0|     180|\n",
      "|           78.0|     193|\n",
      "|           79.0|     192|\n",
      "|           80.0|     149|\n",
      "|           81.0|     169|\n",
      "|           82.0|     137|\n",
      "|           83.0|     176|\n",
      "|           84.0|     160|\n",
      "|           85.0|     255|\n",
      "|           86.0|     215|\n",
      "|           87.0|     226|\n",
      "|           88.0|     170|\n",
      "|           89.0|     205|\n",
      "|           90.0|     216|\n",
      "|           91.0|     199|\n",
      "|           92.0|     201|\n",
      "|           93.0|     240|\n",
      "|           94.0|     168|\n",
      "|           95.0|      82|\n",
      "|           96.0|     173|\n",
      "|           97.0|     160|\n",
      "|           98.0|      87|\n",
      "|           99.0|      64|\n",
      "|          100.0|     124|\n",
      "|          101.0|     110|\n",
      "|          102.0|      58|\n",
      "|          103.0|     134|\n",
      "|          104.0|     110|\n",
      "|          105.0|     144|\n",
      "|          106.0|     149|\n",
      "|          107.0|     130|\n",
      "|          108.0|     144|\n",
      "|          109.0|     154|\n",
      "|          110.0|     129|\n",
      "|          111.0|     136|\n",
      "|          112.0|      96|\n",
      "|          113.0|     138|\n",
      "|          114.0|     162|\n",
      "|          115.0|      77|\n",
      "|          116.0|     122|\n",
      "|          117.0|      57|\n",
      "|          118.0|     128|\n",
      "|          119.0|      60|\n",
      "|          120.0|      67|\n",
      "|          121.0|     121|\n",
      "|          122.0|      89|\n",
      "|          123.0|      63|\n",
      "|          124.0|      80|\n",
      "|          125.0|      44|\n",
      "|          126.0|      54|\n",
      "|          127.0|      31|\n",
      "|          128.0|      36|\n",
      "|          129.0|      50|\n",
      "|          130.0|      49|\n",
      "|          131.0|      76|\n",
      "|          132.0|     130|\n",
      "|          133.0|      99|\n",
      "|          134.0|      58|\n",
      "|          135.0|     109|\n",
      "|          136.0|     100|\n",
      "|          137.0|      72|\n",
      "|          138.0|      44|\n",
      "|          139.0|      65|\n",
      "|          140.0|     109|\n",
      "|          141.0|     112|\n",
      "|          142.0|      82|\n",
      "|          143.0|      81|\n",
      "|          144.0|     123|\n",
      "|          145.0|      66|\n",
      "|          146.0|      67|\n",
      "|          147.0|      12|\n",
      "|          148.0|      22|\n",
      "|          149.0|      67|\n",
      "|          150.0|      48|\n",
      "|          151.0|      33|\n",
      "|          152.0|      16|\n",
      "|          153.0|      62|\n",
      "|          154.0|      52|\n",
      "|          155.0|      67|\n",
      "|          156.0|      26|\n",
      "|          157.0|      15|\n",
      "|          158.0|      34|\n",
      "|          159.0|      17|\n",
      "|          160.0|      35|\n",
      "|          161.0|      53|\n",
      "|          162.0|      50|\n",
      "|          163.0|      39|\n",
      "|          164.0|       9|\n",
      "|          165.0|       9|\n",
      "|          166.0|      33|\n",
      "|          167.0|      28|\n",
      "|          168.0|      36|\n",
      "|          169.0|      60|\n",
      "|          170.0|      56|\n",
      "|          171.0|      41|\n",
      "|          172.0|      77|\n",
      "|          173.0|      57|\n",
      "|          174.0|      31|\n",
      "|          175.0|      53|\n",
      "|          176.0|      63|\n",
      "|          177.0|      61|\n",
      "|          178.0|      54|\n",
      "|          179.0|      90|\n",
      "|          180.0|      43|\n",
      "|          181.0|      77|\n",
      "|          182.0|      44|\n",
      "|          183.0|      24|\n",
      "|          184.0|      39|\n",
      "|          185.0|      34|\n",
      "|          186.0|      25|\n",
      "|          187.0|      25|\n",
      "|          188.0|      11|\n",
      "|          189.0|      27|\n",
      "|          190.0|      16|\n",
      "|          191.0|      16|\n",
      "|          192.0|      32|\n",
      "|          193.0|      38|\n",
      "|          194.0|      22|\n",
      "|          195.0|      14|\n",
      "|          197.0|      19|\n",
      "|          198.0|      19|\n",
      "|          200.0|       9|\n",
      "|          201.0|       2|\n",
      "|          204.0|      19|\n",
      "|          205.0|       9|\n",
      "|          206.0|      15|\n",
      "|          207.0|      21|\n",
      "|          208.0|      24|\n",
      "|          209.0|      56|\n",
      "|          210.0|      22|\n",
      "|          211.0|      39|\n",
      "|          212.0|       7|\n",
      "|          213.0|      28|\n",
      "|          214.0|       7|\n",
      "|          215.0|      36|\n",
      "|          216.0|       5|\n",
      "|          217.0|       2|\n",
      "|          218.0|      25|\n",
      "|          219.0|       5|\n",
      "|          220.0|      20|\n",
      "|          221.0|      30|\n",
      "|          222.0|      27|\n",
      "|          223.0|       4|\n",
      "|          224.0|       2|\n",
      "|          225.0|      25|\n",
      "|          226.0|      19|\n",
      "|          227.0|      21|\n",
      "|          228.0|      16|\n",
      "|          229.0|       5|\n",
      "|          230.0|      28|\n",
      "|          231.0|      22|\n",
      "|          232.0|      32|\n",
      "|          233.0|      48|\n",
      "|          234.0|      44|\n",
      "|          235.0|      28|\n",
      "|          236.0|      11|\n",
      "|          237.0|      23|\n",
      "|          238.0|      28|\n",
      "|          239.0|      26|\n",
      "|          240.0|       8|\n",
      "|          241.0|       1|\n",
      "|          244.0|      21|\n",
      "|          245.0|      35|\n",
      "|          246.0|       1|\n",
      "|          247.0|       8|\n",
      "|          248.0|       6|\n",
      "|          249.0|      12|\n",
      "|          250.0|      16|\n",
      "|          253.0|      20|\n",
      "|          254.0|       4|\n",
      "|          256.0|       1|\n",
      "|          257.0|      29|\n",
      "|          258.0|      32|\n",
      "|          259.0|       2|\n",
      "|          260.0|      15|\n",
      "|          261.0|      25|\n",
      "|          262.0|       1|\n",
      "|          263.0|       9|\n",
      "|          267.0|       5|\n",
      "|          270.0|       3|\n",
      "|          271.0|       8|\n",
      "|          272.0|       4|\n",
      "|          273.0|      27|\n",
      "|          274.0|      13|\n",
      "|          275.0|      14|\n",
      "|          277.0|       4|\n",
      "|          278.0|       8|\n",
      "|          279.0|       5|\n",
      "|          280.0|      24|\n",
      "|          281.0|       9|\n",
      "|          282.0|       2|\n",
      "|          283.0|       7|\n",
      "|          284.0|       1|\n",
      "|          285.0|       6|\n",
      "|          286.0|      27|\n",
      "|          287.0|       2|\n",
      "|          288.0|       2|\n",
      "|          289.0|      12|\n",
      "|          290.0|      41|\n",
      "|          291.0|      11|\n",
      "|          292.0|      51|\n",
      "|          293.0|      38|\n",
      "|          294.0|       1|\n",
      "|          295.0|      23|\n",
      "|          296.0|      34|\n",
      "|          297.0|      22|\n",
      "|          299.0|       7|\n",
      "|          300.0|      26|\n",
      "|          301.0|      14|\n",
      "|          302.0|      38|\n",
      "|          303.0|      11|\n",
      "|          304.0|      13|\n",
      "|          307.0|       9|\n",
      "|          309.0|       1|\n",
      "|          310.0|      18|\n",
      "|          315.0|       1|\n",
      "|          316.0|       6|\n",
      "|          321.0|       3|\n",
      "|          324.0|       8|\n",
      "|          325.0|      12|\n",
      "|          330.0|      12|\n",
      "|          334.0|       3|\n",
      "|          335.0|       6|\n",
      "|          345.0|       3|\n",
      "|          346.0|       4|\n",
      "|          348.0|       1|\n",
      "|          350.0|       1|\n",
      "|          351.0|       1|\n",
      "|          352.0|      15|\n",
      "|          353.0|       4|\n",
      "|          354.0|       1|\n",
      "|          355.0|       1|\n",
      "|          356.0|       1|\n",
      "|          357.0|       1|\n",
      "|          358.0|       1|\n",
      "|          360.0|       5|\n",
      "|          361.0|       3|\n",
      "|          367.0|       3|\n",
      "|          368.0|       8|\n",
      "|          369.0|       3|\n",
      "|          370.0|      12|\n",
      "|          371.0|       6|\n",
      "|          372.0|       4|\n",
      "|          373.0|       6|\n",
      "|          380.0|       6|\n",
      "|          381.0|       2|\n",
      "|          382.0|       5|\n",
      "|          383.0|       3|\n",
      "|          389.0|       3|\n",
      "|          390.0|       7|\n",
      "|          391.0|       2|\n",
      "|          392.0|       8|\n",
      "|          393.0|       6|\n",
      "|          397.0|       5|\n",
      "|          398.0|       5|\n",
      "|          400.0|       8|\n",
      "|          401.0|       2|\n",
      "|          405.0|       9|\n",
      "|          406.0|       2|\n",
      "|          407.0|       1|\n",
      "|          408.0|       5|\n",
      "|          409.0|       9|\n",
      "|          410.0|       1|\n",
      "|          411.0|       1|\n",
      "|          412.0|       1|\n",
      "|          413.0|       1|\n",
      "|          414.0|      18|\n",
      "|          416.0|       1|\n",
      "|          417.0|       1|\n",
      "|          418.0|       8|\n",
      "|          419.0|      17|\n",
      "|          420.0|       4|\n",
      "|          421.0|       1|\n",
      "|          422.0|       1|\n",
      "|          423.0|       8|\n",
      "|          430.0|       7|\n",
      "|          431.0|       4|\n",
      "|          432.0|       9|\n",
      "|          433.0|       6|\n",
      "|          435.0|       7|\n",
      "|          436.0|       3|\n",
      "|          439.0|       3|\n",
      "|          440.0|       7|\n",
      "|          441.0|      10|\n",
      "|          442.0|       5|\n",
      "|          443.0|       5|\n",
      "|          444.0|      10|\n",
      "|          445.0|       8|\n",
      "|          452.0|       7|\n",
      "|          453.0|      19|\n",
      "|          454.0|       6|\n",
      "|          459.0|       3|\n",
      "|          460.0|      14|\n",
      "|          462.0|      17|\n",
      "|          463.0|      11|\n",
      "|          464.0|       1|\n",
      "|          465.0|      11|\n",
      "|          466.0|       5|\n",
      "|          467.0|       5|\n",
      "|          468.0|       2|\n",
      "|          470.0|       5|\n",
      "|          471.0|      14|\n",
      "|          472.0|       9|\n",
      "|          473.0|       7|\n",
      "|          474.0|      18|\n",
      "|          475.0|      18|\n",
      "|          476.0|       3|\n",
      "|          487.0|       7|\n",
      "|          494.0|       7|\n",
      "|          495.0|       3|\n",
      "|          497.0|       4|\n",
      "|          498.0|       7|\n",
      "|          501.0|       7|\n",
      "|          502.0|       3|\n",
      "|          505.0|       2|\n",
      "|          506.0|       6|\n",
      "|          507.0|       3|\n",
      "|          512.0|       4|\n",
      "|          513.0|       6|\n",
      "|          520.0|       6|\n",
      "|          521.0|       2|\n",
      "|          522.0|       5|\n",
      "|          523.0|       3|\n",
      "|          524.0|       1|\n",
      "|          525.0|       1|\n",
      "|          526.0|       2|\n",
      "|          527.0|       2|\n",
      "|          528.0|       2|\n",
      "|          529.0|       6|\n",
      "|          530.0|      10|\n",
      "|          531.0|       9|\n",
      "|          532.0|      12|\n",
      "|          533.0|       2|\n",
      "|          535.0|      17|\n",
      "|          538.0|       1|\n",
      "|          539.0|       1|\n",
      "|          541.0|       1|\n",
      "|          543.0|       1|\n",
      "|          544.0|       1|\n",
      "|          545.0|       1|\n",
      "|          568.0|       3|\n",
      "|          569.0|       7|\n",
      "|          571.0|       4|\n",
      "|          572.0|       6|\n",
      "|          581.0|       6|\n",
      "|          582.0|       2|\n",
      "|          590.0|       3|\n",
      "|          591.0|       7|\n",
      "|          593.0|       4|\n",
      "|          594.0|       6|\n",
      "|          626.0|      24|\n",
      "|          627.0|       4|\n",
      "|          637.0|      13|\n",
      "|          638.0|       6|\n",
      "|          639.0|       5|\n",
      "|          640.0|       5|\n",
      "|          649.0|      10|\n",
      "|          650.0|       4|\n",
      "|          651.0|       4|\n",
      "|          661.0|       2|\n",
      "|          662.0|       8|\n",
      "|          681.0|       8|\n",
      "|          682.0|       3|\n",
      "|          713.0|       7|\n",
      "|          714.0|       3|\n",
      "+---------------+--------+\n",
      "\n"
     ]
    }
   ],
   "source": [
    "third_table_final.groupBy('departure_delay').count().orderBy('departure_delay').show(536)"
   ]
  },
  {
   "cell_type": "markdown",
   "metadata": {},
   "source": [
    "- computing the mean of our delays:"
   ]
  },
  {
   "cell_type": "code",
   "execution_count": 100,
   "metadata": {
    "scrolled": true
   },
   "outputs": [
    {
     "name": "stdout",
     "output_type": "stream",
     "text": [
      "+------------------+\n",
      "|avg(arrival_delay)|\n",
      "+------------------+\n",
      "|0.7878559556891835|\n",
      "+------------------+\n",
      "\n"
     ]
    }
   ],
   "source": [
    "third_table_final.select('arrival_delay').agg({\"arrival_delay\": \"avg\"}).show()"
   ]
  },
  {
   "cell_type": "code",
   "execution_count": 101,
   "metadata": {
    "scrolled": true
   },
   "outputs": [
    {
     "name": "stdout",
     "output_type": "stream",
     "text": [
      "+--------------------+\n",
      "|avg(departure_delay)|\n",
      "+--------------------+\n",
      "|  0.8005839062540449|\n",
      "+--------------------+\n",
      "\n"
     ]
    }
   ],
   "source": [
    "third_table_final.select('departure_delay').agg({\"departure_delay\": \"avg\"}).show()"
   ]
  },
  {
   "cell_type": "markdown",
   "metadata": {},
   "source": [
    "### STATISTICS TETS"
   ]
  },
  {
   "cell_type": "markdown",
   "metadata": {},
   "source": [
    "- In this section we will produce statistics tests in order to see if our bins delays can fit well a known distribution (we were thinking about a logNormal distr).\n",
    "- First we will produce the test on the whole dataset, that means on the third table.\n",
    "- then we will run a test on the delays on each station (group by station name)\n",
    "- after this we will do the same for each transport line (group by the line_id, right now the columns is erroneusly called 'train_line')\n",
    "- then, the same thing for each trip (group by trip_id)\n",
    "- finally, same tests for hour of the day (we need to choose how to split the day, right now the column 'hour' has 24 distinct values of course)."
   ]
  },
  {
   "cell_type": "code",
   "execution_count": null,
   "metadata": {
    "collapsed": true
   },
   "outputs": [],
   "source": [
    "import numpy as np\n",
    "import matplotlib.pyplot as plt\n",
    "from scipy.stats import lognorm"
   ]
  },
  {
   "cell_type": "markdown",
   "metadata": {},
   "source": [
    "Shall we consider that all delay distributions are log normals, no matter the groupby ? No function to guess the distrib, only tests to assess normality."
   ]
  },
  {
   "cell_type": "markdown",
   "metadata": {},
   "source": [
    "returns a tupple with two arrays, ticks and counts (pass number of bins into parameters, 20 here):"
   ]
  },
  {
   "cell_type": "code",
   "execution_count": null,
   "metadata": {
    "collapsed": true
   },
   "outputs": [],
   "source": [
    "#temp=third_table_final.select('departure_delay').rdd.flatMap(lambda x: x).histogram(20)"
   ]
  },
  {
   "cell_type": "code",
   "execution_count": null,
   "metadata": {
    "collapsed": true
   },
   "outputs": [],
   "source": [
    "#delay_per_station=third_table_final.groupBy('station_name','departure_delay').count().orderBy('station_name').collect()"
   ]
  },
  {
   "cell_type": "code",
   "execution_count": null,
   "metadata": {
    "collapsed": true
   },
   "outputs": [],
   "source": [
    "#def plot_hist_delay(bins,arrival_or_departure):\n",
    "    #temp=third_table_final.select(arrival_or_departure).rdd.flatMap(lambda x: x).histogram(bins)\n",
    "   # plt.bar(temp)"
   ]
  },
  {
   "cell_type": "code",
   "execution_count": null,
   "metadata": {
    "collapsed": true
   },
   "outputs": [],
   "source": [
    "#count_dep_delay_panda=third_table_final.groupBy('departure_delay').count().orderBy('departure_delay').toPandas()\n",
    "#count_arr_delay_panda=third_table_final.groupBy('arrival_delay').count().orderBy('arrival_delay').toPandas()"
   ]
  },
  {
   "cell_type": "markdown",
   "metadata": {},
   "source": [
    "We want to fit the lognormfit to all the delays per trip_id and line:"
   ]
  },
  {
   "cell_type": "code",
   "execution_count": null,
   "metadata": {
    "collapsed": true
   },
   "outputs": [],
   "source": [
    "trip_window = Window.partitionBy('trip_id')\n",
    "train_line_window = Window.partitionBy('train_line')"
   ]
  },
  {
   "cell_type": "code",
   "execution_count": null,
   "metadata": {
    "collapsed": true
   },
   "outputs": [],
   "source": [
    "x=lognorm.fit(third_table_final['departure_delay'].over(trip_window).alias('fit'))"
   ]
  },
  {
   "cell_type": "code",
   "execution_count": null,
   "metadata": {
    "collapsed": true
   },
   "outputs": [],
   "source": [
    " departure_delay_fit = third_table_final.select('trip_id','derparture_delay',x)"
   ]
  },
  {
   "cell_type": "code",
   "execution_count": null,
   "metadata": {
    "collapsed": true
   },
   "outputs": [],
   "source": []
  },
  {
   "cell_type": "code",
   "execution_count": null,
   "metadata": {
    "collapsed": true
   },
   "outputs": [],
   "source": []
  },
  {
   "cell_type": "code",
   "execution_count": null,
   "metadata": {
    "collapsed": true
   },
   "outputs": [],
   "source": []
  },
  {
   "cell_type": "code",
   "execution_count": null,
   "metadata": {
    "collapsed": true
   },
   "outputs": [],
   "source": []
  },
  {
   "cell_type": "code",
   "execution_count": null,
   "metadata": {
    "collapsed": true
   },
   "outputs": [],
   "source": []
  },
  {
   "cell_type": "code",
   "execution_count": null,
   "metadata": {
    "collapsed": true
   },
   "outputs": [],
   "source": []
  },
  {
   "cell_type": "code",
   "execution_count": null,
   "metadata": {
    "collapsed": true
   },
   "outputs": [],
   "source": []
  },
  {
   "cell_type": "code",
   "execution_count": null,
   "metadata": {
    "collapsed": true
   },
   "outputs": [],
   "source": []
  },
  {
   "cell_type": "code",
   "execution_count": null,
   "metadata": {
    "collapsed": true
   },
   "outputs": [],
   "source": []
  },
  {
   "cell_type": "code",
   "execution_count": null,
   "metadata": {
    "collapsed": true
   },
   "outputs": [],
   "source": []
  },
  {
   "cell_type": "code",
   "execution_count": null,
   "metadata": {
    "collapsed": true
   },
   "outputs": [],
   "source": []
  },
  {
   "cell_type": "code",
   "execution_count": null,
   "metadata": {
    "collapsed": true
   },
   "outputs": [],
   "source": []
  },
  {
   "cell_type": "code",
   "execution_count": null,
   "metadata": {
    "collapsed": true
   },
   "outputs": [],
   "source": [
    "sc.stop()"
   ]
  },
  {
   "cell_type": "code",
   "execution_count": null,
   "metadata": {
    "collapsed": true
   },
   "outputs": [],
   "source": []
  }
 ],
 "metadata": {
  "kernelspec": {
   "display_name": "Python 3",
   "language": "python",
   "name": "python3"
  },
  "language_info": {
   "codemirror_mode": {
    "name": "ipython",
    "version": 3
   },
   "file_extension": ".py",
   "mimetype": "text/x-python",
   "name": "python",
   "nbconvert_exporter": "python",
   "pygments_lexer": "ipython3",
   "version": "3.6.1"
  }
 },
 "nbformat": 4,
 "nbformat_minor": 2
}
